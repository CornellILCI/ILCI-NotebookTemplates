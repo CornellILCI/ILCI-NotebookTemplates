{
 "cells": [
  {
   "cell_type": "markdown",
   "id": "4b9e9431-acfa-4bf2-a333-cc3dcdac349b",
   "metadata": {},
   "source": [
    "# Tutorial Name"
   ]
  },
  {
   "cell_type": "markdown",
   "id": "e5f30d16-b84e-472b-bce0-d8b61cb58a6a",
   "metadata": {},
   "source": [
    "## Enter your notebook title here\n",
    "\n",
    "**Objective**: Enter your objective here  \n",
    "**Data**: Describe your data set here  \n",
    "**User and contact**: Enter your name and contact here\n",
    "\n",
    "### Table of contents\n",
    "* [Notes](#Notes) \n",
    "* [Libraries](#Libraries)\n",
    "* [Parameters and functions](#Parameters-and-functions)\n",
    "* [Data](#Data)\n",
    "* [Analysis](#Analysis) \n",
    "* [References and additional resources](#References-and-additional-resources)"
   ]
  },
  {
   "cell_type": "code",
   "execution_count": null,
   "id": "35ac44c2-0b98-4e97-b197-3b0304af7b89",
   "metadata": {
    "tags": []
   },
   "outputs": [],
   "source": [
    "Sys.Date()"
   ]
  },
  {
   "cell_type": "code",
   "execution_count": null,
   "id": "3282fae0-d838-4fa1-a4da-c724ef890094",
   "metadata": {
    "tags": []
   },
   "outputs": [],
   "source": [
    "getwd()"
   ]
  },
  {
   "cell_type": "markdown",
   "id": "a8e66485-826b-4eb7-aad5-9205fd5042fc",
   "metadata": {},
   "source": [
    "## Notes"
   ]
  },
  {
   "cell_type": "markdown",
   "id": "f8d11277-53b2-4f7b-b367-9ec32bcfd7f8",
   "metadata": {
    "tags": []
   },
   "source": []
  },
  {
   "cell_type": "markdown",
   "id": "64585ea9-10a3-4e15-b2b2-509c3f82a2db",
   "metadata": {},
   "source": [
    "## Libraries"
   ]
  },
  {
   "cell_type": "code",
   "execution_count": null,
   "id": "204ed389-08cd-4c34-b321-d0a9bb30344a",
   "metadata": {
    "tags": []
   },
   "outputs": [],
   "source": []
  },
  {
   "cell_type": "markdown",
   "id": "4256850f-3322-4928-ae7b-8d01bd67d5ae",
   "metadata": {},
   "source": [
    "## Parameters and functions"
   ]
  },
  {
   "cell_type": "code",
   "execution_count": null,
   "id": "edfcb824-f82b-4192-8f17-d36f18faf429",
   "metadata": {
    "tags": []
   },
   "outputs": [],
   "source": []
  },
  {
   "cell_type": "markdown",
   "id": "9156ec35-9853-4df5-8e49-9b282e78322a",
   "metadata": {
    "tags": []
   },
   "source": [
    "## Data"
   ]
  },
  {
   "cell_type": "code",
   "execution_count": null,
   "id": "2233e3a5-dfaf-4eda-a0c7-06c58fca5820",
   "metadata": {},
   "outputs": [],
   "source": []
  },
  {
   "cell_type": "markdown",
   "id": "cdd0fd55-0a50-4746-b5af-391425f1831b",
   "metadata": {},
   "source": [
    "## Analysis"
   ]
  },
  {
   "cell_type": "code",
   "execution_count": null,
   "id": "35ad6216-d5ac-45f6-8d48-df0f9be09515",
   "metadata": {
    "tags": []
   },
   "outputs": [],
   "source": []
  },
  {
   "cell_type": "markdown",
   "id": "2f26ba5d-61da-446e-9aac-b5e0684a57eb",
   "metadata": {},
   "source": [
    "## References and additional resources"
   ]
  },
  {
   "cell_type": "code",
   "execution_count": null,
   "id": "90a2aec4-62ee-47ea-990a-5ff4c2235d72",
   "metadata": {},
   "outputs": [],
   "source": []
  }
 ],
 "metadata": {
  "kernelspec": {
   "display_name": "R 4.1",
   "language": "R",
   "name": "ir4.1"
  },
  "language_info": {
   "codemirror_mode": "r",
   "file_extension": ".r",
   "mimetype": "text/x-r-source",
   "name": "R",
   "pygments_lexer": "r",
   "version": "4.1.2"
  }
 },
 "nbformat": 4,
 "nbformat_minor": 5
}
