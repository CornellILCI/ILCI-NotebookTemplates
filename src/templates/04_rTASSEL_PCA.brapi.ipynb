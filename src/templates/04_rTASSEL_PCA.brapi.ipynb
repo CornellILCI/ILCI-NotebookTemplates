{
 "cells": [
  {
   "cell_type": "markdown",
   "id": "21ee1444-2da6-4591-b2ac-aafb8676d7c6",
   "metadata": {},
   "source": [
    "# Tutorial: Principal Component Analysis (PCA) using rTASSEL"
   ]
  },
  {
   "cell_type": "markdown",
   "id": "bc08e2e6-ac15-408f-aa7f-a123b8f57100",
   "metadata": {},
   "source": [
    "## Enter your notebook title here\n",
    "\n",
    "**Objective**: Enter your objective here  \n",
    "**Data**: Describe your data set here  \n",
    "**User and contact**: Enter your name and contact here\n",
    "\n",
    "### Table of contents\n",
    "* [Notes](#Notes) \n",
    "* [Libraries](#Libraries)\n",
    "* [Parameters and functions](#Parameters-and-functions)\n",
    "* [Data](#Data)\n",
    "    + [Load metadata into R](#Load-metadata-into-R)\n",
    "    + [Genotype data](#Genotype-data)\n",
    "        + [Retrieve BrAPI data and filter](#Retrieve-BrAPI-data-and-filter)\n",
    "        + [Inspect genotype data in R](#Inspect-genotype-data-in-R)\n",
    "        + [Load genotype data into rTASSEL](#Load-genotype-data-into-rTASSEL)\n",
    "* [Analysis](#Analysis)\n",
    "    + [Filter genotype data in rTASSEL](#Filter-genotype-data-in-rTASSEL)\n",
    "    + [PCA with genotype data](#PCA-with-genotype-data)\n",
    "    + [Add metadata to scatterplot](#Add-metadata-to-scatterplot)\n",
    "* [References and additional resources](#References-and-additional-resources)"
   ]
  },
  {
   "cell_type": "markdown",
   "id": "8a3133fd-eaa0-42d7-9e1c-fed82141d8b5",
   "metadata": {},
   "source": [
    "## Notes\n",
    "\n",
    "This tutorial assumes: \n",
    "1. You already know how to load your data via a BrAPI database into rTASSEL and will inspect your data:\n",
    "    - See 01_rTASSEL_load_data.brapi.ipynb on how to load files via BrAPI databases.\n",
    "2. You will filter your genotype data as appropriate for your data set and analysis:\n",
    "    - See 02_rTASSEL_GenotypeFiltering.brapi.ipynb for a tutorial on how to filter genotype data when retrieving data via BrAPI and using rTASSEL.\n",
    "3. You have a csv file for metadata with a \"Taxa\" field that matches the taxa in your genotype file. (Alternatively, you can use data from a phenotype table imported via BrAPI.) \n",
    "\n",
    "More on the `pca()` function can be found [here](https://rtassel.maizegenetics.net/reference/pca.html), `plotScree()` [here](https://rtassel.maizegenetics.net/reference/plotScree.html) and `plotPCA()` [here](https://rtassel.maizegenetics.net/reference/plotPCA.html)."
   ]
  },
  {
   "cell_type": "code",
   "execution_count": null,
   "id": "d7a1d9fe-dc58-45f1-ae2f-45c2415de832",
   "metadata": {
    "tags": []
   },
   "outputs": [],
   "source": [
    "getwd()"
   ]
  },
  {
   "cell_type": "code",
   "execution_count": null,
   "id": "5de0fa3d-ffed-4a51-b4a0-b027e525bb92",
   "metadata": {
    "tags": []
   },
   "outputs": [],
   "source": [
    "Sys.Date()"
   ]
  },
  {
   "cell_type": "markdown",
   "id": "5d4e1866-3565-44c7-ae94-0e1483a2bb09",
   "metadata": {},
   "source": [
    "## Libraries"
   ]
  },
  {
   "cell_type": "code",
   "execution_count": null,
   "id": "31a3ea94-71ca-4288-8836-28c3dbcd9c3c",
   "metadata": {
    "tags": []
   },
   "outputs": [],
   "source": [
    "library(rTASSEL)\n",
    "library(QBMS)"
   ]
  },
  {
   "cell_type": "markdown",
   "id": "1e3a1502-d269-4528-bc9b-2c581bdd7af2",
   "metadata": {},
   "source": [
    "## Parameters and functions"
   ]
  },
  {
   "cell_type": "markdown",
   "id": "6b5234d5-bf50-48b6-a270-104728e7dc1a",
   "metadata": {},
   "source": [
    "**Please edit the paths to your own data:**"
   ]
  },
  {
   "cell_type": "code",
   "execution_count": null,
   "id": "a2d3b2f7-02ab-4b1a-a2be-6c1f9dab928a",
   "metadata": {
    "tags": []
   },
   "outputs": [],
   "source": [
    "# Path to taxa metadata\n",
    "myMetadataPath <- \"/path/to/metadata\""
   ]
  },
  {
   "cell_type": "markdown",
   "id": "b1cd4f34-aa3a-4d28-9919-e260301df750",
   "metadata": {},
   "source": [
    "Create a function for setting the dimensions of a plot:"
   ]
  },
  {
   "cell_type": "code",
   "execution_count": null,
   "id": "56358e83-a220-48eb-91e9-82e75aa92bf8",
   "metadata": {
    "tags": []
   },
   "outputs": [],
   "source": [
    "fig <- function(width, heigth) {\n",
    "    options(\n",
    "        repr.plot.width  = width, \n",
    "        repr.plot.height = heigth\n",
    "    )\n",
    "}"
   ]
  },
  {
   "cell_type": "markdown",
   "id": "77e032b7-4595-4f04-976d-3da7c56d7b75",
   "metadata": {},
   "source": [
    "## Data"
   ]
  },
  {
   "cell_type": "markdown",
   "id": "7e46dc58-13ce-49c7-a9d4-abccc8278239",
   "metadata": {},
   "source": [
    "### Load metadata into R"
   ]
  },
  {
   "cell_type": "code",
   "execution_count": null,
   "id": "161d56be-c1c9-45a6-bae6-21257c09c423",
   "metadata": {
    "tags": []
   },
   "outputs": [],
   "source": [
    "taxaMetadata <- read.csv(file = myMetadataPath)\n",
    "taxaMetadata |> head()"
   ]
  },
  {
   "cell_type": "markdown",
   "id": "3166ff4f-57ab-417d-bbe7-97a588ab9034",
   "metadata": {},
   "source": [
    "### Genotype data"
   ]
  },
  {
   "cell_type": "markdown",
   "id": "f5edcd91-a12e-406f-96a5-f697cc2a4ee6",
   "metadata": {},
   "source": [
    "#### Retrieve BrAPI data and filter"
   ]
  },
  {
   "cell_type": "markdown",
   "id": "96223da7-33f5-4c91-8c2e-2dc972b1ea4d",
   "metadata": {},
   "source": [
    "**You will need to log into Gigwa using the BrAPI helper.**"
   ]
  },
  {
   "cell_type": "code",
   "execution_count": null,
   "id": "10a09c81-7476-4e3f-8403-71f3d9ef8538",
   "metadata": {
    "tags": []
   },
   "outputs": [],
   "source": [
    "geno_provider$gigwa_list_dbs()"
   ]
  },
  {
   "cell_type": "markdown",
   "id": "adf444a8-eac4-443d-8423-f07adc31ae7a",
   "metadata": {},
   "source": [
    "**Please edit the code to set your database (db):**"
   ]
  },
  {
   "cell_type": "code",
   "execution_count": null,
   "id": "482934a8-adce-433a-8e22-20a6849cde03",
   "metadata": {
    "tags": []
   },
   "outputs": [],
   "source": [
    "geno_provider$gigwa_set_db(\"myDataBase\")"
   ]
  },
  {
   "cell_type": "code",
   "execution_count": null,
   "id": "4abdbf67-0b8f-40d5-9856-f9c08b7bf6bb",
   "metadata": {
    "tags": []
   },
   "outputs": [],
   "source": [
    "geno_provider$gigwa_list_projects()"
   ]
  },
  {
   "cell_type": "markdown",
   "id": "2c01783e-2e66-4ceb-8c48-30aef2918435",
   "metadata": {},
   "source": [
    "**Please edit the code to set your project:**"
   ]
  },
  {
   "cell_type": "code",
   "execution_count": null,
   "id": "62c9b71f-d4c0-4b85-86ba-d68b3c943572",
   "metadata": {
    "tags": []
   },
   "outputs": [],
   "source": [
    "geno_provider$gigwa_set_project(\"myProject\")"
   ]
  },
  {
   "cell_type": "markdown",
   "id": "4c5d854d-8065-47be-83de-373e003f0f08",
   "metadata": {},
   "source": [
    "**Edit the below code to use appropriate filters for your data set and analysis, additional filtering can be done after retrieving the data and loading into rTASSEL.** "
   ]
  },
  {
   "cell_type": "code",
   "execution_count": null,
   "id": "5d153baa-a652-49b0-8aaf-4b910d7590a8",
   "metadata": {
    "tags": []
   },
   "outputs": [],
   "source": [
    "genoDataFromGigwa <- geno_provider$gigwa_get_variants(\n",
    "    max_missing = 0.2,\n",
    "    min_maf = 0.05)"
   ]
  },
  {
   "cell_type": "markdown",
   "id": "d9a06c0b-2b9e-4740-96f2-a403a911ce66",
   "metadata": {},
   "source": [
    "#### Inspect genotype data in R"
   ]
  },
  {
   "cell_type": "code",
   "execution_count": null,
   "id": "cf443c14-34cb-4adc-bda5-4912c40edf49",
   "metadata": {
    "tags": []
   },
   "outputs": [],
   "source": [
    "genoDataFromGigwa |> head()\n",
    "genoDataFromGigwa |> dim()\n",
    "genoDataFromGigwa |> names()"
   ]
  },
  {
   "cell_type": "markdown",
   "id": "4aba36bb-d311-4df9-822f-7e2c072e8d4b",
   "metadata": {},
   "source": [
    "#### Load genotype data into rTASSEL "
   ]
  },
  {
   "cell_type": "code",
   "execution_count": null,
   "id": "912c0364-6c3d-4107-a22a-6e16f4ddfdd0",
   "metadata": {
    "tags": []
   },
   "outputs": [],
   "source": [
    "tasGeno <- genoDataFromGigwa |> rTASSEL::readGenotypeTableFromGigwa()"
   ]
  },
  {
   "cell_type": "code",
   "execution_count": null,
   "id": "18c24e7d-9b9d-46c3-b737-1b298a270226",
   "metadata": {
    "tags": []
   },
   "outputs": [],
   "source": [
    "tasGeno"
   ]
  },
  {
   "cell_type": "markdown",
   "id": "16c47aae-6c6d-4ac8-a73e-061b07358ccf",
   "metadata": {},
   "source": [
    "## Analysis"
   ]
  },
  {
   "cell_type": "markdown",
   "id": "5601d421-aed9-4f84-88eb-0d68a91e464d",
   "metadata": {},
   "source": [
    "### Filter genotype data in rTASSEL"
   ]
  },
  {
   "cell_type": "markdown",
   "id": "c07f6e93-200d-4158-a8a3-67eead252f12",
   "metadata": {},
   "source": [
    "Perform additional filtering steps in rTASSEL for your data set and analysis:  \n",
    "- See 02_rTASSEL_GenotypeFiltering.brapi.ipynb for more details about filtering."
   ]
  },
  {
   "cell_type": "code",
   "execution_count": null,
   "id": "bce134be-3ba2-429c-90b9-301e23302d06",
   "metadata": {},
   "outputs": [],
   "source": [
    "# Example only\n",
    "#tasGeno |>\n",
    "#    filterGenotypeTableTaxa(\n",
    "#        minNotMissing = .5\n",
    "#    ) |>\n",
    "#    filterGenotypeTableSites(\n",
    "#        siteMinAlleleFreq = 0.05,\n",
    "#        maxHeterozygous = 0.5\n",
    "#    )"
   ]
  },
  {
   "cell_type": "markdown",
   "id": "9a144777-d8a0-4516-a04f-8b808c34c271",
   "metadata": {},
   "source": [
    "### PCA with genotype data "
   ]
  },
  {
   "cell_type": "markdown",
   "id": "ab315d03-67cc-42a0-a323-b74ad6a6d5de",
   "metadata": {},
   "source": [
    "Run principle component analysis on your genotype data using the `pca()` function in rTASSEL:"
   ]
  },
  {
   "cell_type": "code",
   "execution_count": null,
   "id": "6caa825c-0079-413f-a2d2-4f461472349a",
   "metadata": {},
   "outputs": [],
   "source": [
    "pcaGeno <- tasGeno |> rTASSEL::pca()"
   ]
  },
  {
   "cell_type": "code",
   "execution_count": null,
   "id": "e72c9d83-7790-4eac-9fd8-b84318d31139",
   "metadata": {},
   "outputs": [],
   "source": [
    "pcaGeno"
   ]
  },
  {
   "cell_type": "code",
   "execution_count": null,
   "id": "5555e116-b614-4997-9a84-ce58990a1d33",
   "metadata": {},
   "outputs": [],
   "source": [
    "pcaGeno |> reportNames()"
   ]
  },
  {
   "cell_type": "code",
   "execution_count": null,
   "id": "ac36b4c7-4626-4672-a845-061f3761749e",
   "metadata": {},
   "outputs": [],
   "source": [
    "pcaGeno |> tableReport(\"Eigenvalues_Datum\") |> head()"
   ]
  },
  {
   "cell_type": "markdown",
   "id": "0639258e-daf6-436c-a958-b0770b6e8100",
   "metadata": {},
   "source": [
    "Set plot dimensions with the figure function created at the start of the notebook:"
   ]
  },
  {
   "cell_type": "code",
   "execution_count": null,
   "id": "753dd893-f6a7-4522-ae90-e5ae3e002456",
   "metadata": {
    "tags": []
   },
   "outputs": [],
   "source": [
    "fig(10,10)"
   ]
  },
  {
   "cell_type": "markdown",
   "id": "fd494841-1d58-449a-82b3-a7d578adb4b2",
   "metadata": {},
   "source": [
    "Create a scree plot using the eigenvalues generated in your PCA with the `plotScree()` function:"
   ]
  },
  {
   "cell_type": "code",
   "execution_count": null,
   "id": "864c5cfb-525d-4883-9885-207bd39964db",
   "metadata": {},
   "outputs": [],
   "source": [
    "pcaGeno |> plotScree()"
   ]
  },
  {
   "cell_type": "code",
   "execution_count": null,
   "id": "d43285b5-4d49-4a0a-b791-b896ff464890",
   "metadata": {},
   "outputs": [],
   "source": [
    "pcaGeno |> tableReport(\"PC_Datum\") |> head()"
   ]
  },
  {
   "cell_type": "markdown",
   "id": "8b0d99eb-eb23-4b08-9bdd-f4a3e1c0703b",
   "metadata": {
    "tags": []
   },
   "source": [
    "Create a scatter plot with your chosen principal components using `plotPCA()`:"
   ]
  },
  {
   "cell_type": "code",
   "execution_count": null,
   "id": "080150f3-c167-4954-b8e5-00f66a4f808b",
   "metadata": {},
   "outputs": [],
   "source": [
    "pcaGeno |> plotPCA(\n",
    "    x = 1,\n",
    "    y = 2\n",
    ")"
   ]
  },
  {
   "cell_type": "markdown",
   "id": "3a838a35-0056-4971-92cb-c9262eb6b41b",
   "metadata": {},
   "source": [
    "### Add metadata to scatterplot"
   ]
  },
  {
   "cell_type": "code",
   "execution_count": null,
   "id": "45386f3e-299b-4324-87be-ad250f2d458b",
   "metadata": {
    "tags": []
   },
   "outputs": [],
   "source": [
    "taxaMetadata |> head()"
   ]
  },
  {
   "cell_type": "code",
   "execution_count": null,
   "id": "7db9263a-5b6d-44c2-b644-eefed94eca0f",
   "metadata": {
    "tags": []
   },
   "outputs": [],
   "source": [
    "pcaGeno |> plotPCA(\n",
    "    x = 1,\n",
    "    y = 2,\n",
    "    metadata = taxaMetadata,\n",
    "    mCol = \"Subpopulation\")"
   ]
  },
  {
   "cell_type": "markdown",
   "id": "fb3a4006-ae80-4d62-a8f0-5ecec7567e93",
   "metadata": {},
   "source": [
    "## References and additional resources"
   ]
  },
  {
   "cell_type": "markdown",
   "id": "8bcca1f4-9a47-4a7b-9cae-b1d8133bce8d",
   "metadata": {},
   "source": [
    "**To cite rTASSEL, please use the following citation:**\n",
    "\n",
    "Monier et al., (2022). rTASSEL: An R interface to TASSEL for analyzing genomic diversity. Journal of Open Source Software, 7(76), 4530, https://doi.org/10.21105/joss.04530."
   ]
  },
  {
   "cell_type": "markdown",
   "id": "e4e4801f-7215-42f8-ac44-26a3f79768af",
   "metadata": {},
   "source": [
    "You can find more information about rTASSEL [here](https://rtassel.maizegenetics.net)\n",
    "\n",
    "and an rTASSEL tutorial in binder [here](https://mybinder.org/v2/gh/btmonier/rTASSEL_sandbox/HEAD?labpath=getting_started.ipynb)."
   ]
  },
  {
   "cell_type": "markdown",
   "id": "5110e016-f77b-40a6-8080-5001a79e40ef",
   "metadata": {},
   "source": [
    "**Please also cite QBMS using the following citation:**  \n",
    "\n",
    "Al-Shamaa K (2023). QBMS: Query the Breeding Management System(s). R package version 0.9.1, https://icarda-git.github.io/QBMS/."
   ]
  }
 ],
 "metadata": {
  "kernelspec": {
   "display_name": "R 4.1",
   "language": "R",
   "name": "ir4.1"
  },
  "language_info": {
   "codemirror_mode": "r",
   "file_extension": ".r",
   "mimetype": "text/x-r-source",
   "name": "R",
   "pygments_lexer": "r",
   "version": "4.1.2"
  }
 },
 "nbformat": 4,
 "nbformat_minor": 5
}
