{
 "cells": [
  {
   "cell_type": "markdown",
   "id": "27aea925-43b3-45ff-85e0-1608608f1ccd",
   "metadata": {},
   "source": [
    "# Tutorial: Principal Coordinate Analysis using rTASSEL"
   ]
  },
  {
   "cell_type": "markdown",
   "id": "f5c7804d-a687-4a3c-86be-30ef182bb676",
   "metadata": {
    "tags": []
   },
   "source": [
    "## Enter your title here  \n",
    "\n",
    "**Objective**: Describe the objective of this analysis   \n",
    "**Data**: Describe your data       \n",
    "**User and contact**: your name, your contact     \n",
    "\n",
    "### Table of contents\n",
    "* [Notes](#Notes) \n",
    "* [Load libraries](#Load-libraries)\n",
    "* [Parameters and functions](#Parameters-and-functions)\n",
    "* [Data](#Data)\n",
    "* [Analysis](#Analysis)\n",
    "    * [PCA with genotype data](#PCA-with-genotype-data)\n",
    "    * [Add metadata to PCA](#Add-metadata-to-PCA)\n",
    "* [References and additional resources](#References-and-additional-resources)"
   ]
  },
  {
   "cell_type": "markdown",
   "id": "a159e2ca-5f78-4c7b-b700-5ba27c156352",
   "metadata": {},
   "source": [
    "## Notes\n",
    "\n",
    "This tutorial assumes: \n",
    "1. You already know how to load your data (via a flate file or BrAPI database) into rTASSEL and have inspected your data:\n",
    "- See 01_rTASSEL_Load_Data.ipynb for a tutorial on how to load flat tiles into rTASSEL\n",
    "- See brapi_template.ipynb on how to load files via BrAPI databases\n",
    "2. You filtered your genotype data\n",
    "- See 02_rTASSEL_filter_geno.ipynb for a tutorial on how to filter genotype data in rTASSEL\n",
    "3. You have a csv file for metadata with a \"Taxa\" field that matches the taxa in your genotype file"
   ]
  },
  {
   "cell_type": "code",
   "execution_count": null,
   "id": "de504eb3-ce41-458a-b1fd-8bfe061edcc4",
   "metadata": {
    "tags": []
   },
   "outputs": [],
   "source": [
    "getwd()"
   ]
  },
  {
   "cell_type": "code",
   "execution_count": null,
   "id": "665b4919-4bce-4152-9ff2-1dfa1d34d101",
   "metadata": {
    "tags": []
   },
   "outputs": [],
   "source": [
    "Sys.Date()"
   ]
  },
  {
   "cell_type": "markdown",
   "id": "538e15e0-e96c-4d22-8324-d536d15428a8",
   "metadata": {
    "tags": []
   },
   "source": [
    "## Load libraries"
   ]
  },
  {
   "cell_type": "code",
   "execution_count": null,
   "id": "053d65a6-18b2-470b-bfd7-1dc361578d35",
   "metadata": {
    "tags": []
   },
   "outputs": [],
   "source": [
    "library(data.table) #Efficient I/O handling for delimited data\n",
    "library(ggplot2) #Plotting and visualization\n",
    "library(magrittr) #Implement `%>%` function for functional programming\n",
    "library(dplyr) #Manipulate data \n",
    "library(rTASSEL) #R interface to TASSEL"
   ]
  },
  {
   "cell_type": "markdown",
   "id": "135703c2-5df2-4461-a2f9-e270e98b07c1",
   "metadata": {},
   "source": [
    "## Parameters and functions"
   ]
  },
  {
   "cell_type": "code",
   "execution_count": null,
   "id": "f14dff1a-70c5-44ae-bcd2-190ff44a3f3a",
   "metadata": {},
   "outputs": [],
   "source": [
    "### PLEASE EDIT WITH THE PATHS TO YOUR DATA ###\n",
    "\n",
    "# Path to genotype data\n",
    "myGenoPath <- \"/path/to/genotype/data\"\n",
    "\n",
    "# Path to metadata \n",
    "myMetadataPath <- \"/path/to/metadata\""
   ]
  },
  {
   "cell_type": "markdown",
   "id": "2d4be230-7b9c-4ed1-a7b8-dc70295119cd",
   "metadata": {},
   "source": [
    "## Data"
   ]
  },
  {
   "cell_type": "code",
   "execution_count": null,
   "id": "5b3718fd-c4de-466c-9b6b-49026a6097c4",
   "metadata": {},
   "outputs": [],
   "source": [
    "tasGeno <- rTASSEL::readGenotypeTableFromPath(\n",
    "    path = myGenoPath\n",
    ")\n",
    "tasGeno"
   ]
  },
  {
   "cell_type": "markdown",
   "id": "a846f411-dd87-425e-8996-9a782be3f210",
   "metadata": {},
   "source": [
    "## Analysis"
   ]
  },
  {
   "cell_type": "markdown",
   "id": "30b774a7-28ef-44fd-9285-e16a21d5076b",
   "metadata": {},
   "source": [
    "### PCA with genotype data "
   ]
  },
  {
   "cell_type": "code",
   "execution_count": null,
   "id": "dabe140f-293e-457c-9e32-acc61c082151",
   "metadata": {},
   "outputs": [],
   "source": [
    "pcaGeno <- tasGeno %>% rTASSEL::pca()"
   ]
  },
  {
   "cell_type": "code",
   "execution_count": null,
   "id": "c0dfc742-671b-4f3b-b1d8-a2b06fd3a80f",
   "metadata": {
    "tags": []
   },
   "outputs": [],
   "source": [
    "str(pcaGeno)"
   ]
  },
  {
   "cell_type": "code",
   "execution_count": null,
   "id": "7ade2564-c47b-4da4-b03c-7bd0a9be8f46",
   "metadata": {
    "tags": []
   },
   "outputs": [],
   "source": [
    "## Inspect `pcaGeno` object ----\n",
    "pcaGeno %>% class() %>% print()"
   ]
  },
  {
   "cell_type": "code",
   "execution_count": null,
   "id": "7a8770ce-f016-4228-970b-35701a4925af",
   "metadata": {
    "tags": []
   },
   "outputs": [],
   "source": [
    "pcaGeno %>% names() %>% print()"
   ]
  },
  {
   "cell_type": "code",
   "execution_count": null,
   "id": "9f63d5d5-e052-4217-975b-d9040ef421c4",
   "metadata": {
    "tags": []
   },
   "outputs": [],
   "source": [
    "pcaGeno$Eigenvalues_Datum %>% head()"
   ]
  },
  {
   "cell_type": "code",
   "execution_count": null,
   "id": "2d8db7dd-4bb2-44d5-bd83-4200db854aa5",
   "metadata": {
    "tags": []
   },
   "outputs": [],
   "source": [
    "## Plot total variance for first 10 PCs ----\n",
    "nPCs <- 10 # edit this value to visualize a different number of PCs\n",
    "pcaGeno$Eigenvalues_Datum %>% \n",
    "    as.data.frame() %>% \n",
    "    head(n = nPCs) %>% \n",
    "    ggplot2::ggplot() + \n",
    "    aes(x = PC, y = proportion_of_total, group = 1) + \n",
    "    geom_line(color = \"red\") + \n",
    "    geom_point(size = 3) +\n",
    "    xlab(\"PC\") +\n",
    "    ylab(\"Proportion of total variance\")"
   ]
  },
  {
   "cell_type": "code",
   "execution_count": null,
   "id": "15b7695d-dc6a-4bba-8f0b-89828f3095bf",
   "metadata": {
    "tags": []
   },
   "outputs": [],
   "source": [
    "pcaGeno$PC_Datum %>% head()"
   ]
  },
  {
   "cell_type": "code",
   "execution_count": null,
   "id": "d8fdb6af-2ebb-4450-b247-31e4f1516397",
   "metadata": {
    "tags": []
   },
   "outputs": [],
   "source": [
    "pcaGeno$PC_Datum %>%\n",
    "    as.data.frame() %>%\n",
    "    ggplot() +\n",
    "    aes(x = PC1, y = PC2) +\n",
    "    geom_point()"
   ]
  },
  {
   "cell_type": "markdown",
   "id": "71367ec0-6356-4744-83d4-36aa9ab6e720",
   "metadata": {
    "tags": []
   },
   "source": [
    "### Add metadata to PCA"
   ]
  },
  {
   "cell_type": "code",
   "execution_count": null,
   "id": "077200cb-5c64-4dc4-8ae0-c5a695070541",
   "metadata": {
    "tags": []
   },
   "outputs": [],
   "source": [
    "taxaMetadata <- read.csv(file = myMetadataPath)"
   ]
  },
  {
   "cell_type": "code",
   "execution_count": null,
   "id": "30bbd8f8-7784-4d9b-b8a0-019cd2bad282",
   "metadata": {
    "tags": []
   },
   "outputs": [],
   "source": [
    "head(taxaMetadata)"
   ]
  },
  {
   "cell_type": "code",
   "execution_count": null,
   "id": "e04d4d17-a727-4f5a-bfb1-5bba1eba2c5e",
   "metadata": {
    "tags": []
   },
   "outputs": [],
   "source": [
    "pcaDatum <- pcaGeno$PC_Datum"
   ]
  },
  {
   "cell_type": "code",
   "execution_count": null,
   "id": "3a563d97-b53a-423e-bb02-2e03928ece80",
   "metadata": {
    "tags": []
   },
   "outputs": [],
   "source": [
    "head(pcaDatum)"
   ]
  },
  {
   "cell_type": "code",
   "execution_count": null,
   "id": "6715ed10-bbc1-4d92-ad10-8acc3da08ec0",
   "metadata": {
    "tags": []
   },
   "outputs": [],
   "source": [
    "# use left join to add subpopulation information to pcaDatum table\n",
    "pcaDatum %>%\n",
    "    left_join(taxaMetadata, by = \"Taxa\") %>% # uses dplyr\n",
    "    head()"
   ]
  },
  {
   "cell_type": "code",
   "execution_count": null,
   "id": "91ff5026-ae8c-4981-b31a-f21b3f020afb",
   "metadata": {
    "tags": []
   },
   "outputs": [],
   "source": [
    "# revisulalize PCA coloring by subpopulation\n",
    "pcaDatum %>%\n",
    "    left_join(taxaMetadata, by = \"Taxa\") %>% \n",
    "    ggplot() +\n",
    "    aes(PC1, PC2, color = Subpopulation) +\n",
    "    geom_point(size = 2)"
   ]
  },
  {
   "cell_type": "markdown",
   "id": "6b648c7e-aa42-4e74-9394-0b4a1e9bf934",
   "metadata": {},
   "source": [
    "## References and additional resources"
   ]
  },
  {
   "cell_type": "markdown",
   "id": "4890abd1-427a-410b-a586-cad370e3a982",
   "metadata": {
    "tags": []
   },
   "source": [
    "To cite rTASSEL, please use the following citation:\n",
    "\n",
    "Monier et al., (2022). rTASSEL: An R interface to TASSEL for analyzing genomic diversity. Journal of Open Source Software, 7(76), 4530, https://doi.org/10.21105/joss.04530"
   ]
  },
  {
   "cell_type": "markdown",
   "id": "84e5e61b-8271-466f-9800-11dc703cbee5",
   "metadata": {
    "tags": []
   },
   "source": [
    "You can find more information about rTASSEL here:\n",
    "\n",
    "https://maize-genetics.github.io/rTASSEL/index.html\n",
    "\n",
    "and an rTASSEL tutorial in binder here: \n",
    "\n",
    "https://mybinder.org/v2/gh/btmonier/rTASSEL_sandbox/HEAD?labpath=getting_started.ipynb"
   ]
  }
 ],
 "metadata": {
  "kernelspec": {
   "display_name": "R 4.1",
   "language": "R",
   "name": "ir4.1"
  },
  "language_info": {
   "codemirror_mode": "r",
   "file_extension": ".r",
   "mimetype": "text/x-r-source",
   "name": "R",
   "pygments_lexer": "r",
   "version": "4.1.2"
  }
 },
 "nbformat": 4,
 "nbformat_minor": 5
}
