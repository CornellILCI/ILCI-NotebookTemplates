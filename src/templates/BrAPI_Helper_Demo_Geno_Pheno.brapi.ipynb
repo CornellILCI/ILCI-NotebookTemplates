{
 "cells": [
  {
   "cell_type": "markdown",
   "id": "89e00a19-e42b-4d6d-9910-127109ae4c8d",
   "metadata": {},
   "source": [
    "## Demo in action!"
   ]
  },
  {
   "cell_type": "markdown",
   "id": "9066e61e-abe8-4108-ad67-19d28e6fb8b5",
   "metadata": {},
   "source": [
    "## Load Libraries\n",
    "We will loads some libraries needed by the application. \n",
    ">The BrAPI Helper will also load some libraries for us."
   ]
  },
  {
   "cell_type": "code",
   "execution_count": null,
   "id": "3c0ebd21-e8bc-45a8-a676-46221ddf11b9",
   "metadata": {},
   "outputs": [],
   "source": [
    "library(QBMS)\n",
    "suppressMessages(library(tidyverse))\n",
    "library(patchwork)\n",
    "library(RColorBrewer)"
   ]
  },
  {
   "cell_type": "markdown",
   "id": "0df71e55-fdd3-47b4-bcf5-c1ce723a631b",
   "metadata": {},
   "source": [
    "## Retrieve genotype data from Gigwa\n",
    "Interacting with the genotype database is done via the `geno_provider` variable. This variable is created by the BrAPI helper tool upon sucessful login.\n",
    "\n",
    "For this excersise we created a genotype database entry called `rtassel_demo` and stored a HapMap formatted file as `rtassel_hmp`.\n",
    "\n",
    "We will use the `geno_provider` variable to access and retrieve this data.\n"
   ]
  },
  {
   "cell_type": "code",
   "execution_count": null,
   "id": "6f3008b1-b267-4db6-8258-38b2306b086d",
   "metadata": {},
   "outputs": [],
   "source": [
    "# We can explore databases \"entries\" with\n",
    "geno_provider$gigwa_list_dbs() |>\n",
    "     as_tibble() |>\n",
    "     rename(available_databases = value)"
   ]
  },
  {
   "cell_type": "code",
   "execution_count": null,
   "id": "3675e85f-f2fd-4876-97b0-bc98011d2bef",
   "metadata": {},
   "outputs": [],
   "source": [
    "# Now we setup access for rtassel_demo\n",
    "geno_provider$gigwa_set_db(\"rtassel_demo\")"
   ]
  },
  {
   "cell_type": "code",
   "execution_count": null,
   "id": "73ec1013-4a22-4508-b3ef-dff3709c2666",
   "metadata": {},
   "outputs": [],
   "source": [
    "# We can list projects\n",
    "geno_provider$gigwa_list_projects()"
   ]
  },
  {
   "cell_type": "code",
   "execution_count": null,
   "id": "a2a2766a-18ba-41a5-a9af-de0fadf62e90",
   "metadata": {},
   "outputs": [],
   "source": [
    "# Now we setup access for rtassel_demo->rtassel_hmp\n",
    "geno_provider$gigwa_set_project(\"rtassel_hmp\")"
   ]
  },
  {
   "cell_type": "code",
   "execution_count": null,
   "id": "9fc217bb-abef-41da-a294-438bfd0d99f0",
   "metadata": {},
   "outputs": [],
   "source": [
    "# We get a list of the samples available for extraction. \n",
    "# In our case these samples match the phenotype data.\n",
    "geno_samples <- geno_provider$gigwa_get_samples()"
   ]
  },
  {
   "cell_type": "code",
   "execution_count": null,
   "id": "223bb030-e296-40df-b055-d9a82512d887",
   "metadata": {},
   "outputs": [],
   "source": [
    "# For demo purposes we will use GIGWAs built in filtering capabilities \n",
    "# to reduce the number of SNPs retrieved.\n",
    "# We will also restrict samples.\n",
    "genoDataFromGigwa <- geno_provider$gigwa_get_variants(max_missing = 0.2,\n",
    "                                                      min_maf = 0.35,\n",
    "                                                      samples=geno_samples[1:30])"
   ]
  },
  {
   "cell_type": "code",
   "execution_count": null,
   "id": "d4a787a5-11e2-4246-af2a-f7d4cc4abcf2",
   "metadata": {},
   "outputs": [],
   "source": [
    "# We take a quick look at the retrieved data\n",
    "head(genoDataFromGigwa)"
   ]
  },
  {
   "cell_type": "markdown",
   "id": "c9f99cdb-d83b-44b5-a9a6-b9d58c15eb0d",
   "metadata": {},
   "source": [
    "### Genotype Data Visualization\n",
    "We will create a heatmap for the retrieved genotypes stored on the `genoDataFromGigwa` variable."
   ]
  },
  {
   "cell_type": "code",
   "execution_count": null,
   "id": "a7d87965-90d7-4372-969c-18aade69c2b2",
   "metadata": {},
   "outputs": [],
   "source": [
    "# We will remove the metadata columns 1-4 and only keep the genotype columns\n",
    "genoData <- genoDataFromGigwa |>\n",
    "  select(-c(1:4)) |>\n",
    "  as.matrix()\n",
    "\n",
    "heatmap(genoData, col=brewer.pal(4, \"PuRd\"))"
   ]
  },
  {
   "cell_type": "markdown",
   "id": "9c61757b-8687-459d-b58a-e6159ed420f8",
   "metadata": {},
   "source": [
    "## Retrieve phenotype data from BMS\n",
    "\n",
    "Interacting with the phenotype database is done via the `pheno_provider` variable. As a reminder, this variable is created by the BrAPI helper tool upon sucessful login.\n",
    "\n",
    "For this excersise we created a `Maize` breeding program called `rTASSEL Testbed` with a breeding trial called `rTASSEL_Demo_wHapMap`. Inside this trial we created phenotype dataset for a dummy environment called `Environment Number 1`\n",
    "\n",
    "We will use the `pheno_provider` variable to access and retrieve this data."
   ]
  },
  {
   "cell_type": "code",
   "execution_count": null,
   "id": "44fad552-e262-43ef-8e8c-0cbadfc3000a",
   "metadata": {},
   "outputs": [],
   "source": [
    "pheno_provider$list_crops() |>\n",
    "     as_tibble() |>\n",
    "     rename(available_crops = value)"
   ]
  },
  {
   "cell_type": "code",
   "execution_count": null,
   "id": "9f0b05e8-39bd-4911-9d93-36222f427957",
   "metadata": {},
   "outputs": [],
   "source": [
    "pheno_provider$set_crop(\"maize\")"
   ]
  },
  {
   "cell_type": "code",
   "execution_count": null,
   "id": "43717873-4e04-49ce-a202-1f7460ad50ea",
   "metadata": {},
   "outputs": [],
   "source": [
    "pheno_provider$list_programs()"
   ]
  },
  {
   "cell_type": "code",
   "execution_count": null,
   "id": "c391c461-8ee5-4866-81d4-953a6afa7749",
   "metadata": {},
   "outputs": [],
   "source": [
    "pheno_provider$set_program(\"rTASSEL Testbed\")"
   ]
  },
  {
   "cell_type": "code",
   "execution_count": null,
   "id": "5a918f00-be85-435c-b32e-1845407f1f2b",
   "metadata": {},
   "outputs": [],
   "source": [
    "pheno_provider$list_trials()"
   ]
  },
  {
   "cell_type": "code",
   "execution_count": null,
   "id": "1c979f71-c677-449f-b228-7c26f97477e8",
   "metadata": {},
   "outputs": [],
   "source": [
    "pheno_provider$set_trial(\"rTASSEL_Demo_wHapMap\")"
   ]
  },
  {
   "cell_type": "code",
   "execution_count": null,
   "id": "09aa16b2-efbc-49f5-9c42-94d3fd903f9b",
   "metadata": {},
   "outputs": [],
   "source": [
    "pheno_provider$list_studies()"
   ]
  },
  {
   "cell_type": "code",
   "execution_count": null,
   "id": "5c58c67a-b791-4765-b611-9ef62633a2a4",
   "metadata": {},
   "outputs": [],
   "source": [
    "pheno_provider$set_study(study_name = \"rTASSEL_Demo_wHapMap Environment Number 1\")"
   ]
  },
  {
   "cell_type": "code",
   "execution_count": null,
   "id": "d3aa7a82-c8af-4052-a0bf-8a1c939c1824",
   "metadata": {},
   "outputs": [],
   "source": [
    "# select Corn Ear Height (EH_M_cm) and Diameter (EDia_M_cm) \n",
    "# and days to pollination (Dpoll)\n",
    "pheno_df <- pheno_provider$get_study_data() |>\n",
    "    select(germplasmName, EH_M_cm, EDia_M_cm, Dpoll) |>  \n",
    "    mutate(across(c(EH_M_cm, EDia_M_cm, Dpoll), as.numeric))"
   ]
  },
  {
   "cell_type": "markdown",
   "id": "e1f2c416-6985-4b30-8347-e58d20ab1063",
   "metadata": {},
   "source": [
    "### Phenotype Data Visualization\n",
    "We will create a histogram for each of the retrieve traits, Corn Ear Height (EH_M_cm) and Diameter (EDia_M_cm)."
   ]
  },
  {
   "cell_type": "code",
   "execution_count": null,
   "id": "1901e673-8bbe-4589-b647-79da9dd5cd26",
   "metadata": {},
   "outputs": [],
   "source": [
    "# Create the histogram for EH_M_cm\n",
    "fig_EH <- pheno_df |> ggplot() +\n",
    "  aes(EH_M_cm) +\n",
    "  geom_histogram(fill = \"blue\", bins = 30) +\n",
    "  labs(title = \"Ear Height (cm)\") +\n",
    "  theme_minimal()\n",
    "\n",
    "# Create the histogram for EDia_M_cm\n",
    "fig_EDia <- pheno_df |> ggplot() +\n",
    "  aes(EDia_M_cm) +\n",
    "  geom_histogram(fill = \"red\", bins = 30) +\n",
    "  labs(title = \"Ear Diameter (cm)\") +\n",
    "  theme_minimal()\n",
    "\n",
    "# Create the histogram for Dpoll\n",
    "fig_Dpoll <- pheno_df |> ggplot() +\n",
    "  aes(Dpoll) +\n",
    "  geom_histogram(fill = \"green\", bins = 30) +\n",
    "  labs(title = \"Days to Pollination\") +\n",
    "  theme_minimal()\n",
    "\n",
    "# Combine the plots\n",
    "combined_plots <- fig_EH / fig_EDia / fig_Dpoll \n",
    "\n",
    "# Print the combined plot\n",
    "combined_plots"
   ]
  },
  {
   "cell_type": "markdown",
   "id": "5d93a7fb-cd9c-4cd3-a8b4-2c738a7b9f70",
   "metadata": {},
   "source": [
    "## The END\n",
    "\n",
    "At this point, you have already loaded and visualized data directly from two databases. From this point on, you can use the data to perform various analyses.\n",
    "\n",
    "You can explore other templates that have been created for this purpose by looking at our template repository.\n"
   ]
  }
 ],
 "metadata": {
  "kernelspec": {
   "display_name": "R",
   "language": "R",
   "name": "ir"
  },
  "language_info": {
   "codemirror_mode": "r",
   "file_extension": ".r",
   "mimetype": "text/x-r-source",
   "name": "R",
   "pygments_lexer": "r",
   "version": "4.2.3"
  }
 },
 "nbformat": 4,
 "nbformat_minor": 5
}
