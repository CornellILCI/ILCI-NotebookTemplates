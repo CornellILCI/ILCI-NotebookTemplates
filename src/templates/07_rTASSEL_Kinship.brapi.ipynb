{
 "cells": [
  {
   "cell_type": "markdown",
   "id": "ddc517f5-a40f-43b8-ab5a-2c155f72d082",
   "metadata": {
    "tags": []
   },
   "source": [
    "# Tutorial: Calculate relationship matrices with rTASSEL"
   ]
  },
  {
   "cell_type": "markdown",
   "id": "ded4fd81-0a29-4290-b449-caf7a1186c38",
   "metadata": {},
   "source": [
    "## Enter your notebook title here\n",
    "\n",
    "**Objective**: Describe the objective here  \n",
    "**Data**: Describe your data set here  \n",
    "**User and contact**: Enter your name and contact here\n",
    "\n",
    "### Table of contents\n",
    "* [Notes](#Notes)\n",
    "* [Libraries](#Libraries)\n",
    "* [Data](#Data)\n",
    "* [Analysis](#Analysis)\n",
    "    + [Distance matrix](#Distance-matrix)\n",
    "    + [Kinship matrix](#Kinship-matrix)\n",
    "    + [Working with `TasselDistanceMatrix` objects](#Working-with-TasselDistanceMatrix-objects)\n",
    "    + [Coerce a `TasselDistanceMatrix` into an R object](#Coerce-a-TasselDistanceMatrix-into-an-R-object)\n",
    "* [References and additional resources](#References-and-additional-resources)"
   ]
  },
  {
   "cell_type": "markdown",
   "id": "f08bdb9f-e0b4-4688-a1f9-c7cb725de0e3",
   "metadata": {},
   "source": [
    "## Notes\n",
    "\n",
    "This tutorial assumes: \n",
    "1. You already know how to load your data via a BrAPI database into rTASSEL and will inspect your data:\n",
    "    - See 01_rTASSEL_load_data.brapi.ipynb on how to load files via BrAPI databases.\n",
    "2. You will filter your genotype data as appropriate for your data set and analysis:\n",
    "    - See 02_rTASSEL_GenotypeFiltering.brapi.ipynb for a tutorial on how to filter genotype data when retrieving data via BrAPI and using rTASSEL.\n",
    "\n",
    "Additional documentation on the `distanceMatrix()` function in rTASSEL can be found [here](https://rtassel.maizegenetics.net/reference/distanceMatrix.html) and `kinshipMatrix()` [here](https://rtassel.maizegenetics.net/reference/kinshipMatrix.html)."
   ]
  },
  {
   "cell_type": "code",
   "execution_count": null,
   "id": "9343a14d-0535-493e-828f-fdd3a6f3f6cf",
   "metadata": {},
   "outputs": [],
   "source": [
    "getwd()"
   ]
  },
  {
   "cell_type": "code",
   "execution_count": null,
   "id": "f4936c32-f54e-445c-a2be-176e1d74ad52",
   "metadata": {},
   "outputs": [],
   "source": [
    "Sys.Date()"
   ]
  },
  {
   "cell_type": "markdown",
   "id": "8a4ca7cf-4648-47c4-8525-b8c5664346fa",
   "metadata": {},
   "source": [
    "## Libraries"
   ]
  },
  {
   "cell_type": "code",
   "execution_count": null,
   "id": "ccf782ff-131b-440b-b101-1f733df126d2",
   "metadata": {
    "tags": []
   },
   "outputs": [],
   "source": [
    "library(QBMS)\n",
    "library(rTASSEL)"
   ]
  },
  {
   "cell_type": "markdown",
   "id": "2e8534bc-3c1b-4824-89ef-e7ba36ed8f8f",
   "metadata": {},
   "source": [
    "## Data"
   ]
  },
  {
   "cell_type": "markdown",
   "id": "560d4f74-61ea-4eb7-bbe2-5be8334a1c4c",
   "metadata": {},
   "source": [
    "### Retrieve BrAPI data and filter"
   ]
  },
  {
   "cell_type": "markdown",
   "id": "4e4d9dde-475b-4a44-83ec-49280e7802c7",
   "metadata": {},
   "source": [
    "**You will need to log into Gigwa using the BrAPI helper.**"
   ]
  },
  {
   "cell_type": "code",
   "execution_count": null,
   "id": "878ce99f-8fcc-41eb-b92b-1c3b104940d0",
   "metadata": {
    "tags": []
   },
   "outputs": [],
   "source": [
    "geno_provider$gigwa_list_dbs()"
   ]
  },
  {
   "cell_type": "markdown",
   "id": "38cbbcd1-9b46-442b-ab44-ab988fd90401",
   "metadata": {},
   "source": [
    "**Please edit the code to set your database (db):**"
   ]
  },
  {
   "cell_type": "code",
   "execution_count": null,
   "id": "37ca7fd7-8727-4a49-a33a-d3bd4381e06c",
   "metadata": {
    "tags": []
   },
   "outputs": [],
   "source": [
    "geno_provider$gigwa_set_db(\"myDatabase\")"
   ]
  },
  {
   "cell_type": "code",
   "execution_count": null,
   "id": "ae0ef69e-4dc1-47db-88fd-7bd9261f5947",
   "metadata": {
    "tags": []
   },
   "outputs": [],
   "source": [
    "geno_provider$gigwa_list_projects()"
   ]
  },
  {
   "cell_type": "markdown",
   "id": "dc8b0195-3297-4a81-8b82-2741cdd3f32a",
   "metadata": {
    "tags": []
   },
   "source": [
    "**Please edit the code to set your project:**"
   ]
  },
  {
   "cell_type": "code",
   "execution_count": null,
   "id": "36a1e0a5-f436-4974-a2c7-53d1bce7d86a",
   "metadata": {
    "tags": []
   },
   "outputs": [],
   "source": [
    "geno_provider$gigwa_set_project(\"myProject\")"
   ]
  },
  {
   "cell_type": "markdown",
   "id": "4799c9e5-b21e-4ece-942f-3ca52e642c10",
   "metadata": {},
   "source": [
    "**Edit the below code to use appropriate filters for your data set and analysis, additional filtering can be done after retrieving the data and loading into rTASSEL.** "
   ]
  },
  {
   "cell_type": "code",
   "execution_count": null,
   "id": "0735e57c-8d45-4a15-8e51-3c8fdb077a5d",
   "metadata": {
    "tags": []
   },
   "outputs": [],
   "source": [
    "genoDataFromGigwa <- geno_provider$gigwa_get_variants(\n",
    "    max_missing = 0.2,\n",
    "    min_maf = 0.05\n",
    ")"
   ]
  },
  {
   "cell_type": "markdown",
   "id": "ba63e14c-a4fd-4639-85a3-f0be8531ceb1",
   "metadata": {},
   "source": [
    "#### Inspect genotype data in R"
   ]
  },
  {
   "cell_type": "code",
   "execution_count": null,
   "id": "972ecde2-4977-4ea1-8356-47b92235a209",
   "metadata": {
    "tags": []
   },
   "outputs": [],
   "source": [
    "genoDataFromGigwa |> head()\n",
    "genoDataFromGigwa |> dim()\n",
    "genoDataFromGigwa |> names()"
   ]
  },
  {
   "cell_type": "markdown",
   "id": "cdc38318-0dac-4b16-bde0-71b6b0593819",
   "metadata": {},
   "source": [
    "#### Load genotype data into rTASSEL"
   ]
  },
  {
   "cell_type": "code",
   "execution_count": null,
   "id": "34f6fb06-2d97-4326-8d3b-698c668c8c4c",
   "metadata": {
    "tags": []
   },
   "outputs": [],
   "source": [
    "tasGeno <- genoDataFromGigwa |> rTASSEL::readGenotypeTableFromGigwa()"
   ]
  },
  {
   "cell_type": "code",
   "execution_count": null,
   "id": "9c296258-d092-479e-8627-5818fa20beda",
   "metadata": {
    "tags": []
   },
   "outputs": [],
   "source": [
    "tasGeno"
   ]
  },
  {
   "cell_type": "markdown",
   "id": "083d0cd2-5b73-4de8-8476-4e474fe4dbfa",
   "metadata": {},
   "source": [
    "**Perform filtering steps in rTASSEL for your data set and analysis:**\n",
    "    - See 02_rTASSEL_GenotypeFiltering.ipynb for more details about filtering."
   ]
  },
  {
   "cell_type": "markdown",
   "id": "5fb1a27e-bfa5-4d30-9b7a-a946f39eeb6a",
   "metadata": {},
   "source": [
    "## Analysis"
   ]
  },
  {
   "cell_type": "markdown",
   "id": "01515aec-41ab-4db4-889f-4fdfaaf60b01",
   "metadata": {},
   "source": [
    "### Distance matrix\n",
    "\n",
    "TASSEL/rTASSEL calculate distance as 1 - IBS (identity by state) similarity, with IBS defined as the probability that alleles drawn at random from two individuals at the same locus are the same. For clustering, the distance of an individual from itself is set to 0. More about how the distance matrix is calculated rTASSEL can be found [here](https://bitbucket.org/tasseladmin/tassel-5-source/wiki/UserManual/DistanceMatrix/DistanceMatrix)."
   ]
  },
  {
   "cell_type": "code",
   "execution_count": null,
   "id": "3c883497-401f-4c31-bd24-fe23513d52c8",
   "metadata": {},
   "outputs": [],
   "source": [
    "tasDist <- rTASSEL::distanceMatrix(\n",
    "    tasObj = tasGeno\n",
    ")\n",
    "tasDist"
   ]
  },
  {
   "cell_type": "markdown",
   "id": "38d3c7f8-0ee6-4e8e-ad64-109ed69e3290",
   "metadata": {},
   "source": [
    "### Kinship matrix\n",
    "\n",
    "rTASSEL will create a kinship matrix from genotype data with the `kinshipMatrix()` function. You can then use this matrix in downstream analyses, such as in mixed linear model analyses."
   ]
  },
  {
   "cell_type": "code",
   "execution_count": null,
   "id": "93d559ca-823e-4b6b-9031-09430ea45e5b",
   "metadata": {},
   "outputs": [],
   "source": [
    "tasKin <- rTASSEL::kinshipMatrix(\n",
    "    tasObj = tasGeno\n",
    ")\n",
    "tasKin"
   ]
  },
  {
   "cell_type": "markdown",
   "id": "8f98ac91-1428-44c8-b21d-6d2739781598",
   "metadata": {},
   "source": [
    "`kinshipMatrix()` provides options to set the algorithm that will be used with the `method`\n",
    "parameter. This default is Centered_IBS. Other options include Normalized_IBS, Dominance_Centered_IBS, and Dominance_Normalized_IBS. More info about these methods can be found\n",
    "[here](https://bitbucket.org/tasseladmin/tassel-5-source/wiki/UserManual/Kinship/Kinship). \n",
    "\n",
    "For example: "
   ]
  },
  {
   "cell_type": "code",
   "execution_count": null,
   "id": "12e82c52-5905-4f7d-99aa-d3ebdb932550",
   "metadata": {
    "tags": []
   },
   "outputs": [],
   "source": [
    "tasKinNorm <- kinshipMatrix(\n",
    "  tasObj = tasGeno,\n",
    "  method = \"Normalized_IBS\",\n",
    "  maxAlleles = 3,\n",
    "  algorithmVariation = \"Observed_Allele_Freq\"\n",
    ")\n",
    "tasKinNorm"
   ]
  },
  {
   "cell_type": "markdown",
   "id": "87b9f82f-b964-4a49-9830-b143fb129184",
   "metadata": {},
   "source": [
    "### Working with `TasselDistanceMatrix` objects\n",
    "\n",
    "`tasDist()` and `kinshipMatrix()` generate a pairwise matrix (e.g. $m \\times m$ \n",
    "dimensions). The return object is an rTASSEL class, `TasselDistanceMatrix`.\n",
    "To look at an example of a `TasselDistanceMatrix` object run either of the examples created above:"
   ]
  },
  {
   "cell_type": "code",
   "execution_count": null,
   "id": "74273535-89ad-46b1-ab0c-d47e30dee080",
   "metadata": {},
   "outputs": [],
   "source": [
    "tasKin #displays the first four rows and columns and the last row and column"
   ]
  },
  {
   "cell_type": "markdown",
   "id": "97631c0e-716a-4af4-ae21-60de774adb7b",
   "metadata": {},
   "source": [
    "This object, similar to the `TasselGenotypePhenotype` class, essentially holds\n",
    "pointers to the Java/TASSEL object in memory. Some base R methods can be used with `TasselGenotypePhenotype` similar to `matrix` objects. For example:"
   ]
  },
  {
   "cell_type": "code",
   "execution_count": null,
   "id": "d0f8aef3-4430-4e3d-bcb7-db4bd1137e40",
   "metadata": {},
   "outputs": [],
   "source": [
    "tasKin |> colnames() |> head()\n",
    "tasKin |> rownames() |> head()\n",
    "\n",
    "tasKin |> dim()\n",
    "\n",
    "tasKin |> nrow()\n",
    "tasKin |> ncol()"
   ]
  },
  {
   "cell_type": "markdown",
   "id": "2790163d-3bfe-453b-b9f0-66be3c06b458",
   "metadata": {},
   "source": [
    "A `TasselDistanceMatrix` object from kinshipMatrix() can be used in subsequent analyses in rTASSEL, for example: "
   ]
  },
  {
   "cell_type": "code",
   "execution_count": null,
   "id": "76e113e3-8c72-4cae-a581-8fe0365e737c",
   "metadata": {
    "tags": []
   },
   "outputs": [],
   "source": [
    "# Calculate a mixed linear model (MLM) with a kinship\n",
    "#tasMLM <- rTASSEL::assocModelFitter(\n",
    "#    tasObj = tasGeno,\n",
    "#    formula = yourTrait ~ .,\n",
    "#    fitMarkers = TRUE,\n",
    "#    kinship = tasKin\n",
    "#)"
   ]
  },
  {
   "cell_type": "markdown",
   "id": "d8b2bec5-821a-4a38-94f4-a08d9d0a8b20",
   "metadata": {},
   "source": [
    "You can read more about association analysis in rTASSEL [here](https://rtassel.maizegenetics.net/articles/rtassel_walkthrough.html)."
   ]
  },
  {
   "cell_type": "markdown",
   "id": "ebe119ad-704d-4e1c-b8d7-5f9f8d9de52a",
   "metadata": {},
   "source": [
    "### Coerce a `TasselDistanceMatrix` into an R object"
   ]
  },
  {
   "cell_type": "markdown",
   "id": "4461e77b-6664-425e-bee4-6789d71ae0e6",
   "metadata": {},
   "source": [
    "Additional R methods (e.g. plotting, new models, etc.) and be used if the `TasselDistanceMatrix` object is coerced into a general R data object, in this case, a `matrix`\n",
    "object using the base method `as.matrix()`:"
   ]
  },
  {
   "cell_type": "code",
   "execution_count": null,
   "id": "fba4c608-ef4a-4ad4-84bb-2c516a91c083",
   "metadata": {},
   "outputs": [],
   "source": [
    "tasKinR <- tasKin |> as.matrix()"
   ]
  },
  {
   "cell_type": "markdown",
   "id": "f8b7ef55-9140-4cd1-a896-4910d0a778d4",
   "metadata": {
    "tags": []
   },
   "source": [
    "We can inspect the first 5 rows and columns of our new R matrix object:"
   ]
  },
  {
   "cell_type": "code",
   "execution_count": null,
   "id": "7b7f908c-54f1-464e-941f-fe331aa80b85",
   "metadata": {},
   "outputs": [],
   "source": [
    "tasKinR[1:5, 1:5]"
   ]
  },
  {
   "cell_type": "markdown",
   "id": "15699f47-e2a5-4727-a1fc-d1acc42ff398",
   "metadata": {},
   "source": [
    "Now the kinship matrix created very quickly in rTASSEL can be used in any other R package, for example running genomic prediction in the R package *sommer*."
   ]
  },
  {
   "cell_type": "markdown",
   "id": "00ccd38d-2498-4987-b0ae-53e50b2cda16",
   "metadata": {},
   "source": [
    "You can also write the `matrix` object to a file to save:"
   ]
  },
  {
   "cell_type": "code",
   "execution_count": null,
   "id": "a3a1b005-0fd2-413b-88fc-c9df24c0f0f9",
   "metadata": {
    "tags": []
   },
   "outputs": [],
   "source": [
    "write.table(tasKinR, file = \"tasKin.txt\")"
   ]
  },
  {
   "cell_type": "markdown",
   "id": "bec0a9b0-24ce-4833-b825-4c2f50a22e48",
   "metadata": {},
   "source": [
    "## References and additional resources"
   ]
  },
  {
   "cell_type": "markdown",
   "id": "ff8fa867-3c45-4b6e-8f1c-6e6e940ac240",
   "metadata": {},
   "source": [
    "To cite rTASSEL, please use the following citation:\n",
    "\n",
    "Monier et al., (2022). rTASSEL: An R interface to TASSEL for analyzing genomic diversity. Journal of Open Source Software, 7(76), 4530, https://doi.org/10.21105/joss.04530."
   ]
  },
  {
   "cell_type": "markdown",
   "id": "8aa379d8-149b-439a-841a-ef0d20eba51c",
   "metadata": {},
   "source": [
    "You can find more information about rTASSEL [here](https://rtassel.maizegenetics.net)\n",
    "\n",
    "and an rTASSEL tutorial in binder [here](https://mybinder.org/v2/gh/btmonier/rTASSEL_sandbox/HEAD?labpath=getting_started.ipynb)."
   ]
  }
 ],
 "metadata": {
  "kernelspec": {
   "display_name": "R 4.1",
   "language": "R",
   "name": "ir4.1"
  },
  "language_info": {
   "codemirror_mode": "r",
   "file_extension": ".r",
   "mimetype": "text/x-r-source",
   "name": "R",
   "pygments_lexer": "r",
   "version": "4.1.2"
  }
 },
 "nbformat": 4,
 "nbformat_minor": 5
}
