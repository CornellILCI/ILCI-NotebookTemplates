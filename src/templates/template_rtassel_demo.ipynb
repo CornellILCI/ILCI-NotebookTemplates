{
 "cells": [
  {
   "cell_type": "markdown",
   "id": "4e1bf9a6-4fcb-4bd3-af16-2bbc8edf1a22",
   "metadata": {},
   "source": [
    "# BRAPI Database DEMO"
   ]
  },
  {
   "cell_type": "markdown",
   "id": "d5d30ca2-8cba-484b-9ff9-05d14a19365c",
   "metadata": {},
   "source": [
    "# Testing DMS BrAPI connections"
   ]
  },
  {
   "cell_type": "code",
   "execution_count": null,
   "id": "9529aabf-ad94-4d6d-a78e-b7f7c2bec98f",
   "metadata": {},
   "outputs": [],
   "source": [
    "library(magrittr)\n",
    "library(rTASSEL)\n",
    "library(tidyverse)"
   ]
  },
  {
   "cell_type": "markdown",
   "id": "380b89e1-427a-4555-8be0-520ad054efaf",
   "metadata": {},
   "source": [
    "## Source code"
   ]
  },
  {
   "cell_type": "code",
   "execution_count": null,
   "id": "45dcdc0a-ddd9-490c-8f5d-9c0884ea9bef",
   "metadata": {},
   "outputs": [],
   "source": [
    "# handled by Extension\n",
    "# source(\"https://raw.githubusercontent.com/agostof/BrAPI-Provider/master/BrapiProvider.R\")\n",
    "\n",
    "# You can use the following functions to interact with BMS\n",
    "# see the QBMS documentation for more details.\n",
    "# https://icarda-git.github.io/QBMS/\n",
    "\n",
    "# pheno_provider$set_crop()\n",
    "# pheno_provider$list_programs()\n",
    "# pheno_provider$set_program()\n",
    "# pheno_provider$list_trials()\n",
    "# pheno_provider$set_trial()\n",
    "# pheno_provider$list_studies()\n",
    "# pheno_provider$set_study(study_name)\n",
    "# pheno_provider$get_study_data()\n",
    "\n",
    "#\n",
    "# You can check the TOKENs with:\n",
    "# pheno_provider$get_token()\n",
    "# pheno_provider$list_crops()\n",
    "\n",
    "\n",
    "# You can use the following functions to interact with GIGWA\n",
    "# see the QBMS documentation for more details.\n",
    "# geno_provider$gigwa_list_dbs()\n",
    "# geno_provider$gigwa_set_db()\n",
    "# geno_provider$gigwa_set_project()\n",
    "# geno_samples = geno_provider$gigwa_get_samples()\n",
    "\n",
    "#\n",
    "# You can check the TOKENs with:\n",
    "# geno_provider$get_token()\n",
    "# geno_provider$gigwa_list_dbs()"
   ]
  },
  {
   "cell_type": "markdown",
   "id": "58fb02a2-8e9b-4591-977d-91edb2875439",
   "metadata": {},
   "source": [
    "## Build phenotype and genotype connection objects"
   ]
  },
  {
   "cell_type": "code",
   "execution_count": null,
   "id": "6f0fc53d-20ef-49fa-9c6c-e9e2cf590173",
   "metadata": {},
   "outputs": [],
   "source": [
    "# # handled by Extension\n",
    "# pheno_provider <- BrapiBms$new(url = \"https://bms.ilci.scienceversa.com\")\n",
    "# pheno_provider$login(username=pheno_user, password=pheno_pass)"
   ]
  },
  {
   "cell_type": "code",
   "execution_count": null,
   "id": "d3633987-6481-44c8-a01a-4727fab43b87",
   "metadata": {},
   "outputs": [],
   "source": [
    "# geno_provider <- BrapiGigwa$new(url=\"https://gigwa.ilci.scienceversa.com\")\n",
    "# geno_provider$login(username=geno_user, password=geno_pass)"
   ]
  },
  {
   "cell_type": "code",
   "execution_count": null,
   "id": "35121fdc-02aa-41f9-be2a-662ade4e58ee",
   "metadata": {},
   "outputs": [],
   "source": []
  },
  {
   "cell_type": "markdown",
   "id": "161c07ee-3118-48c7-8fae-3d2d6a2e8d40",
   "metadata": {},
   "source": [
    "## Retrieve genotype data (Gigwa)"
   ]
  },
  {
   "cell_type": "code",
   "execution_count": null,
   "id": "b5296d80-05f6-422b-8a86-b3ea518948dc",
   "metadata": {},
   "outputs": [],
   "source": [
    "geno_provider$gigwa_list_dbs()"
   ]
  },
  {
   "cell_type": "code",
   "execution_count": null,
   "id": "e32f19f7-b906-49ff-93cf-41ff30f0d130",
   "metadata": {},
   "outputs": [],
   "source": [
    "geno_provider$gigwa_set_db(\"rtassel_demo\")"
   ]
  },
  {
   "cell_type": "code",
   "execution_count": null,
   "id": "bd5f0446-79db-4719-8adb-6b584a3f0a6a",
   "metadata": {},
   "outputs": [],
   "source": [
    "geno_provider$gigwa_set_project(\"rtassel_hmp\")"
   ]
  },
  {
   "cell_type": "code",
   "execution_count": null,
   "id": "eb75974a-9b6d-49be-9c85-bdfcfe99fd24",
   "metadata": {},
   "outputs": [],
   "source": [
    "geno_samples = geno_provider$gigwa_get_samples()"
   ]
  },
  {
   "cell_type": "code",
   "execution_count": null,
   "id": "a98730e0-b2f4-47d2-87cb-c6712510c829",
   "metadata": {},
   "outputs": [],
   "source": [
    "# will restrict samples for demo purposes\n",
    "# genoDataFromGigwa <- geno_provider$gigwa_get_variants() %>% \n",
    "#     readGenotypeTableFromGigwa()\n",
    "genoDataFromGigwa <- geno_provider$gigwa_get_variants(max_missing = 0.2, \n",
    "                                                      min_maf = 0.35, \n",
    "                                                      samples=geno_samples[1:30]) %>% \n",
    "    readGenotypeTableFromGigwa()"
   ]
  },
  {
   "cell_type": "code",
   "execution_count": null,
   "id": "dbba6601-7551-460c-a8a2-e64546c36de2",
   "metadata": {},
   "outputs": [],
   "source": [
    "genoDataFromGigwa"
   ]
  },
  {
   "cell_type": "markdown",
   "id": "2ae96e18-ca74-4f43-99ac-971ac7d2d137",
   "metadata": {},
   "source": [
    "## Retrieve phenotype data (BMS)"
   ]
  },
  {
   "cell_type": "code",
   "execution_count": null,
   "id": "3bdb578a-3724-4377-985f-f954092b2910",
   "metadata": {},
   "outputs": [],
   "source": [
    "pheno_provider$list_crops()"
   ]
  },
  {
   "cell_type": "code",
   "execution_count": null,
   "id": "2f9cd7a4-446c-494a-9e0b-f10b50134ff8",
   "metadata": {},
   "outputs": [],
   "source": [
    "pheno_provider$set_crop(\"maize\")"
   ]
  },
  {
   "cell_type": "code",
   "execution_count": null,
   "id": "346d658f-d7be-48cd-a2b2-db656b5e20e8",
   "metadata": {},
   "outputs": [],
   "source": [
    "pheno_provider$list_programs()"
   ]
  },
  {
   "cell_type": "code",
   "execution_count": null,
   "id": "d9439c56-4b86-4837-8a7c-825c3810dea9",
   "metadata": {},
   "outputs": [],
   "source": [
    "pheno_provider$set_program(\"rTASSEL Testbed\")"
   ]
  },
  {
   "cell_type": "code",
   "execution_count": null,
   "id": "8785615b-b967-4af1-a3ab-eb8f3990dd80",
   "metadata": {},
   "outputs": [],
   "source": [
    "pheno_provider$list_trials()"
   ]
  },
  {
   "cell_type": "code",
   "execution_count": null,
   "id": "b52c7be9-f06f-433c-ba9e-869dfad5bb27",
   "metadata": {},
   "outputs": [],
   "source": [
    "pheno_provider$set_trial(\"rTASSEL_Demo_wHapMap\")"
   ]
  },
  {
   "cell_type": "code",
   "execution_count": null,
   "id": "5cdcb01b-1bc9-407b-a9f2-498989375862",
   "metadata": {},
   "outputs": [],
   "source": [
    "pheno_provider$list_studies()"
   ]
  },
  {
   "cell_type": "code",
   "execution_count": null,
   "id": "40503f42-9be1-47d7-adef-96796d076805",
   "metadata": {},
   "outputs": [],
   "source": [
    "pheno_provider$set_study(study_name = \"rTASSEL_Demo_wHapMap Environment Number 1\")"
   ]
  },
  {
   "cell_type": "code",
   "execution_count": null,
   "id": "641b5646-01ad-400d-8335-92b81db7a890",
   "metadata": {},
   "outputs": [],
   "source": [
    "pheno_provider$get_study_data() %>%\n",
    "    glimpse()"
   ]
  },
  {
   "cell_type": "markdown",
   "id": "cc41b9ba-6fc1-4977-9c9e-ac3a55975a2d",
   "metadata": {},
   "source": [
    "## Combine genotype and phenotype data"
   ]
  },
  {
   "cell_type": "code",
   "execution_count": null,
   "id": "ad4bd62f-91b5-420d-8513-e746ee98ee55",
   "metadata": {},
   "outputs": [],
   "source": [
    "combinedPenoGeno <- pheno_provider$get_study_data() %>%\n",
    "    select(germplasmName, EH_M_cm, Q1, Q2, Q3) %>%\n",
    "    mutate(\n",
    "        EH_M_cm = as.numeric(EH_M_cm),\n",
    "        Q1 = as.numeric(Q1),\n",
    "        Q2 = as.numeric(Q2),\n",
    "        Q3 = as.numeric(Q3)\n",
    "    ) %>%\n",
    "    readGenotypePhenotype(\n",
    "        genoPathOrObj = genoDataFromGigwa, \n",
    "        phenoPathDFOrObj = .,\n",
    "        taxaID = \"germplasmName\", \n",
    "        attributeTypes = c(\"data\", rep(\"covariate\", 3))\n",
    "    )\n",
    "\n",
    "combinedPenoGeno"
   ]
  },
  {
   "cell_type": "markdown",
   "id": "58d58158-083d-45db-94cf-70735686524e",
   "metadata": {},
   "source": [
    "## Run GWAS"
   ]
  },
  {
   "cell_type": "code",
   "execution_count": null,
   "id": "34d75916-265c-44b5-9a83-1d7865f8892f",
   "metadata": {},
   "outputs": [],
   "source": [
    "combinedPenoGeno %>% assocModelFitter(\n",
    "    EH_M_cm ~ Q1 + Q2 + Q3,\n",
    "    fitMarkers = TRUE\n",
    "    ) #%$% GLM_Stats"
   ]
  },
  {
   "cell_type": "code",
   "execution_count": null,
   "id": "54d3b429-66c6-41dd-b011-c8398997392e",
   "metadata": {},
   "outputs": [],
   "source": [
    "# Calculate GLM\n",
    "tasGLM <- rTASSEL::assocModelFitter(\n",
    "    tasObj = combinedPenoGeno,             # <- our prior TASSEL object\n",
    "    formula = EH_M_cm ~ Q1 + Q2 + Q3,\n",
    "    fitMarkers = TRUE,                 # <- set this to TRUE for GLM\n",
    "    kinship = NULL,\n",
    "    fastAssociation = FALSE\n",
    ")"
   ]
  },
  {
   "cell_type": "code",
   "execution_count": null,
   "id": "7464cdfc-6456-45c1-b858-292cf16e7d9a",
   "metadata": {},
   "outputs": [],
   "source": [
    "str(tasGLM)"
   ]
  },
  {
   "cell_type": "code",
   "execution_count": null,
   "id": "c41d73d9-e81a-4209-96b4-392136676a73",
   "metadata": {},
   "outputs": [],
   "source": [
    "tasGLM@results$GLM_Stats"
   ]
  }
 ],
 "metadata": {
  "kernelspec": {
   "display_name": "R 4.1",
   "language": "R",
   "name": "ir4.1"
  },
  "language_info": {
   "codemirror_mode": "r",
   "file_extension": ".r",
   "mimetype": "text/x-r-source",
   "name": "R",
   "pygments_lexer": "r",
   "version": "4.1.2"
  }
 },
 "nbformat": 4,
 "nbformat_minor": 5
}
