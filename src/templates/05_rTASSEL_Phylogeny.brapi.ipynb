{
 "cells": [
  {
   "cell_type": "markdown",
   "id": "ddc517f5-a40f-43b8-ab5a-2c155f72d082",
   "metadata": {
    "tags": []
   },
   "source": [
    "# Tutorial: Creating phylogenetic trees with rTASSEL"
   ]
  },
  {
   "cell_type": "markdown",
   "id": "23f34cd4-3099-4e6f-8982-6fc356d28daa",
   "metadata": {},
   "source": [
    "## Enter your notebook title here\n",
    "\n",
    "**Objective**: Describe the objective here  \n",
    "**Data**: Describe your data set here  \n",
    "**User and contact**: Enter your name and contact here\n",
    "\n",
    "### Table of contents\n",
    "* [Notes](#Notes) \n",
    "* [Libraries](#Libraries)\n",
    "* [Parameters and functions](#Parameters-and-functions)\n",
    "* [Data](#Data)\n",
    "* [Analysis](#Analysis)\n",
    "    + [Phylogeny using neighbor joining method](#Phylogeny-using-neighbor-joining-method)\n",
    "    + [Phylogeny using UPGMA](#Phylogeny-using-UPGMA)\n",
    "* [Visualization using ggtree](#Visualization-using-ggtree)\n",
    "    + [Add metadata](#Add-metadata)\n",
    "* [References and additional resources](#References-and-additional-resources)"
   ]
  },
  {
   "cell_type": "markdown",
   "id": "f08bdb9f-e0b4-4688-a1f9-c7cb725de0e3",
   "metadata": {},
   "source": [
    "## Notes\n",
    "\n",
    "This tutorial assumes: \n",
    "1. You already know how to load your data via a BrAPI database into rTASSEL and will inspect your data:\n",
    "    - See 01_rTASSEL_load_data.brapi.ipynb on how to load files via BrAPI databases.\n",
    "2. You will filter your genotype data as appropriate for your data set and analysis:\n",
    "    - See 02_rTASSEL_GenotypeFiltering.brapi.ipynb for a tutorial on how to filter genotype data when retrieving data via BrAPI and using rTASSEL.\n",
    "3. You have a csv file for metadata with a \"Taxa\" field that matches the taxa in your genotype file.\n",
    "\n",
    "Additional documentation on the `createTree()` function in rTASSEL can be found [here](https://rtassel.maizegenetics.net/reference/createTree.html)."
   ]
  },
  {
   "cell_type": "code",
   "execution_count": null,
   "id": "9343a14d-0535-493e-828f-fdd3a6f3f6cf",
   "metadata": {},
   "outputs": [],
   "source": [
    "getwd()"
   ]
  },
  {
   "cell_type": "code",
   "execution_count": null,
   "id": "f4936c32-f54e-445c-a2be-176e1d74ad52",
   "metadata": {},
   "outputs": [],
   "source": [
    "Sys.Date()"
   ]
  },
  {
   "cell_type": "markdown",
   "id": "8a4ca7cf-4648-47c4-8525-b8c5664346fa",
   "metadata": {},
   "source": [
    "## Libraries"
   ]
  },
  {
   "cell_type": "code",
   "execution_count": null,
   "id": "ccf782ff-131b-440b-b101-1f733df126d2",
   "metadata": {
    "tags": []
   },
   "outputs": [],
   "source": [
    "library(QBMS) #Retrieve data from BrAPI databases\n",
    "library(rTASSEL) #R interface to TASSEL\n",
    "library(ggplot2) #Plotting and visualization\n",
    "library(ggtree) #Create phylogenetic trees "
   ]
  },
  {
   "cell_type": "markdown",
   "id": "14fdbe6b-35a0-4303-a734-65c38e5e215b",
   "metadata": {},
   "source": [
    "## Parameters and functions"
   ]
  },
  {
   "cell_type": "markdown",
   "id": "e3d8d1f6-f669-4157-8f81-094b9060a6f8",
   "metadata": {
    "tags": []
   },
   "source": [
    "**Please edit the path to your own data:**"
   ]
  },
  {
   "cell_type": "code",
   "execution_count": null,
   "id": "aca1c49e-a188-4e61-9478-197e10ba7b5a",
   "metadata": {
    "tags": []
   },
   "outputs": [],
   "source": [
    "# Path to taxa metadata\n",
    "myMetadataPath <- \"/shared/commons/data/workshop_senegal/taxa_metadata.csv\""
   ]
  },
  {
   "cell_type": "markdown",
   "id": "e2526684-ce8f-460a-b16f-e9fe77f87fdf",
   "metadata": {},
   "source": [
    "Create a function for setting the dimensions of a plot:"
   ]
  },
  {
   "cell_type": "code",
   "execution_count": null,
   "id": "3c2d68ff-bd57-4d23-90cb-c1c614000470",
   "metadata": {
    "tags": []
   },
   "outputs": [],
   "source": [
    "fig <- function(width, height) {\n",
    "    options(\n",
    "        repr.plot.width  = width,\n",
    "        repr.plot.height = height\n",
    "    )\n",
    "}"
   ]
  },
  {
   "cell_type": "markdown",
   "id": "2e8534bc-3c1b-4824-89ef-e7ba36ed8f8f",
   "metadata": {},
   "source": [
    "## Data"
   ]
  },
  {
   "cell_type": "markdown",
   "id": "dbfa1636-3624-43df-a8a4-f30d80c70cb2",
   "metadata": {},
   "source": [
    "Load metadata:"
   ]
  },
  {
   "cell_type": "code",
   "execution_count": null,
   "id": "5e469c05-cc49-4785-8f79-f1717898ab25",
   "metadata": {
    "tags": []
   },
   "outputs": [],
   "source": [
    "taxaMetadata <- read.csv(file = myMetadataPath)\n",
    "taxaMetadata |> head()"
   ]
  },
  {
   "cell_type": "markdown",
   "id": "3c38cc93-7571-4df4-b8bf-26a7514c6634",
   "metadata": {
    "tags": []
   },
   "source": [
    "### Retrieve BrAPI data and filter"
   ]
  },
  {
   "cell_type": "markdown",
   "id": "8a8f17d3-1dc6-45f9-999a-cf2ef254247d",
   "metadata": {},
   "source": [
    "**You will need to log into Gigwa using the BrAPI helper.**"
   ]
  },
  {
   "cell_type": "code",
   "execution_count": null,
   "id": "e575c864-b929-4864-8972-a7f3f8e53d40",
   "metadata": {
    "tags": []
   },
   "outputs": [],
   "source": [
    "geno_provider$gigwa_list_dbs()"
   ]
  },
  {
   "cell_type": "markdown",
   "id": "828029e5-df77-4755-bb5b-e63ae08d6241",
   "metadata": {},
   "source": [
    "**Please edit the code to set your database (db):**"
   ]
  },
  {
   "cell_type": "code",
   "execution_count": null,
   "id": "b0615b5e-b9bd-435f-ac8f-fe75cb7e3a9e",
   "metadata": {
    "tags": []
   },
   "outputs": [],
   "source": [
    "geno_provider$gigwa_set_db(\"myDataBase\")"
   ]
  },
  {
   "cell_type": "code",
   "execution_count": null,
   "id": "62590139-fd65-4427-ab95-f38785e5e5a3",
   "metadata": {
    "tags": []
   },
   "outputs": [],
   "source": [
    "geno_provider$gigwa_list_projects()"
   ]
  },
  {
   "cell_type": "markdown",
   "id": "e0622ed9-6b45-4ddf-9c32-2ff055043f74",
   "metadata": {},
   "source": [
    "**Please edit the code to set your project:**"
   ]
  },
  {
   "cell_type": "code",
   "execution_count": null,
   "id": "19b5bb1f-f3ec-4654-93a2-8c2cab20229b",
   "metadata": {
    "tags": []
   },
   "outputs": [],
   "source": [
    "geno_provider$gigwa_set_project(\"myProject\")"
   ]
  },
  {
   "cell_type": "markdown",
   "id": "cac46961-9491-4a1f-9ba7-0fe14e733e30",
   "metadata": {},
   "source": [
    "**Edit the below code to use appropriate filters for your data set and analysis, additional filtering can be done after retrieving the data and loading into rTASSEL.** "
   ]
  },
  {
   "cell_type": "code",
   "execution_count": null,
   "id": "671907e3-a8ab-4b31-bdff-e972d63f1ef3",
   "metadata": {
    "tags": []
   },
   "outputs": [],
   "source": [
    "genoDataFromGigwa <- geno_provider$gigwa_get_variants(\n",
    "    max_missing = 0.2,\n",
    "    min_maf = 0.05\n",
    ")"
   ]
  },
  {
   "cell_type": "markdown",
   "id": "502ed58b-0458-46a9-a625-3ada419f880f",
   "metadata": {},
   "source": [
    "#### Inspect genotype data in R"
   ]
  },
  {
   "cell_type": "code",
   "execution_count": null,
   "id": "6d5a7685-8ffa-4f66-95fd-337107dc822b",
   "metadata": {
    "tags": []
   },
   "outputs": [],
   "source": [
    "genoDataFromGigwa |> head()\n",
    "genoDataFromGigwa |> dim()\n",
    "genoDataFromGigwa |> names()"
   ]
  },
  {
   "cell_type": "markdown",
   "id": "1f5ae9e1-c278-4014-bea0-40579b953d78",
   "metadata": {},
   "source": [
    "#### Load genotype data into rTASSEL"
   ]
  },
  {
   "cell_type": "code",
   "execution_count": null,
   "id": "5bff0fb8-f777-429f-a38e-f3cd77e61dfd",
   "metadata": {
    "tags": []
   },
   "outputs": [],
   "source": [
    "tasGeno <- genoDataFromGigwa |> rTASSEL::readGenotypeTableFromGigwa()"
   ]
  },
  {
   "cell_type": "code",
   "execution_count": null,
   "id": "3694afaa-cf9d-4616-901f-9e19bcfbbc89",
   "metadata": {
    "tags": []
   },
   "outputs": [],
   "source": [
    "tasGeno"
   ]
  },
  {
   "cell_type": "markdown",
   "id": "950ab492-9f34-494f-b00a-448305757ce6",
   "metadata": {},
   "source": [
    "**Perform filtering steps in rTASSEL for your data set and analysis:**  \n",
    "    - See 02_rTASSEL_GenotypeFiltering.ipynb for more details about filtering."
   ]
  },
  {
   "cell_type": "markdown",
   "id": "365f4a3f-6918-4a5a-a9d2-caf95c68c163",
   "metadata": {},
   "source": [
    "## Analysis"
   ]
  },
  {
   "cell_type": "markdown",
   "id": "d3f13f6a-1060-4421-86e5-a27aab9c1417",
   "metadata": {},
   "source": [
    "`rTASSEL` allows for interfacing with TASSEL's tree generation methods from\n",
    "genotype information. This can be performed using the `createTree()` method\n",
    "with a `TasselGenotypePhenotype` object containing genotype table information."
   ]
  },
  {
   "cell_type": "markdown",
   "id": "4dc59556-9933-4395-ae92-0b9ce262b125",
   "metadata": {},
   "source": [
    "### Phylogeny using neighbor joining method"
   ]
  },
  {
   "cell_type": "markdown",
   "id": "17499de9-e090-4674-8115-42be0cddfa4c",
   "metadata": {
    "tags": []
   },
   "source": [
    "`Neighbor_Joining` - Neighbor Joining method. More info can be found\n",
    "  [here](https://en.wikipedia.org/wiki/Neighbor_joining)"
   ]
  },
  {
   "cell_type": "code",
   "execution_count": null,
   "id": "a36635ed-6e58-4092-91fd-db9b6f90372c",
   "metadata": {
    "tags": []
   },
   "outputs": [],
   "source": [
    "phyloTree_NJ <- createTree(\n",
    "    tasObj = tasGeno,\n",
    "    clustMethod = \"Neighbor_Joining\"\n",
    ")"
   ]
  },
  {
   "cell_type": "markdown",
   "id": "730b34b2-4bf8-442d-b924-feb19248c66e",
   "metadata": {},
   "source": [
    "Upon creation, the `phyloTree` object is returned as a `phylo` object generated\n",
    "by the [ape](https://cran.r-project.org/web/packages/ape/ape.pdf) package:"
   ]
  },
  {
   "cell_type": "code",
   "execution_count": null,
   "id": "b5a10282-43c0-4da7-859c-bbad3e081616",
   "metadata": {
    "tags": []
   },
   "outputs": [],
   "source": [
    "phyloTree_NJ"
   ]
  },
  {
   "cell_type": "markdown",
   "id": "cf33c329-8f3c-42de-b54a-77b1b7d3dda1",
   "metadata": {},
   "source": [
    "### Phylogeny using UPGMA"
   ]
  },
  {
   "cell_type": "markdown",
   "id": "260baf62-e262-4420-970d-87586db91227",
   "metadata": {
    "tags": []
   },
   "source": [
    "`UPGMA` - **U**nweighted **P**air **G**roup **M**ethod with **A**rithmetic \n",
    "  **M**ean. More info can be found [here](https://en.wikipedia.org/wiki/UPGMA)."
   ]
  },
  {
   "cell_type": "code",
   "execution_count": null,
   "id": "2c2f2d34-6687-4ec2-bdf3-c771aebbfdf1",
   "metadata": {
    "tags": []
   },
   "outputs": [],
   "source": [
    "phyloTree_UPGMA <- createTree(\n",
    "    tasObj = tasGeno,\n",
    "    clustMethod = \"UPGMA\"\n",
    ")\n",
    "phyloTree_UPGMA"
   ]
  },
  {
   "cell_type": "markdown",
   "id": "6c6686ac-b2f4-45c3-83a9-132e55b00357",
   "metadata": {},
   "source": [
    "## Visualization using ggtree"
   ]
  },
  {
   "cell_type": "markdown",
   "id": "c1d12281-c22a-48be-8311-00e078caa45e",
   "metadata": {
    "tags": []
   },
   "source": [
    "The `phylo` object created with rTASSEL can be used by common base-R methods (e.g. `plot()`) or other\n",
    "visualization libraries such as\n",
    "[ggtree](https://bioconductor.org/packages/release/bioc/html/ggtree.html)."
   ]
  },
  {
   "cell_type": "markdown",
   "id": "7ce9f6a7-5128-4648-a7cd-0fd154227831",
   "metadata": {},
   "source": [
    "First, set the plot dimensions with the figure function created at the start of the notebook: "
   ]
  },
  {
   "cell_type": "code",
   "execution_count": null,
   "id": "dce234ba-e32d-4335-899d-d522f3a15473",
   "metadata": {
    "tags": []
   },
   "outputs": [],
   "source": [
    "fig(8, 8)"
   ]
  },
  {
   "cell_type": "markdown",
   "id": "8f5c830f-8dc6-4d5d-b0bd-24faa3c47132",
   "metadata": {},
   "source": [
    "Example using default parameters:"
   ]
  },
  {
   "cell_type": "code",
   "execution_count": null,
   "id": "9e3baa58-dccc-49b7-a26d-84d2c9a926dc",
   "metadata": {
    "tags": []
   },
   "outputs": [],
   "source": [
    "ggtree(phyloTree_UPGMA)"
   ]
  },
  {
   "cell_type": "markdown",
   "id": "df793c8d-0050-4ebb-baaa-7e32550e67ef",
   "metadata": {},
   "source": [
    "Example changing the default parameters:"
   ]
  },
  {
   "cell_type": "code",
   "execution_count": null,
   "id": "12c61a84-0f98-4b40-b873-e859ef6fe49a",
   "metadata": {
    "tags": []
   },
   "outputs": [],
   "source": [
    "fig(8, 8)\n",
    "phyloTree_UPGMA |>\n",
    "    ggtree(size = 1.5, layout = \"circular\", branch.length = \"none\") "
   ]
  },
  {
   "cell_type": "markdown",
   "id": "726723ef-910a-499b-9e5a-486a38d5813f",
   "metadata": {},
   "source": [
    "### Add metadata"
   ]
  },
  {
   "cell_type": "code",
   "execution_count": null,
   "id": "55e97c94-97cc-466d-8a65-14f813b4f543",
   "metadata": {},
   "outputs": [],
   "source": [
    "taxaMetadata |> head()"
   ]
  },
  {
   "cell_type": "code",
   "execution_count": null,
   "id": "a932cc82-4e06-4262-9602-e2bd6a2a6b15",
   "metadata": {
    "tags": []
   },
   "outputs": [],
   "source": [
    "fig(10, 10)\n",
    "phyloTree_UPGMA |>\n",
    "    ggtree(size = 1.5, layout = \"circular\", branch.length = \"none\") %<+%\n",
    "    taxaMetadata +\n",
    "    aes(color = Subpopulation)"
   ]
  },
  {
   "cell_type": "markdown",
   "id": "bec0a9b0-24ce-4833-b825-4c2f50a22e48",
   "metadata": {},
   "source": [
    "## References and additional resources"
   ]
  },
  {
   "cell_type": "markdown",
   "id": "ff8fa867-3c45-4b6e-8f1c-6e6e940ac240",
   "metadata": {},
   "source": [
    "To cite rTASSEL, please use the following citation:\n",
    "\n",
    "Monier et al., (2022). rTASSEL: An R interface to TASSEL for analyzing genomic diversity. Journal of Open Source Software, 7(76), 4530, https://doi.org/10.21105/joss.04530."
   ]
  },
  {
   "cell_type": "markdown",
   "id": "8aa379d8-149b-439a-841a-ef0d20eba51c",
   "metadata": {},
   "source": [
    "**Please also cite QBMS using the following citation:**\n",
    "\n",
    "Al-Shamaa K (2023). QBMS: Query the Breeding Management System(s). R package version 0.9.1, https://icarda-git.github.io/QBMS/.You can find more information about rTASSEL [here](https://rtassel.maizegenetics.net)\n",
    "\n",
    "and an rTASSEL tutorial in binder [here](https://mybinder.org/v2/gh/btmonier/rTASSEL_sandbox/HEAD?labpath=getting_started.ipynb)."
   ]
  },
  {
   "cell_type": "markdown",
   "id": "9971bfe0-6c62-456b-87ff-e917a046b9b8",
   "metadata": {},
   "source": [
    "**Please also cite QBMS using the following citation:**\n",
    "\n",
    "Al-Shamaa K (2023). QBMS: Query the Breeding Management System(s). R package version 0.9.1, https://icarda-git.github.io/QBMS/."
   ]
  }
 ],
 "metadata": {
  "kernelspec": {
   "display_name": "R 4.1",
   "language": "R",
   "name": "ir4.1"
  },
  "language_info": {
   "codemirror_mode": "r",
   "file_extension": ".r",
   "mimetype": "text/x-r-source",
   "name": "R",
   "pygments_lexer": "r",
   "version": "4.1.2"
  }
 },
 "nbformat": 4,
 "nbformat_minor": 5
}
