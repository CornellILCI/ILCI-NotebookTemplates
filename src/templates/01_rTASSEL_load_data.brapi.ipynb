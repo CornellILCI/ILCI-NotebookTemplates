{
 "cells": [
  {
   "cell_type": "markdown",
   "id": "21ee1444-2da6-4591-b2ac-aafb8676d7c6",
   "metadata": {},
   "source": [
    "# Tutorial: Use BrAPI to load phenotype and genotype data into rTASSEL "
   ]
  },
  {
   "cell_type": "markdown",
   "id": "bc08e2e6-ac15-408f-aa7f-a123b8f57100",
   "metadata": {},
   "source": [
    "## Enter your notebook title here\n",
    "\n",
    "**Objective**: Enter your objective here  \n",
    "**Data**: Describe your data set here  \n",
    "**User and contact**: Enter your name and contact here\n",
    "\n",
    "### Table of contents\n",
    "* [Notes](#Notes) \n",
    "* [Libraries](#Libraries)\n",
    "* [Phenotype data](#Phenotype-data)\n",
    "    + [Retrieve BrAPI data](#Retrieve-BrAPI-data)\n",
    "    + [Inspect phenotype data in R](#Inspect-phenotype-data-in-R)\n",
    "    + [Load phenotype data into rTASSEL](#Load-phenotype-data-into-rTASSEL)\n",
    "* [Genotype data](#Genotype-data)\n",
    "    + [Retrieve BrAPI data](#Retrieve-BrAPI-data)\n",
    "    + [Inspect genotype data into R](#Inspect-genotype-data-into-R)\n",
    "    + [Load genotype data into rTASSEL](#Load-genotype-data-into-rTASSEL)\n",
    "* [Combine phenotype and genotype data into rTASSEL](#Combine-phenotype-and-genotype-data-into-rTASSEL)\n",
    "* [References and additional resources](#References-and-additional-resources)"
   ]
  },
  {
   "cell_type": "markdown",
   "id": "8a3133fd-eaa0-42d7-9e1c-fed82141d8b5",
   "metadata": {},
   "source": [
    "## Notes\n",
    "\n",
    "If you are unfamiliar with the data format requirements for TASSEL and rTASSEL please review the following resources:\n",
    "- [TASSEL user manual](https://bitbucket.org/tasseladmin/tassel-5-source/wiki/UserManual/Load/Load)\n",
    "- [Instructional video](https://www.youtube.com/watch?v=4W3Ohw6Zckg)"
   ]
  },
  {
   "cell_type": "markdown",
   "id": "f71e9123-8710-4c7b-98c4-928e3693abe8",
   "metadata": {},
   "source": [
    "**rTASSEL genotype file requirements**:  \n",
    "\n",
    "rTASSEL accepts the following genotype formats:\n",
    "- hapmap (HMP)\n",
    "- HDF5 (hierarchical data format version 5)\n",
    "- VCF (variant call format)\n",
    "- Plink\n",
    "\n",
    "For more detail see the manual [here](https://bitbucket.org/tasseladmin/tassel-5-source/wiki/UserManual/Load/Load). "
   ]
  },
  {
   "cell_type": "markdown",
   "id": "67bf18c5-8d66-4d2e-9951-94fa8f1b4b0e",
   "metadata": {},
   "source": [
    "**rTASSEL phenotype requirements**: \n",
    "\n",
    "In summary, rTASSEL accepts data structured per the following: \n",
    "- A header that defines data structure and a body containing the main data. Tabs should be used as delimiters.\n",
    "- Data is organized as a two-dimensional table with observations as rows and attributes as columns. The first attribute (column) should always be taxa. Subsequent columns can be data, covariate, or factor. Attributes of type \"data\" are modeled as dependent variables and must be numerical and continuous.\n",
    "\n",
    "|`<Phenotype>`| | | |\n",
    "|:---:|:---:|:---:|:---:|\n",
    "|taxa|factor|data|covariate|\n",
    "|Taxa|rep|EarHT|Q1|\n",
    "|33-16|1|64.75|0.014|\n",
    "    \n",
    "For more detail see the [manual](https://bitbucket.org/tasseladmin/tassel-5-source/wiki/UserManual/Load/Load) under \"Numerical Data.\""
   ]
  },
  {
   "cell_type": "code",
   "execution_count": null,
   "id": "d7a1d9fe-dc58-45f1-ae2f-45c2415de832",
   "metadata": {
    "tags": []
   },
   "outputs": [],
   "source": [
    "getwd()"
   ]
  },
  {
   "cell_type": "code",
   "execution_count": null,
   "id": "5de0fa3d-ffed-4a51-b4a0-b027e525bb92",
   "metadata": {
    "tags": []
   },
   "outputs": [],
   "source": [
    "Sys.Date()"
   ]
  },
  {
   "cell_type": "markdown",
   "id": "5d4e1866-3565-44c7-ae94-0e1483a2bb09",
   "metadata": {},
   "source": [
    "## Libraries"
   ]
  },
  {
   "cell_type": "code",
   "execution_count": null,
   "id": "31a3ea94-71ca-4288-8836-28c3dbcd9c3c",
   "metadata": {
    "tags": []
   },
   "outputs": [],
   "source": [
    "library(data.table) #Efficient I/O handling for delimited data\n",
    "library(rTASSEL) #R interface to TASSEL\n",
    "library(QBMS) #Retrieve data from BrAPI databases\n",
    "library(tidyverse) #Data wrangling"
   ]
  },
  {
   "cell_type": "markdown",
   "id": "313ce007-b20e-4f10-9d55-23aed24a7ba6",
   "metadata": {},
   "source": [
    "## Phenotype data"
   ]
  },
  {
   "cell_type": "markdown",
   "id": "fdc2c3a7-64fc-4b71-9f73-b8a7ba35c901",
   "metadata": {
    "tags": []
   },
   "source": [
    "**You will need to log into BMS using the BrAPI helper.**"
   ]
  },
  {
   "cell_type": "markdown",
   "id": "f27500ec-01d4-4e3a-a4e9-cb52fdade9cd",
   "metadata": {},
   "source": [
    "### Retrieve BrAPI data"
   ]
  },
  {
   "cell_type": "code",
   "execution_count": null,
   "id": "17616e3d-53a6-475a-911c-4e3cb812eaf5",
   "metadata": {
    "tags": []
   },
   "outputs": [],
   "source": [
    "pheno_provider$list_crops()"
   ]
  },
  {
   "cell_type": "markdown",
   "id": "6b5cbe2f-6cda-4aac-afaa-438191e3ccd7",
   "metadata": {},
   "source": [
    "**Please edit the code to set your crop:**"
   ]
  },
  {
   "cell_type": "code",
   "execution_count": null,
   "id": "4265ecd3-76ee-41d3-aab5-dea367fb80eb",
   "metadata": {
    "tags": []
   },
   "outputs": [],
   "source": [
    "pheno_provider$set_crop(\"myCrop\")"
   ]
  },
  {
   "cell_type": "code",
   "execution_count": null,
   "id": "8b3c0e9e-e101-40c3-a530-ec1b14b02045",
   "metadata": {
    "tags": []
   },
   "outputs": [],
   "source": [
    "pheno_provider$list_programs()"
   ]
  },
  {
   "cell_type": "markdown",
   "id": "f1f84732-41e7-4da4-af35-c3a70a749e9a",
   "metadata": {},
   "source": [
    "**Please edit the code to set your program:**"
   ]
  },
  {
   "cell_type": "code",
   "execution_count": null,
   "id": "90281063-f17e-4ce3-9727-9f6b173098bf",
   "metadata": {
    "tags": []
   },
   "outputs": [],
   "source": [
    "pheno_provider$set_program(\"myProgram\")"
   ]
  },
  {
   "cell_type": "code",
   "execution_count": null,
   "id": "9ec6e88e-12d7-460b-9dd3-1b4d9676d216",
   "metadata": {
    "tags": []
   },
   "outputs": [],
   "source": [
    "pheno_provider$list_trials()"
   ]
  },
  {
   "cell_type": "markdown",
   "id": "5b422d3f-d98c-4567-98d1-d34640bda32d",
   "metadata": {},
   "source": [
    "**Please edit the code to set your trial:**"
   ]
  },
  {
   "cell_type": "code",
   "execution_count": null,
   "id": "5a51698f-a5e0-4d30-8e30-dd8079903e1a",
   "metadata": {
    "tags": []
   },
   "outputs": [],
   "source": [
    "pheno_provider$set_trial(\"myTrial\")"
   ]
  },
  {
   "cell_type": "code",
   "execution_count": null,
   "id": "a866ebdd-c917-48cd-9f39-715e544bfc6b",
   "metadata": {
    "tags": []
   },
   "outputs": [],
   "source": [
    "pheno_provider$list_studies()"
   ]
  },
  {
   "cell_type": "markdown",
   "id": "16e3b51e-9e31-4f96-905a-63632dc0bc5d",
   "metadata": {},
   "source": [
    "**Please edit the code to set your study:**"
   ]
  },
  {
   "cell_type": "code",
   "execution_count": null,
   "id": "aa8c38e0-c291-4d32-a7f6-40df5de65cd7",
   "metadata": {
    "tags": []
   },
   "outputs": [],
   "source": [
    "pheno_provider$set_study(study_name = \"myStudy\")"
   ]
  },
  {
   "cell_type": "code",
   "execution_count": null,
   "id": "4a28e3fa-71a0-4b7f-9630-f7aa48d834b0",
   "metadata": {
    "tags": []
   },
   "outputs": [],
   "source": [
    "get_study_info()"
   ]
  },
  {
   "cell_type": "code",
   "execution_count": null,
   "id": "9afff9ab-328c-42f7-a1b7-c5ca9680625e",
   "metadata": {
    "tags": []
   },
   "outputs": [],
   "source": [
    "PhenoDataFromGigwa <- get_study_data()"
   ]
  },
  {
   "cell_type": "markdown",
   "id": "f95c0258-8cd7-462e-98fa-17690785f6aa",
   "metadata": {},
   "source": [
    "### Inspect phenotype data in R"
   ]
  },
  {
   "cell_type": "code",
   "execution_count": null,
   "id": "5ae1afc1-3dcd-4437-bde9-9a64115a66cc",
   "metadata": {
    "tags": []
   },
   "outputs": [],
   "source": [
    "PhenoDataFromGigwa |> head()\n",
    "PhenoDataFromGigwa |> dim()\n",
    "PhenoDataFromGigwa |> names()"
   ]
  },
  {
   "cell_type": "markdown",
   "id": "96f6c57c-75f9-49c2-a716-28c6a23cd781",
   "metadata": {},
   "source": [
    "**You will need to manipulate your dataframe to assign the correct class to your data.**  \n",
    "\n",
    "For example:  \n",
    "\n",
    "- In the code below, a new dataframe is created from PhenoDataFromGigwa created above.\n",
    "- Select() is used to include only the columns that will be used in the subsequent analysis in the new dataframe.\n",
    "- Mutate() is used to modify the columns, applying as.numeric() to change character vectors 'chr' to numeric vectors 'dbl'.\n",
    "\n",
    "**You will need to edit the example for your own data.**"
   ]
  },
  {
   "cell_type": "code",
   "execution_count": null,
   "id": "effd0d6d-0a5b-420e-9702-2a8fcc429740",
   "metadata": {
    "tags": []
   },
   "outputs": [],
   "source": [
    "#PhenoDataFromGigwa_modified <- PhenoDataFromGigwa |> select(germplasmName, trait1, trait2, trait3, trait4) |>\n",
    "#    mutate(\n",
    "#        trait1 = as.numeric(trait1),\n",
    "#        trait2 = as.numeric(trait2),\n",
    "#        trait3 = as.numeric(trait3),\n",
    "#        trait4 = as.numeric(trait4)\n",
    "#        )"
   ]
  },
  {
   "cell_type": "code",
   "execution_count": null,
   "id": "e5a12ab8-90e1-4c8e-913e-3e47fe6148f4",
   "metadata": {
    "tags": []
   },
   "outputs": [],
   "source": [
    "PhenoDataFromGigwa_modified |> head()\n",
    "PhenoDataFromGigwa_modified |> dim()\n",
    "PhenoDataFromGigwa_modified |> names()"
   ]
  },
  {
   "cell_type": "markdown",
   "id": "07ec5ed9-fa3d-4a64-b0b7-23c8b183ed57",
   "metadata": {},
   "source": [
    "### Load phenotype data into rTASSEL"
   ]
  },
  {
   "cell_type": "markdown",
   "id": "b21ca53f-7d41-4b74-ad96-738ba9f23a25",
   "metadata": {},
   "source": [
    "**In order to load phenotype data into rTASSEL you will need to modify your data to follow TASSEL formatting requirments discussed at the top of this notebook.**\n",
    "\n",
    "For example:  \n",
    "\n",
    "- In the code below, an rTASSEL object 'tasPheno' is created by passing the PhenoDataFromGigwa_modified dataframe through readPhenotypeFromDataFrame(). \n",
    "- taxaID is set to 'germplasmName' since our dataframe does not use the default 'Taxa'.\n",
    "- attributeTypes is used to specify which type of data is being loaded for each non-taxa column. The first data column is set as 'data' and with the following 3 columns set to 'covariate'. Otherwise the default for attributeTypes is to set all non-taxa columns as 'data'.\n",
    "\n",
    "**You will need to edit the example for your own data.**"
   ]
  },
  {
   "cell_type": "code",
   "execution_count": null,
   "id": "9ca513f6-4eb4-4196-a1b9-934c84339c34",
   "metadata": {
    "tags": []
   },
   "outputs": [],
   "source": [
    "#tasPheno <- rTASSEL::readPhenotypeFromDataFrame(\n",
    "#   phenotypeDF = PhenoDataFromGigwa_modified,\n",
    "#   taxaID = \"germplasmName\",\n",
    "#   attributeTypes = c(\"data\", rep(\"covariate\", 3))\n",
    "#)\n",
    "#tasPheno"
   ]
  },
  {
   "cell_type": "markdown",
   "id": "ddcda336-f152-4d89-b630-c03b4bc95b78",
   "metadata": {},
   "source": [
    "## Genotype data"
   ]
  },
  {
   "cell_type": "markdown",
   "id": "96223da7-33f5-4c91-8c2e-2dc972b1ea4d",
   "metadata": {},
   "source": [
    "**You will need to log into Gigwa using the BrAPI helper.**"
   ]
  },
  {
   "cell_type": "markdown",
   "id": "f5edcd91-a12e-406f-96a5-f697cc2a4ee6",
   "metadata": {},
   "source": [
    "### Retrieve BrAPI data"
   ]
  },
  {
   "cell_type": "code",
   "execution_count": null,
   "id": "10a09c81-7476-4e3f-8403-71f3d9ef8538",
   "metadata": {
    "tags": []
   },
   "outputs": [],
   "source": [
    "geno_provider$gigwa_list_dbs()"
   ]
  },
  {
   "cell_type": "markdown",
   "id": "0c34f4cc-7533-4461-b00f-dc4afa2ec5c2",
   "metadata": {},
   "source": [
    "**Please edit the code to set your database (db):**"
   ]
  },
  {
   "cell_type": "code",
   "execution_count": null,
   "id": "482934a8-adce-433a-8e22-20a6849cde03",
   "metadata": {
    "tags": []
   },
   "outputs": [],
   "source": [
    "geno_provider$gigwa_set_db(\"myDataBase\")"
   ]
  },
  {
   "cell_type": "code",
   "execution_count": null,
   "id": "4abdbf67-0b8f-40d5-9856-f9c08b7bf6bb",
   "metadata": {
    "tags": []
   },
   "outputs": [],
   "source": [
    "geno_provider$gigwa_list_projects()"
   ]
  },
  {
   "cell_type": "markdown",
   "id": "f363d64c-5468-45e5-8d91-47369d4a508a",
   "metadata": {
    "tags": []
   },
   "source": [
    "**Please edit the code to set your project:**"
   ]
  },
  {
   "cell_type": "code",
   "execution_count": null,
   "id": "62c9b71f-d4c0-4b85-86ba-d68b3c943572",
   "metadata": {
    "tags": []
   },
   "outputs": [],
   "source": [
    "geno_provider$gigwa_set_project(\"myProject\")"
   ]
  },
  {
   "cell_type": "code",
   "execution_count": null,
   "id": "5d153baa-a652-49b0-8aaf-4b910d7590a8",
   "metadata": {
    "tags": []
   },
   "outputs": [],
   "source": [
    "genoDataFromGigwa <- geno_provider$gigwa_get_variants()"
   ]
  },
  {
   "cell_type": "markdown",
   "id": "d9a06c0b-2b9e-4740-96f2-a403a911ce66",
   "metadata": {},
   "source": [
    "### Inspect genotype data into R"
   ]
  },
  {
   "cell_type": "code",
   "execution_count": null,
   "id": "02d572d8-c4ed-4835-84ba-48cb8150023a",
   "metadata": {
    "tags": []
   },
   "outputs": [],
   "source": [
    "genoDataFromGigwa |> head()\n",
    "genoDataFromGigwa |> dim()\n",
    "genoDataFromGigwa |> names()"
   ]
  },
  {
   "cell_type": "markdown",
   "id": "4aba36bb-d311-4df9-822f-7e2c072e8d4b",
   "metadata": {},
   "source": [
    "### Load genotype data into rTASSEL"
   ]
  },
  {
   "cell_type": "code",
   "execution_count": null,
   "id": "912c0364-6c3d-4107-a22a-6e16f4ddfdd0",
   "metadata": {
    "tags": []
   },
   "outputs": [],
   "source": [
    "tasGeno <- genoDataFromGigwa |> rTASSEL::readGenotypeTableFromGigwa()"
   ]
  },
  {
   "cell_type": "code",
   "execution_count": null,
   "id": "18c24e7d-9b9d-46c3-b737-1b298a270226",
   "metadata": {
    "tags": []
   },
   "outputs": [],
   "source": [
    "tasGeno"
   ]
  },
  {
   "cell_type": "markdown",
   "id": "925bfa33-7ae6-4a26-938a-299e4112465e",
   "metadata": {},
   "source": [
    "## Combine phenotype and genotype data into rTASSEL"
   ]
  },
  {
   "cell_type": "code",
   "execution_count": null,
   "id": "d872526a-5191-414f-9b43-0b065fcc7d7a",
   "metadata": {
    "tags": []
   },
   "outputs": [],
   "source": [
    "tasGenoPheno <- rTASSEL::readGenotypePhenotype(\n",
    "    genoPathOrObj = tasGeno,\n",
    "    phenoPathDFOrObj = tasPheno\n",
    ")\n",
    "tasGenoPheno"
   ]
  },
  {
   "cell_type": "markdown",
   "id": "fb3a4006-ae80-4d62-a8f0-5ecec7567e93",
   "metadata": {},
   "source": [
    "## References and additional resources"
   ]
  },
  {
   "cell_type": "markdown",
   "id": "8bcca1f4-9a47-4a7b-9cae-b1d8133bce8d",
   "metadata": {},
   "source": [
    "**To cite rTASSEL, please use the following citation:**\n",
    "\n",
    "Monier et al., (2022). rTASSEL: An R interface to TASSEL for analyzing genomic diversity. Journal of Open Source Software, 7(76), 4530, https://doi.org/10.21105/joss.04530."
   ]
  },
  {
   "cell_type": "markdown",
   "id": "e4e4801f-7215-42f8-ac44-26a3f79768af",
   "metadata": {},
   "source": [
    "You can find more information about rTASSEL [here](https://rtassel.maizegenetics.net)\n",
    "\n",
    "and an rTASSEL tutorial in binder [here](https://mybinder.org/v2/gh/btmonier/rTASSEL_sandbox/HEAD?labpath=getting_started.ipynb)."
   ]
  },
  {
   "cell_type": "markdown",
   "id": "3a8f1c57-1c07-4686-80fb-f20395d8fbf6",
   "metadata": {},
   "source": [
    "**Please also cite QBMS using the following citation:**\n",
    "\n",
    "Al-Shamaa K (2023). QBMS: Query the Breeding Management System(s). R package version 0.9.1, https://icarda-git.github.io/QBMS/."
   ]
  }
 ],
 "metadata": {
  "kernelspec": {
   "display_name": "R 4.1",
   "language": "R",
   "name": "ir4.1"
  },
  "language_info": {
   "codemirror_mode": "r",
   "file_extension": ".r",
   "mimetype": "text/x-r-source",
   "name": "R",
   "pygments_lexer": "r",
   "version": "4.1.2"
  }
 },
 "nbformat": 4,
 "nbformat_minor": 5
}
