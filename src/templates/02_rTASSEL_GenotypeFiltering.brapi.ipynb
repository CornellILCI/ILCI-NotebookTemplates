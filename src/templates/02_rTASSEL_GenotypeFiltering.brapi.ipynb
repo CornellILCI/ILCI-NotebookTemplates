{
 "cells": [
  {
   "cell_type": "markdown",
   "id": "34b6a187-ec74-4d8f-b4b2-feb22ff5d72b",
   "metadata": {},
   "source": [
    "# Tutorial: Filter genotype data with QBMS and rTASSEL "
   ]
  },
  {
   "cell_type": "markdown",
   "id": "989abfa6-ea72-4de4-9883-0b828a3e797e",
   "metadata": {},
   "source": [
    "## Enter your notebook title here\n",
    "\n",
    "**Objective**: Filter genotype data with rTASSEL  \n",
    "**Data**: Describe your data set here  \n",
    "**User and contact**: Enter your name and contact here\n",
    "\n",
    "### Table of contents\n",
    "* [Notes](#Notes) \n",
    "* [Libraries](#Libraries)\n",
    "* [Data](#Data)\n",
    "    * [Filter with QBMS](#Filter-with-QBMS)\n",
    "    * [Inspect genotype data in R](#Inspect-genotype-data-in-R)\n",
    "    * [Load genotype data into rTASSEL](#Load-genotype-data-into-rTASSEL)\n",
    "    * [Filter with rTASSEL](#Filter-with-rTASSEL)\n",
    "        * [Filter by variant site](#Filter-by-variant-site)\n",
    "            * [Examples](#Examples)\n",
    "        * [Filter by taxa](#Filter-by-taxa)\n",
    "            * [Examples](#Examples)\n",
    "    * [Filter by variant site and taxa](#Filter-by-variant-site-and-taxa)\n",
    "* [References and additional resources](#References-and-additional-resources)"
   ]
  },
  {
   "cell_type": "markdown",
   "id": "011b1582-a2c5-4798-bae8-ef738610c795",
   "metadata": {
    "tags": []
   },
   "source": [
    "## Notes\n",
    "\n",
    "This tutorial assumes: \n",
    "1. You already know how to load your data via a BrAPI database into rTASSEL and have inspected your data:\n",
    "- See 01_rTASSEL_load_data.brapi.ipynb on how to load files via BrAPI databases\n",
    "\n",
    "2. It is up to you to determine what filters and values to apply to your data, this notebook describes the methods for applying filters only. \n",
    "- See [this paper](https://www.frontiersin.org/articles/10.3389/fgene.2020.00447/full) for a discussion on genotyping and data quality control. \n",
    "\n",
    "Additional documentation on filtering genotype data with rTASSEL can be found [here](http://rtassel.maizegenetics.net/articles/genotype_filtration.html)."
   ]
  },
  {
   "cell_type": "code",
   "execution_count": null,
   "id": "3c56a333-11ef-47da-be11-f54110119a93",
   "metadata": {},
   "outputs": [],
   "source": [
    "getwd()"
   ]
  },
  {
   "cell_type": "code",
   "execution_count": null,
   "id": "4880863b-6606-41bf-a41f-87b61307437c",
   "metadata": {
    "tags": []
   },
   "outputs": [],
   "source": [
    "Sys.Date()"
   ]
  },
  {
   "cell_type": "markdown",
   "id": "87a60a5d-0d5a-44ed-9280-76155325e9bb",
   "metadata": {},
   "source": [
    "## Libraries"
   ]
  },
  {
   "cell_type": "code",
   "execution_count": null,
   "id": "ed6c3d45-afb0-4720-adad-06751be2dd04",
   "metadata": {
    "tags": []
   },
   "outputs": [],
   "source": [
    "library(QBMS) #Retrieve data from BrAPI databases\n",
    "library(rTASSEL) #R interface to TASSEL"
   ]
  },
  {
   "cell_type": "markdown",
   "id": "51e9f0b2-10b3-4d81-8384-43bc62428161",
   "metadata": {},
   "source": [
    "## Data"
   ]
  },
  {
   "cell_type": "markdown",
   "id": "a97c8494-66fd-46b2-affa-1b4aa9086edf",
   "metadata": {
    "tags": []
   },
   "source": [
    "**You will need to log into Gigwa using the BrAPI helper.**"
   ]
  },
  {
   "cell_type": "code",
   "execution_count": null,
   "id": "3f6cacfe-c647-442b-be3e-444de43cdb51",
   "metadata": {
    "tags": []
   },
   "outputs": [],
   "source": [
    "geno_provider$gigwa_list_dbs()"
   ]
  },
  {
   "cell_type": "markdown",
   "id": "2a65e688-905d-427e-98ed-34aa1f2ee72e",
   "metadata": {},
   "source": [
    "**Please edit the code to set your database (db):**"
   ]
  },
  {
   "cell_type": "code",
   "execution_count": null,
   "id": "848d4a4d-ca4a-446b-b8e2-4108587f301b",
   "metadata": {
    "tags": []
   },
   "outputs": [],
   "source": [
    "geno_provider$gigwa_set_db(\"myDataBase\")"
   ]
  },
  {
   "cell_type": "code",
   "execution_count": null,
   "id": "f28b14bc-3542-46ad-9918-3ca46290d7df",
   "metadata": {
    "tags": []
   },
   "outputs": [],
   "source": [
    "geno_provider$gigwa_list_projects()"
   ]
  },
  {
   "cell_type": "markdown",
   "id": "cbfb39ae-6f2c-4512-8c71-3294370729e6",
   "metadata": {},
   "source": [
    "**Please edit the code to set your project:**"
   ]
  },
  {
   "cell_type": "code",
   "execution_count": null,
   "id": "de4a909f-d522-445f-8a95-a67e746ff6cf",
   "metadata": {
    "tags": []
   },
   "outputs": [],
   "source": [
    "geno_provider$gigwa_set_project(\"myProject\")"
   ]
  },
  {
   "cell_type": "code",
   "execution_count": null,
   "id": "5830a920-2d9b-4077-a568-6e77861e41fe",
   "metadata": {
    "tags": []
   },
   "outputs": [],
   "source": [
    "samples <- gigwa_get_samples()\n",
    "samples |> head()"
   ]
  },
  {
   "cell_type": "markdown",
   "id": "cb5e29ed-3fc7-48a3-a378-65ec0a3d08f7",
   "metadata": {},
   "source": [
    "### Filter with QBMS\n",
    "**Filtering with QBMS allows filtering prior to retrieval of data and can save time.** This is done with gigwa_get_variants() using the optional arguments:\n",
    "\n",
    "* `max_missing` maximum missing ratio by sample [0 and 1], defaults to 1\n",
    "* `min_maf` minimum Minor Allele Frequency [0 and 1], defaults to 0\n",
    "* `samples` a list of a samples subset, defaults to NULL  \n",
    "\n",
    "For example:"
   ]
  },
  {
   "cell_type": "code",
   "execution_count": null,
   "id": "e82a99cf-b164-41cd-ad4c-7255c58eb9ea",
   "metadata": {
    "tags": []
   },
   "outputs": [],
   "source": [
    "genoDataFromGigwa <- geno_provider$gigwa_get_variants(\n",
    "    max_missing = 0.2,\n",
    "    min_maf = 0.05,\n",
    "    samples = c(\"33-16\", \"4722\", \"A214N\")\n",
    ")"
   ]
  },
  {
   "cell_type": "markdown",
   "id": "4fe5192a-abe6-4ff0-9e22-576e6f5c99e7",
   "metadata": {
    "tags": []
   },
   "source": [
    "### Inspect genotype data in R"
   ]
  },
  {
   "cell_type": "code",
   "execution_count": null,
   "id": "0723b434-01c2-4817-b8f3-b8a978e93ed1",
   "metadata": {
    "tags": []
   },
   "outputs": [],
   "source": [
    "genoDataFromGigwa |> head()\n",
    "genoDataFromGigwa |> dim()\n",
    "genoDataFromGigwa |> names()"
   ]
  },
  {
   "cell_type": "markdown",
   "id": "c24a0d90-4186-4a16-b02c-35e718f2797f",
   "metadata": {},
   "source": [
    "### Load genotype data into rTASSEL"
   ]
  },
  {
   "cell_type": "code",
   "execution_count": null,
   "id": "24567553-335c-4b2d-8fb6-fad00aa43359",
   "metadata": {
    "tags": []
   },
   "outputs": [],
   "source": [
    "tasGeno <- genoDataFromGigwa |> rTASSEL::readGenotypeTableFromGigwa()"
   ]
  },
  {
   "cell_type": "code",
   "execution_count": null,
   "id": "21427806-7f3a-4aef-90c1-142ef64f98c0",
   "metadata": {
    "tags": []
   },
   "outputs": [],
   "source": [
    "tasGeno"
   ]
  },
  {
   "cell_type": "markdown",
   "id": "4f6257a2-7e6d-4ec3-b612-2ccb15dc9891",
   "metadata": {},
   "source": [
    "### Filter with rTASSEL "
   ]
  },
  {
   "cell_type": "markdown",
   "id": "60767a9b-8671-4cca-b1ae-74884724443f",
   "metadata": {
    "tags": []
   },
   "source": [
    "### Filter by variant site"
   ]
  },
  {
   "cell_type": "markdown",
   "id": "7bb06bbc-4f78-467c-a3b3-b5efc1085953",
   "metadata": {
    "tags": []
   },
   "source": [
    "Filtering by variant site uses the method: `filterGenotypeTableSites()`  \n",
    "\n",
    "Variant sites can be filtered by:  \n",
    "\n",
    "* Genotype information\n",
    "    + `siteMinCount`\n",
    "    + `siteMinAlleleFreq` (redundant with `min_maf` from QBMS)\n",
    "    + `siteMaxAlleleFreq`\n",
    "    + `minHeterozygous`\n",
    "    + `maxHeterozygous`\n",
    "* Indexed variant sites\n",
    "    + `startSite`\n",
    "    + `endSite`\n",
    "* Physical marker positions\n",
    "    + `startChr`\n",
    "    + `endChr`\n",
    "    + `startPos`\n",
    "    + `endPos`\n",
    "* R objects\n",
    "    + `gRangesObj`\n",
    "* External files\n",
    "    + `bedFile`\n",
    "    + `chrPosFile`"
   ]
  },
  {
   "cell_type": "markdown",
   "id": "a2f92e43-b17e-4eb6-bac7-cd890335b9ed",
   "metadata": {
    "tags": []
   },
   "source": [
    "#### Examples"
   ]
  },
  {
   "cell_type": "markdown",
   "id": "7f75248e-936e-4e25-9e05-72257b342992",
   "metadata": {},
   "source": [
    "Filter by max heterozygosity by site:"
   ]
  },
  {
   "cell_type": "code",
   "execution_count": null,
   "id": "2eb39b22-6606-4018-8f6f-16f93b2df335",
   "metadata": {
    "tags": []
   },
   "outputs": [],
   "source": [
    "tasGeno |> filterGenotypeTableSites(maxHeterozygous = 0.2)"
   ]
  },
  {
   "cell_type": "markdown",
   "id": "6c099d6c-cc20-417c-96b4-2911b0860352",
   "metadata": {},
   "source": [
    "Filter using physical chromosome positions:"
   ]
  },
  {
   "cell_type": "code",
   "execution_count": null,
   "id": "2912c099-3d4b-417f-b73b-7e9969530a4a",
   "metadata": {
    "tags": []
   },
   "outputs": [],
   "source": [
    "tasGeno |>\n",
    "    filterGenotypeTableSites(\n",
    "        siteRangeFilterType = \"position\",\n",
    "        startChr = 9,\n",
    "        endChr = 10,\n",
    "        startPos = 250,\n",
    "        endPos = 700\n",
    "    )"
   ]
  },
  {
   "cell_type": "markdown",
   "id": "15762ee4-726a-48e7-9f0f-21c45f874853",
   "metadata": {},
   "source": [
    "Filter with a bedfile of positions:"
   ]
  },
  {
   "cell_type": "code",
   "execution_count": null,
   "id": "19703028-485a-4092-a7f1-e7d87bafe9c3",
   "metadata": {
    "tags": []
   },
   "outputs": [],
   "source": [
    "tasGeno |> \n",
    "    filterGenotypeTableSites(\n",
    "        siteRangeFilterType = \"none\",\n",
    "        bedFile = \"my_ranges.bed\"\n",
    "    )"
   ]
  },
  {
   "cell_type": "markdown",
   "id": "5471085b-2e29-43f3-a4d8-7324928f3641",
   "metadata": {},
   "source": [
    "### Filter by taxa "
   ]
  },
  {
   "cell_type": "markdown",
   "id": "26d53906-3f77-4c4e-9d90-ca583f3dbf1f",
   "metadata": {
    "tags": []
   },
   "source": [
    "Filtering by taxa uses the method: `filterGenotypeTableTaxa()`  \n",
    "\n",
    "Variant sites can be filtered by:  \n",
    "\n",
    "* Genotype information\n",
    "  + `minNotMissing` (redundant although inverse to `max_missing` in QBMS)\n",
    "  + `minHeterozygous`\n",
    "  + `maxHeterozygous`\n",
    "* R objects\n",
    "  + `taxa` (redundant with `samples` in QBMS)"
   ]
  },
  {
   "cell_type": "markdown",
   "id": "86f34c66-0ee5-45eb-a180-fd75ae841d30",
   "metadata": {},
   "source": [
    "#### Examples"
   ]
  },
  {
   "cell_type": "markdown",
   "id": "09373d94-8466-4ce5-a01e-0df54137513e",
   "metadata": {},
   "source": [
    "Filter taxa by frequency of variants called (not missing).\n",
    "In this example taxa with <80% variant sites (minNotMissing = 0.8) called are removed:"
   ]
  },
  {
   "cell_type": "code",
   "execution_count": null,
   "id": "0dc49037-1efc-4632-8827-65b1eade25e0",
   "metadata": {
    "tags": []
   },
   "outputs": [],
   "source": [
    "tasGeno |> \n",
    "    filterGenotypeTableTaxa(\n",
    "        minNotMissing = 0.8\n",
    "    )"
   ]
  },
  {
   "cell_type": "markdown",
   "id": "c759d475-7279-4cce-a013-a3e865c50d8e",
   "metadata": {},
   "source": [
    "Filter taxa by heterozygosity:"
   ]
  },
  {
   "cell_type": "code",
   "execution_count": null,
   "id": "ad311a2a-314e-47a7-befb-79debb439221",
   "metadata": {
    "tags": []
   },
   "outputs": [],
   "source": [
    "tasGeno |> \n",
    "    filterGenotypeTableTaxa(\n",
    "        maxHeterozygous = 0.2\n",
    "    )"
   ]
  },
  {
   "cell_type": "markdown",
   "id": "c1cb78ce-3295-4072-b799-12e5afcaccde",
   "metadata": {},
   "source": [
    "### Filter by variant site and taxa"
   ]
  },
  {
   "cell_type": "code",
   "execution_count": null,
   "id": "3b4ab8c4-30c1-471c-a6f1-3330f4067765",
   "metadata": {
    "tags": []
   },
   "outputs": [],
   "source": [
    "tasGeno |>\n",
    "    filterGenotypeTableTaxa(\n",
    "        minNotMissing = 0.8\n",
    "    ) |>\n",
    "    filterGenotypeTableSites(\n",
    "        maxHeterozygous = 0.2\n",
    "    )"
   ]
  },
  {
   "cell_type": "markdown",
   "id": "d45c1554-ae62-42ed-b440-5ed1d93a0b46",
   "metadata": {},
   "source": [
    "## References and additional resources"
   ]
  },
  {
   "cell_type": "markdown",
   "id": "9287fa2e-ef58-47cb-959b-1c27b8e7de14",
   "metadata": {
    "tags": []
   },
   "source": [
    "**To cite rTASSEL, please use the following citation:**\n",
    "\n",
    "Monier et al., (2022). rTASSEL: An R interface to TASSEL for analyzing genomic diversity. Journal of Open Source Software, 7(76), 4530, https://doi.org/10.21105/joss.04530."
   ]
  },
  {
   "cell_type": "markdown",
   "id": "cbfd1d41-15ab-461f-bbc2-26799bc88d37",
   "metadata": {
    "tags": []
   },
   "source": [
    "You can find more information about rTASSEL [here](https://rtassel.maizegenetics.net)\n",
    "\n",
    "and an rTASSEL tutorial in binder [here](https://mybinder.org/v2/gh/btmonier/rTASSEL_sandbox/HEAD?labpath=getting_started.ipynb)."
   ]
  },
  {
   "cell_type": "markdown",
   "id": "5626dd24-a2cf-4785-a816-bd6e965532d2",
   "metadata": {
    "tags": []
   },
   "source": [
    "**Please also cite QBMS using the following citation:**\n",
    "\n",
    "Al-Shamaa K (2023). QBMS: Query the Breeding Management System(s). R package version 0.9.1, https://icarda-git.github.io/QBMS/."
   ]
  }
 ],
 "metadata": {
  "kernelspec": {
   "display_name": "R 4.1",
   "language": "R",
   "name": "ir4.1"
  },
  "language_info": {
   "codemirror_mode": "r",
   "file_extension": ".r",
   "mimetype": "text/x-r-source",
   "name": "R",
   "pygments_lexer": "r",
   "version": "4.1.2"
  }
 },
 "nbformat": 4,
 "nbformat_minor": 5
}
