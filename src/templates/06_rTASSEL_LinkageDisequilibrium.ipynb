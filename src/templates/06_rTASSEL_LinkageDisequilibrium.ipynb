{
 "cells": [
  {
   "cell_type": "markdown",
   "id": "ddc517f5-a40f-43b8-ab5a-2c155f72d082",
   "metadata": {
    "tags": []
   },
   "source": [
    "# Tutorial: Calculate and visualize linkage disequilibrium with rTASSEL"
   ]
  },
  {
   "cell_type": "markdown",
   "id": "ded4fd81-0a29-4290-b449-caf7a1186c38",
   "metadata": {},
   "source": [
    "## Enter your notebook title here\n",
    "\n",
    "**Objective**: Describe the objective here  \n",
    "**Data**: Describe your data set here  \n",
    "**User and contact**: Enter your name and contact here\n",
    "\n",
    "### Table of contents\n",
    "* [Notes](#Notes)\n",
    "* [Libraries](#Libraries)\n",
    "* [Parameters and functions](#Parameters-and-functions)\n",
    "* [Data](#Data)\n",
    "* [Analysis](#Analysis)\n",
    "    + [Filter TASSEL genotype object by position](#Filter-TASSEL-genotype-object-by-position)\n",
    "    + [Generate linkage disequilbrium metrics](#Generate-linkage-disequilbrium-metrics)\n",
    "* [Visualize](#Visualize)\n",
    "* [References and additional resources](#References-and-additional-resources)"
   ]
  },
  {
   "cell_type": "markdown",
   "id": "f08bdb9f-e0b4-4688-a1f9-c7cb725de0e3",
   "metadata": {
    "tags": []
   },
   "source": [
    "## Notes\n",
    "\n",
    "This tutorial assumes: \n",
    "1. You already know how to load your data via a flat file into rTASSEL and have inspected your data:\n",
    "    - See 01_rTASSEL_load_data.ipynb for a tutorial on how to load flat files into rTASSEL.\n",
    "2. You will filter your genotype data as appropriate for your data set and analysis:\n",
    "    - See 02_rTASSEL_GenotypeFiltering.ipynb for a tutorial on how to filter genotype data using rTASSEL.\n",
    "\n",
    "About calculating LD in rTASSEL:   \n",
    "\n",
    "Linkage disequilibrium between any set of polymorphisms can be estimated by initially filtering a genotype dataset and then using `linkageDiseq()` or `ldPlot()`. At this time, $D'$, $r^2$ and $P$-values will be estimated. The current version calculates LD between haplotypes with known phase only (unphased diploid genotypes are not supported; see PowerMarker or Arlequin for genotype support). \n",
    "\n",
    "- $D$' is the standardized disequilibrium coefficient, a useful statistic for determining whether recombination or homoplasy has occurred between a pair of alleles. \n",
    "\n",
    "- $r^2$ represents the correlation between alleles at two loci, which is informative for evaluating the resolution of association approaches. \n",
    "\n",
    "$D'$ and $r^2$ can be calculated when only two alleles are present. If more than two alleles, only the two most frequent alleles are used. $P$-values are determined by a two-sided Fisher's Exact test is calculated. Since LD is meaningless when scored with very small sample sizes, a minimum of 20 taxa must be present to calculate LD and there must be 2 or more minor alleles.\n",
    " \n",
    "Additional documentation on the `linkageDiseq()` function in rTASSEL can be found [here](https://rtassel.maizegenetics.net/reference/linkageDiseq.html) and `ldPlot()` [here](https://rtassel.maizegenetics.net/reference/ldPlot.html)."
   ]
  },
  {
   "cell_type": "code",
   "execution_count": null,
   "id": "9343a14d-0535-493e-828f-fdd3a6f3f6cf",
   "metadata": {},
   "outputs": [],
   "source": [
    "getwd()"
   ]
  },
  {
   "cell_type": "code",
   "execution_count": null,
   "id": "f4936c32-f54e-445c-a2be-176e1d74ad52",
   "metadata": {},
   "outputs": [],
   "source": [
    "Sys.Date()"
   ]
  },
  {
   "cell_type": "markdown",
   "id": "8a4ca7cf-4648-47c4-8525-b8c5664346fa",
   "metadata": {},
   "source": [
    "## Libraries"
   ]
  },
  {
   "cell_type": "code",
   "execution_count": null,
   "id": "ccf782ff-131b-440b-b101-1f733df126d2",
   "metadata": {
    "tags": []
   },
   "outputs": [],
   "source": [
    "library(rTASSEL)"
   ]
  },
  {
   "cell_type": "markdown",
   "id": "14fdbe6b-35a0-4303-a734-65c38e5e215b",
   "metadata": {},
   "source": [
    "## Parameters and functions"
   ]
  },
  {
   "cell_type": "markdown",
   "id": "3d9cd972-cdca-44ed-a1c1-5f7c46b6d096",
   "metadata": {
    "tags": []
   },
   "source": [
    "**Please edit the path to your own data:**"
   ]
  },
  {
   "cell_type": "code",
   "execution_count": null,
   "id": "288e67e7-ef88-4972-a2a2-e58ec48ac504",
   "metadata": {
    "tags": []
   },
   "outputs": [],
   "source": [
    "# Path to genotype data\n",
    "myGenoPath <- \"/path/to/my/genotype/data\""
   ]
  },
  {
   "cell_type": "markdown",
   "id": "e2526684-ce8f-460a-b16f-e9fe77f87fdf",
   "metadata": {},
   "source": [
    "Create a function for setting the dimensions of a plot:"
   ]
  },
  {
   "cell_type": "code",
   "execution_count": null,
   "id": "3c2d68ff-bd57-4d23-90cb-c1c614000470",
   "metadata": {
    "tags": []
   },
   "outputs": [],
   "source": [
    "fig <- function(width, height) {\n",
    "    options(\n",
    "        repr.plot.width  = width,\n",
    "        repr.plot.height = height\n",
    "    )\n",
    "}"
   ]
  },
  {
   "cell_type": "markdown",
   "id": "2e8534bc-3c1b-4824-89ef-e7ba36ed8f8f",
   "metadata": {},
   "source": [
    "## Data"
   ]
  },
  {
   "cell_type": "code",
   "execution_count": null,
   "id": "2a40a63f-1d3f-480b-b63f-dc0bd24dcfbf",
   "metadata": {
    "tags": []
   },
   "outputs": [],
   "source": [
    "tasGeno <- rTASSEL::readGenotypeTableFromPath(\n",
    "    path = myGenoPath\n",
    ")\n",
    "tasGeno"
   ]
  },
  {
   "cell_type": "markdown",
   "id": "950ab492-9f34-494f-b00a-448305757ce6",
   "metadata": {},
   "source": [
    "**Perform filtering steps in rTASSEL for your data set and analysis:**  \n",
    "    - See 02_rTASSEL_GenotypeFiltering.ipynb for more details about filtering."
   ]
  },
  {
   "cell_type": "markdown",
   "id": "02f33c7d-379b-45df-8d6c-7af2e3bdf9fc",
   "metadata": {
    "tags": []
   },
   "source": [
    "## Analysis"
   ]
  },
  {
   "cell_type": "markdown",
   "id": "c5892d29-e39b-4164-8a9a-e1b853817462",
   "metadata": {},
   "source": [
    "### Filter TASSEL genotype object by position\n",
    "**Please edit for your interested position range:**"
   ]
  },
  {
   "cell_type": "code",
   "execution_count": null,
   "id": "7a43eb10-991e-4856-b7e6-8028c47d49b7",
   "metadata": {
    "tags": []
   },
   "outputs": [],
   "source": [
    "tasGenoFilter <- filterGenotypeTableSites(\n",
    "    tasObj              = tasGeno,\n",
    "    siteRangeFilterType = \"position\",\n",
    "    startPos            = 228e6,\n",
    "    endPos              = 300e6,\n",
    "    startChr            = 2,\n",
    "    endChr              = 2\n",
    ")"
   ]
  },
  {
   "cell_type": "markdown",
   "id": "bb237b91-faa4-431f-9c5e-8e278cc56c66",
   "metadata": {
    "tags": []
   },
   "source": [
    "### Generate linkage disequilbrium metrics "
   ]
  },
  {
   "cell_type": "markdown",
   "id": "1b416a14-5894-4218-b221-2d4e111bdfd9",
   "metadata": {
    "tags": []
   },
   "source": [
    "This is an example of how to use the `linkageDiseq()` function, please edit the parameters for your analysis. See [here](https://rtassel.maizegenetics.net/reference/linkageDiseq.html) for a description of the options."
   ]
  },
  {
   "cell_type": "code",
   "execution_count": null,
   "id": "f8777095-8a25-45bd-bdec-0c3e59e9b8a9",
   "metadata": {
    "tags": []
   },
   "outputs": [],
   "source": [
    "LDcalc <- linkageDiseq(\n",
    "  tasGenoFilter,\n",
    "  ldType = \"All\",\n",
    "  windowSize = NULL,\n",
    "  hetCalls = \"ignore\",\n",
    "  verbose = TRUE\n",
    ")"
   ]
  },
  {
   "cell_type": "code",
   "execution_count": null,
   "id": "71e10767-a098-47a1-9619-3eff3dda90e3",
   "metadata": {
    "tags": []
   },
   "outputs": [],
   "source": [
    "LDcalc |> head()"
   ]
  },
  {
   "cell_type": "markdown",
   "id": "365f4a3f-6918-4a5a-a9d2-caf95c68c163",
   "metadata": {},
   "source": [
    "## Visualize "
   ]
  },
  {
   "cell_type": "markdown",
   "id": "0263a07e-5046-4ca2-aa2e-5bfdfbd7cea0",
   "metadata": {},
   "source": [
    "Use can also use your filtered TASSEL object to visualize linkage disequilibrium in a plot generated in rTASSEL.\n",
    "\n",
    "This is an example of how to use the `ldPlot()` function, please edit the parameters for your analysis. See [here](https://rtassel.maizegenetics.net/reference/ldPlot.html) for a description of the options."
   ]
  },
  {
   "cell_type": "code",
   "execution_count": null,
   "id": "ba0a82f6-92fb-495d-9738-19ee4251ca45",
   "metadata": {
    "tags": []
   },
   "outputs": [],
   "source": [
    "myLDplot <- ldPlot(\n",
    "    tasObj  = tasGenoFilter,\n",
    "    ldType  = \"All\",\n",
    "    windowSize = NULL,\n",
    "    hetCalls = \"ignore\",\n",
    "    plotVal = \"r2\",\n",
    "    verbose = TRUE\n",
    ")"
   ]
  },
  {
   "cell_type": "markdown",
   "id": "b7fcd313-9e92-4187-89d5-6cce776d3464",
   "metadata": {
    "tags": []
   },
   "source": [
    "First, set the plot dimensions with the figure function created at the start of the notebook: "
   ]
  },
  {
   "cell_type": "code",
   "execution_count": null,
   "id": "962f81c2-8a04-4c99-9237-afb9aa0f59a3",
   "metadata": {
    "tags": []
   },
   "outputs": [],
   "source": [
    "fig(10,10)"
   ]
  },
  {
   "cell_type": "markdown",
   "id": "73ad465e-fca1-4409-8e3e-6b2e388248c2",
   "metadata": {
    "tags": []
   },
   "source": [
    "Display plot:"
   ]
  },
  {
   "cell_type": "code",
   "execution_count": null,
   "id": "f475b0fb-ec8b-4dce-ab2e-48e6ed6b4af4",
   "metadata": {
    "tags": []
   },
   "outputs": [],
   "source": [
    "myLDplot"
   ]
  },
  {
   "cell_type": "markdown",
   "id": "bec0a9b0-24ce-4833-b825-4c2f50a22e48",
   "metadata": {},
   "source": [
    "## References and additional resources"
   ]
  },
  {
   "cell_type": "markdown",
   "id": "ff8fa867-3c45-4b6e-8f1c-6e6e940ac240",
   "metadata": {},
   "source": [
    "To cite rTASSEL, please use the following citation:\n",
    "\n",
    "Monier et al., (2022). rTASSEL: An R interface to TASSEL for analyzing genomic diversity. Journal of Open Source Software, 7(76), 4530, https://doi.org/10.21105/joss.04530."
   ]
  },
  {
   "cell_type": "markdown",
   "id": "8aa379d8-149b-439a-841a-ef0d20eba51c",
   "metadata": {},
   "source": [
    "You can find more information about rTASSEL [here](https://rtassel.maizegenetics.net)\n",
    "\n",
    "and an rTASSEL tutorial in binder [here](https://mybinder.org/v2/gh/btmonier/rTASSEL_sandbox/HEAD?labpath=getting_started.ipynb)."
   ]
  }
 ],
 "metadata": {
  "kernelspec": {
   "display_name": "R 4.1",
   "language": "R",
   "name": "ir4.1"
  },
  "language_info": {
   "codemirror_mode": "r",
   "file_extension": ".r",
   "mimetype": "text/x-r-source",
   "name": "R",
   "pygments_lexer": "r",
   "version": "4.1.2"
  }
 },
 "nbformat": 4,
 "nbformat_minor": 5
}
