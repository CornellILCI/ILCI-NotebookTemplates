{
 "cells": [
  {
   "cell_type": "markdown",
   "id": "89e00a19-e42b-4d6d-9910-127109ae4c8d",
   "metadata": {},
   "source": [
    "# BrAPI Helper in action!"
   ]
  },
  {
   "cell_type": "markdown",
   "id": "9066e61e-abe8-4108-ad67-19d28e6fb8b5",
   "metadata": {},
   "source": [
    "## Load Libraries\n",
    "We will loads some libraries needed by the application. \n",
    ">The BrAPI Helper will also load some libraries for us."
   ]
  },
  {
   "cell_type": "code",
   "execution_count": null,
   "id": "3c0ebd21-e8bc-45a8-a676-46221ddf11b9",
   "metadata": {},
   "outputs": [],
   "source": [
    "library(QBMS)\n",
    "suppressMessages(library(tidyverse))"
   ]
  },
  {
   "cell_type": "markdown",
   "id": "9c61757b-8687-459d-b58a-e6159ed420f8",
   "metadata": {},
   "source": [
    "## Retrieve phenotype data from BMS\n",
    "\n",
    "Interacting with the phenotype database is done via the `pheno_provider` variable. As a reminder, this variable is created by the BrAPI helper tool upon sucessful login.\n",
    "\n",
    "For this excersise we created a `Maize` breeding program called `rTASSEL Testbed` with a breeding trial called `rTASSEL_Demo_wHapMap`. Inside this trial we created phenotype dataset for a dummy environment called `Environment Number 1`\n",
    "\n",
    "We will use the `pheno_provider` variable to access and retrieve this data."
   ]
  },
  {
   "cell_type": "code",
   "execution_count": null,
   "id": "44fad552-e262-43ef-8e8c-0cbadfc3000a",
   "metadata": {},
   "outputs": [],
   "source": [
    "pheno_provider$list_crops() |> \n",
    "     as_tibble() |> \n",
    "     rename(available_crops = value)"
   ]
  },
  {
   "cell_type": "code",
   "execution_count": null,
   "id": "9f0b05e8-39bd-4911-9d93-36222f427957",
   "metadata": {},
   "outputs": [],
   "source": [
    "pheno_provider$set_crop(\"maize\")"
   ]
  },
  {
   "cell_type": "code",
   "execution_count": null,
   "id": "43717873-4e04-49ce-a202-1f7460ad50ea",
   "metadata": {},
   "outputs": [],
   "source": [
    "pheno_provider$list_programs()"
   ]
  },
  {
   "cell_type": "code",
   "execution_count": null,
   "id": "c391c461-8ee5-4866-81d4-953a6afa7749",
   "metadata": {},
   "outputs": [],
   "source": [
    "pheno_provider$set_program(\"rTASSEL Testbed\")"
   ]
  },
  {
   "cell_type": "code",
   "execution_count": null,
   "id": "5a918f00-be85-435c-b32e-1845407f1f2b",
   "metadata": {},
   "outputs": [],
   "source": [
    "pheno_provider$list_trials()"
   ]
  },
  {
   "cell_type": "code",
   "execution_count": null,
   "id": "1c979f71-c677-449f-b228-7c26f97477e8",
   "metadata": {},
   "outputs": [],
   "source": [
    "pheno_provider$set_trial(\"rTASSEL_Demo_wHapMap\")"
   ]
  },
  {
   "cell_type": "code",
   "execution_count": null,
   "id": "09aa16b2-efbc-49f5-9c42-94d3fd903f9b",
   "metadata": {},
   "outputs": [],
   "source": [
    "pheno_provider$list_studies()"
   ]
  },
  {
   "cell_type": "code",
   "execution_count": null,
   "id": "5c58c67a-b791-4765-b611-9ef62633a2a4",
   "metadata": {},
   "outputs": [],
   "source": [
    "pheno_provider$set_study(study_name = \"rTASSEL_Demo_wHapMap Environment Number 1\")"
   ]
  },
  {
   "cell_type": "code",
   "execution_count": null,
   "id": "d3aa7a82-c8af-4052-a0bf-8a1c939c1824",
   "metadata": {},
   "outputs": [],
   "source": [
    "# select Corn Ear Height (EH_M_cm) and Diameter (EDia_M_cm) \n",
    "# and days to pollination (Dpoll)\n",
    "pheno_df <- pheno_provider$get_study_data() |>\n",
    "    select(germplasmName, EH_M_cm, EDia_M_cm, Dpoll) |>\n",
    "    mutate(across(c(EH_M_cm, EDia_M_cm, Dpoll), as.numeric))"
   ]
  },
  {
   "cell_type": "markdown",
   "id": "e1f2c416-6985-4b30-8347-e58d20ab1063",
   "metadata": {},
   "source": [
    "### Phenotype Data Visualization\n",
    "We will create a histogram for the Corn Ear Height (EH_M_cm) trait."
   ]
  },
  {
   "cell_type": "code",
   "execution_count": null,
   "id": "1901e673-8bbe-4589-b647-79da9dd5cd26",
   "metadata": {},
   "outputs": [],
   "source": [
    "# Create the histogram for EH_M_cm\n",
    "fig_EH <- pheno_df |> ggplot() +\n",
    "  aes(EH_M_cm) +\n",
    "  geom_histogram(fill = \"blue\", bins = 30) +\n",
    "  labs(title = \"Ear Height (cm)\") +\n",
    "  theme_minimal()\n",
    "\n",
    "#display plot\n",
    "fig_EH"
   ]
  },
  {
   "cell_type": "markdown",
   "id": "5d93a7fb-cd9c-4cd3-a8b4-2c738a7b9f70",
   "metadata": {},
   "source": [
    "## The END\n",
    "\n",
    "At this point, you have already loaded and visualized data directly from two databases. From this point on, you can use the data to perform various analyses.\n",
    "\n",
    "You can explore other templates that have been created for this purpose by looking at our template repository.\n"
   ]
  },
  {
   "cell_type": "markdown",
   "id": "fadc18ec-0df5-4384-81c6-538040e53e90",
   "metadata": {},
   "source": [
    "---\n",
    "## Practice Excercises\n",
    "### 1. Create a histogram for another trait.\n",
    "Using the phenotype data frame `pheno_df` create a plot for any the remaining traits: `EDia_M_cm` and `Dpoll`.\n",
    "#### Hint 1. To take a pick at the dataframe and see which other traits are available you could use:\n",
    "```R\n",
    "pheno_df |> head() \n",
    "```\n",
    "#### Hint 2. Use the following code as a guide for creating your plot (modify as needed):\n",
    "```R\n",
    "# code template\n",
    "myFigure <- pheno_df |> ggplot() +\n",
    "  aes(TraitName) +\n",
    "  geom_histogram(fill = \"my_color\", bins = 30) +\n",
    "  labs(title = \"My Title\") +\n",
    "  theme_minimal()\n",
    "```\n"
   ]
  },
  {
   "cell_type": "markdown",
   "id": "37950aa2-27dd-4a39-96b0-d7b4a7003bf3",
   "metadata": {},
   "source": [
    "---\n",
    "### 2. Create plots for all the traits and combined them in a single plot. (OPTIONAL)\n",
    ">Note this is a bit more advanced, and it can be safely skipped.\n",
    "#### Hint 1. Multiple figured can be combined as follows:\n",
    "``` R\n",
    "library(patchwork)\n",
    "# Combine the plots\n",
    "combined_plots <- fig_1 / fig_2 / fig_2 \n",
    "\n",
    "# Print the combined plot\n",
    "combined_plots\n",
    "```"
   ]
  },
  {
   "cell_type": "code",
   "execution_count": null,
   "id": "3b2da73a-1756-4ba0-ae95-5a0f10eb48d2",
   "metadata": {},
   "outputs": [],
   "source": [
    "# you can type your answer(s) here"
   ]
  }
 ],
 "metadata": {
  "kernelspec": {
   "display_name": "R",
   "language": "R",
   "name": "ir"
  },
  "language_info": {
   "codemirror_mode": "r",
   "file_extension": ".r",
   "mimetype": "text/x-r-source",
   "name": "R",
   "pygments_lexer": "r",
   "version": "4.2.3"
  }
 },
 "nbformat": 4,
 "nbformat_minor": 5
}
