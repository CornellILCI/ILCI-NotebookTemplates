{
 "cells": [
  {
   "cell_type": "markdown",
   "id": "4e1bf9a6-4fcb-4bd3-af16-2bbc8edf1a22",
   "metadata": {},
   "source": [
    "# BRAPI Database DEMO"
   ]
  },
  {
   "cell_type": "markdown",
   "id": "d5d30ca2-8cba-484b-9ff9-05d14a19365c",
   "metadata": {},
   "source": [
    "# Testing DMS BrAPI connections"
   ]
  },
  {
   "cell_type": "code",
   "execution_count": null,
   "id": "9529aabf-ad94-4d6d-a78e-b7f7c2bec98f",
   "metadata": {},
   "outputs": [],
   "source": [
    "library(magrittr)\n",
    "library(rTASSEL)\n",
    "library(tidyverse)"
   ]
  },
  {
   "cell_type": "markdown",
   "id": "380b89e1-427a-4555-8be0-520ad054efaf",
   "metadata": {},
   "source": [
    "## Source code"
   ]
  },
  {
   "cell_type": "code",
   "execution_count": null,
   "id": "45dcdc0a-ddd9-490c-8f5d-9c0884ea9bef",
   "metadata": {},
   "outputs": [],
   "source": [
    "# handled by Extension\n",
    "# source(\"https://raw.githubusercontent.com/agostof/BrAPI-Provider/master/BrapiProvider.R\")\n",
    "\n",
    "# You can use the following functions to interact with BMS\n",
    "# see the QBMS documentation for more details.\n",
    "# https://icarda-git.github.io/QBMS/\n",
    "\n",
    "# pheno_provider$set_crop()\n",
    "# pheno_provider$list_programs()\n",
    "# pheno_provider$set_program()\n",
    "# pheno_provider$list_trials()\n",
    "# pheno_provider$set_trial()\n",
    "# pheno_provider$list_studies()\n",
    "# pheno_provider$set_study(study_name)\n",
    "# pheno_provider$get_study_data()\n",
    "\n",
    "#\n",
    "# You can check the TOKENs with:\n",
    "# pheno_provider$get_token()\n",
    "# pheno_provider$list_crops()\n",
    "\n",
    "\n",
    "# You can use the following functions to interact with GIGWA\n",
    "# see the QBMS documentation for more details.\n",
    "# geno_provider$gigwa_list_dbs()\n",
    "# geno_provider$gigwa_set_db()\n",
    "# geno_provider$gigwa_set_project()\n",
    "# geno_samples = geno_provider$gigwa_get_samples()\n",
    "\n",
    "#\n",
    "# You can check the TOKENs with:\n",
    "# geno_provider$get_token()\n",
    "# geno_provider$gigwa_list_dbs()"
   ]
  },
  {
   "cell_type": "markdown",
   "id": "58fb02a2-8e9b-4591-977d-91edb2875439",
   "metadata": {},
   "source": [
    "## Build phenotype and genotype connection objects"
   ]
  },
  {
   "cell_type": "code",
   "execution_count": null,
   "id": "6f0fc53d-20ef-49fa-9c6c-e9e2cf590173",
   "metadata": {},
   "outputs": [],
   "source": [
    "# # handled by Extension\n",
    "# pheno_provider <- BrapiBms$new(url = \"https://bms.ilci.scienceversa.com\")\n",
    "# pheno_provider$login(username=pheno_user, password=pheno_pass)"
   ]
  },
  {
   "cell_type": "code",
   "execution_count": null,
   "id": "d3633987-6481-44c8-a01a-4727fab43b87",
   "metadata": {},
   "outputs": [],
   "source": [
    "# geno_provider <- BrapiGigwa$new(url=\"https://gigwa.ilci.scienceversa.com\")\n",
    "# geno_provider$login(username=geno_user, password=geno_pass)"
   ]
  },
  {
   "cell_type": "code",
   "execution_count": null,
   "id": "35121fdc-02aa-41f9-be2a-662ade4e58ee",
   "metadata": {},
   "outputs": [],
   "source": []
  }
 ],
 "metadata": {
  "kernelspec": {
   "display_name": "R",
   "language": "R",
   "name": "ir"
  },
  "language_info": {
   "codemirror_mode": "r",
   "file_extension": ".r",
   "mimetype": "text/x-r-source",
   "name": "R",
   "pygments_lexer": "r",
   "version": "4.2.3"
  }
 },
 "nbformat": 4,
 "nbformat_minor": 5
}
