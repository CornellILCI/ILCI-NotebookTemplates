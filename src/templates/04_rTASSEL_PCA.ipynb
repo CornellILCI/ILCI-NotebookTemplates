{
 "cells": [
  {
   "cell_type": "markdown",
   "id": "27aea925-43b3-45ff-85e0-1608608f1ccd",
   "metadata": {},
   "source": [
    "# Tutorial: Principal Coordinate Analysis (PCA) using rTASSEL"
   ]
  },
  {
   "cell_type": "markdown",
   "id": "f5c7804d-a687-4a3c-86be-30ef182bb676",
   "metadata": {
    "tags": []
   },
   "source": [
    "## Enter your title here  \n",
    "\n",
    "**Objective**: Describe the objective of this analysis   \n",
    "**Data**: Describe your data       \n",
    "**User and contact**: your name, your contact     \n",
    "\n",
    "### Table of contents\n",
    "* [Notes](#Notes) \n",
    "* [Libraries](#Libraries)\n",
    "* [Parameters and functions](#Parameters-and-functions)\n",
    "* [Data](#Data)\n",
    "* [Analysis](#Analysis)\n",
    "    + [Filter genotype data in rTASSEL](#Filter-genotype-data-in-rTASSEL)\n",
    "    + [PCA with genotype data](#PCA-with-genotype-data)\n",
    "    + [Add metadata to scatterplot](#Add-metadata-to-scatterplot)\n",
    "* [References and additional resources](#References-and-additional-resources)"
   ]
  },
  {
   "cell_type": "markdown",
   "id": "a159e2ca-5f78-4c7b-b700-5ba27c156352",
   "metadata": {},
   "source": [
    "## Notes\n",
    "\n",
    "This tutorial assumes: \n",
    "1. You already know how to load your data via a flat file into rTASSEL and will inspect your data:\n",
    "    - See 01_rTASSEL_Load_Data.ipynb for a tutorial on how to load flat tiles into rTASSEL\n",
    "2. You will filter your genotype data as appropriate for your data set and analysis:\n",
    "    - See 02_rTASSEL_GenotypeFiltering.ipynb for a tutorial on how to filter genotype data in rTASSEL.\n",
    "3. You have a csv file for metadata with a \"Taxa\" field that matches the taxa in your genotype file. \n",
    "\n",
    "More on the `pca()` function can be found [here](https://rtassel.maizegenetics.net/reference/pca.html), `plotScree()` [here](https://rtassel.maizegenetics.net/reference/plotScree.html) and `plotPCA()` [here](https://rtassel.maizegenetics.net/reference/plotPCA.html)."
   ]
  },
  {
   "cell_type": "code",
   "execution_count": null,
   "id": "de504eb3-ce41-458a-b1fd-8bfe061edcc4",
   "metadata": {
    "tags": []
   },
   "outputs": [],
   "source": [
    "getwd()"
   ]
  },
  {
   "cell_type": "code",
   "execution_count": null,
   "id": "665b4919-4bce-4152-9ff2-1dfa1d34d101",
   "metadata": {
    "tags": []
   },
   "outputs": [],
   "source": [
    "Sys.Date()"
   ]
  },
  {
   "cell_type": "markdown",
   "id": "538e15e0-e96c-4d22-8324-d536d15428a8",
   "metadata": {
    "tags": []
   },
   "source": [
    "## Libraries"
   ]
  },
  {
   "cell_type": "code",
   "execution_count": null,
   "id": "053d65a6-18b2-470b-bfd7-1dc361578d35",
   "metadata": {
    "tags": []
   },
   "outputs": [],
   "source": [
    "library(rTASSEL) "
   ]
  },
  {
   "cell_type": "markdown",
   "id": "135703c2-5df2-4461-a2f9-e270e98b07c1",
   "metadata": {},
   "source": [
    "## Parameters and functions"
   ]
  },
  {
   "cell_type": "markdown",
   "id": "e04f95c1-8e49-4d6d-aca0-4de7e25e43c1",
   "metadata": {},
   "source": [
    "**Please edit the paths to your data:**"
   ]
  },
  {
   "cell_type": "code",
   "execution_count": null,
   "id": "f14dff1a-70c5-44ae-bcd2-190ff44a3f3a",
   "metadata": {},
   "outputs": [],
   "source": [
    "# Path to genotype data\n",
    "myGenoPath <- \"/path/to/genotype/data\"\n",
    "\n",
    "# Path to taxa metadata \n",
    "myMetadataPath <- \"/path/to/metadata\""
   ]
  },
  {
   "cell_type": "markdown",
   "id": "6bb8100f-ca2e-435f-b6ed-cac0820bf463",
   "metadata": {},
   "source": [
    "Create a function for the setting the dimensions of a plot:"
   ]
  },
  {
   "cell_type": "code",
   "execution_count": null,
   "id": "9a373ae8-eb85-45d5-a7e9-023863427ac7",
   "metadata": {},
   "outputs": [],
   "source": [
    "fig <- function(width, heigth) {\n",
    "    options(\n",
    "        repr.plot.width  = width, \n",
    "        repr.plot.height = heigth\n",
    "    )\n",
    "}"
   ]
  },
  {
   "cell_type": "markdown",
   "id": "2d4be230-7b9c-4ed1-a7b8-dc70295119cd",
   "metadata": {},
   "source": [
    "## Data"
   ]
  },
  {
   "cell_type": "markdown",
   "id": "477aa9cf-2558-4ff0-8bad-70c490d6ffa5",
   "metadata": {},
   "source": [
    "Load metadata into R:"
   ]
  },
  {
   "cell_type": "code",
   "execution_count": null,
   "id": "894100f0-bfd7-41ce-bdf6-c5b7ce40eb1b",
   "metadata": {
    "tags": []
   },
   "outputs": [],
   "source": [
    "taxaMetadata <- read.csv(file = myMetadataPath)\n",
    "taxaMetadata |> head()"
   ]
  },
  {
   "cell_type": "markdown",
   "id": "94af4371-2738-4ece-b6c7-29a8585c605f",
   "metadata": {},
   "source": [
    "Load genotype data into rTASSEL:"
   ]
  },
  {
   "cell_type": "code",
   "execution_count": null,
   "id": "5b3718fd-c4de-466c-9b6b-49026a6097c4",
   "metadata": {},
   "outputs": [],
   "source": [
    "tasGeno <- rTASSEL::readGenotypeTableFromPath(\n",
    "    path = myGenoPath\n",
    ")\n",
    "tasGeno"
   ]
  },
  {
   "cell_type": "markdown",
   "id": "a846f411-dd87-425e-8996-9a782be3f210",
   "metadata": {},
   "source": [
    "## Analysis"
   ]
  },
  {
   "cell_type": "markdown",
   "id": "e4b332ba-ac0c-4cdc-9c6a-8c10075ac016",
   "metadata": {
    "tags": []
   },
   "source": [
    "### Filter genotype data in rTASSEL"
   ]
  },
  {
   "cell_type": "markdown",
   "id": "4b40e733-407a-489c-b588-1721226b559c",
   "metadata": {},
   "source": [
    "Perform additional filtering steps in rTASSEL for your data set and analysis:  \n",
    "- See 02_rTASSEL_GenotypeFiltering.brapi.ipynb for more details about filtering."
   ]
  },
  {
   "cell_type": "code",
   "execution_count": null,
   "id": "21e32e17-c62f-460c-acb8-f0400d678529",
   "metadata": {},
   "outputs": [],
   "source": [
    "# Example only\n",
    "#tasGeno |>\n",
    "#    filterGenotypeTableTaxa(\n",
    "#        minNotMissing = .5\n",
    "#    ) |>\n",
    "#    filterGenotypeTableSites(\n",
    "#        siteMinAlleleFreq = 0.05,\n",
    "#        maxHeterozygous = 0.5\n",
    "#    )"
   ]
  },
  {
   "cell_type": "markdown",
   "id": "30b774a7-28ef-44fd-9285-e16a21d5076b",
   "metadata": {},
   "source": [
    "### PCA with genotype data "
   ]
  },
  {
   "cell_type": "markdown",
   "id": "c3567308-a9f7-4f58-8262-084df6f4bf96",
   "metadata": {},
   "source": [
    "Run principle coordinate analysis on your genotype data using the `pca()` function in rTASSEL:"
   ]
  },
  {
   "cell_type": "code",
   "execution_count": null,
   "id": "dabe140f-293e-457c-9e32-acc61c082151",
   "metadata": {},
   "outputs": [],
   "source": [
    "pcaGeno <- tasGeno |> rTASSEL::pca()"
   ]
  },
  {
   "cell_type": "code",
   "execution_count": null,
   "id": "c0dfc742-671b-4f3b-b1d8-a2b06fd3a80f",
   "metadata": {
    "tags": []
   },
   "outputs": [],
   "source": [
    "pcaGeno"
   ]
  },
  {
   "cell_type": "code",
   "execution_count": null,
   "id": "7a8770ce-f016-4228-970b-35701a4925af",
   "metadata": {
    "tags": []
   },
   "outputs": [],
   "source": [
    "pcaGeno |> reportNames()"
   ]
  },
  {
   "cell_type": "code",
   "execution_count": null,
   "id": "9f63d5d5-e052-4217-975b-d9040ef421c4",
   "metadata": {
    "tags": []
   },
   "outputs": [],
   "source": [
    "pcaGeno |> tableReport(\"Eigenvalues_Datum\") |> head()"
   ]
  },
  {
   "cell_type": "code",
   "execution_count": null,
   "id": "5ff79d1a-3a85-47f6-8ec2-913ca29b5381",
   "metadata": {},
   "outputs": [],
   "source": [
    "Set plot dimensions with the figure function created at the start of the notebook:"
   ]
  },
  {
   "cell_type": "code",
   "execution_count": null,
   "id": "a0b96c3f-193d-470c-8836-1d87ebeee9f2",
   "metadata": {},
   "outputs": [],
   "source": [
    "fig(10,10)"
   ]
  },
  {
   "cell_type": "markdown",
   "id": "1602c464-b591-400c-98d0-16c0f1f580d1",
   "metadata": {},
   "source": [
    "Create a scree plot using the eigenvalues generated in your PCA with the `plotScree()` function:"
   ]
  },
  {
   "cell_type": "code",
   "execution_count": null,
   "id": "a37d5ed4-7ca8-4850-b319-5124b9f3fb6b",
   "metadata": {
    "tags": []
   },
   "outputs": [],
   "source": [
    "pcaGeno |> plotScree()"
   ]
  },
  {
   "cell_type": "code",
   "execution_count": null,
   "id": "15b7695d-dc6a-4bba-8f0b-89828f3095bf",
   "metadata": {
    "tags": []
   },
   "outputs": [],
   "source": [
    "pcaGeno |> tableReport(\"PC_Datum\") |> head()"
   ]
  },
  {
   "cell_type": "markdown",
   "id": "ef995740-510b-4f80-a479-053284e02b01",
   "metadata": {},
   "source": [
    "Create a scatter plot with your chosen principal components using `plotPCA()`:"
   ]
  },
  {
   "cell_type": "code",
   "execution_count": null,
   "id": "d8fdb6af-2ebb-4450-b247-31e4f1516397",
   "metadata": {
    "tags": []
   },
   "outputs": [],
   "source": [
    "pcaGeno |> plotPCA(\n",
    "    x = 1,\n",
    "    x = 2\n",
    ")"
   ]
  },
  {
   "cell_type": "markdown",
   "id": "71367ec0-6356-4744-83d4-36aa9ab6e720",
   "metadata": {
    "tags": []
   },
   "source": [
    "### Add metadata to scatterplot"
   ]
  },
  {
   "cell_type": "code",
   "execution_count": null,
   "id": "30bbd8f8-7784-4d9b-b8a0-019cd2bad282",
   "metadata": {
    "tags": []
   },
   "outputs": [],
   "source": [
    "taxaMetadata |> head()"
   ]
  },
  {
   "cell_type": "code",
   "execution_count": null,
   "id": "9861ed57-fe6e-4d1e-aa12-5f7f050ca28c",
   "metadata": {
    "tags": []
   },
   "outputs": [],
   "source": [
    "pcaGeno |> plotPCA(\n",
    "    x = 1,\n",
    "    x = 2,\n",
    "    metadata = taxaMetadata,\n",
    "    mCol = \"Subpopulation\")"
   ]
  },
  {
   "cell_type": "markdown",
   "id": "6b648c7e-aa42-4e74-9394-0b4a1e9bf934",
   "metadata": {},
   "source": [
    "## References and additional resources"
   ]
  },
  {
   "cell_type": "markdown",
   "id": "4890abd1-427a-410b-a586-cad370e3a982",
   "metadata": {
    "tags": []
   },
   "source": [
    "To cite rTASSEL, please use the following citation:\n",
    "\n",
    "Monier et al., (2022). rTASSEL: An R interface to TASSEL for analyzing genomic diversity. Journal of Open Source Software, 7(76), 4530, https://doi.org/10.21105/joss.04530."
   ]
  },
  {
   "cell_type": "markdown",
   "id": "84e5e61b-8271-466f-9800-11dc703cbee5",
   "metadata": {
    "tags": []
   },
   "source": [
    "You can find more information about rTASSEL [here](https://rtassel.maizegenetics.net)\n",
    "\n",
    "and an rTASSEL tutorial in binder [here](https://mybinder.org/v2/gh/btmonier/rTASSEL_sandbox/HEAD?labpath=getting_started.ipynb)."
   ]
  }
 ],
 "metadata": {
  "kernelspec": {
   "display_name": "R 4.1",
   "language": "R",
   "name": "ir4.1"
  },
  "language_info": {
   "codemirror_mode": "r",
   "file_extension": ".r",
   "mimetype": "text/x-r-source",
   "name": "R",
   "pygments_lexer": "r",
   "version": "4.1.2"
  }
 },
 "nbformat": 4,
 "nbformat_minor": 5
}
