{
 "cells": [
  {
   "cell_type": "markdown",
   "id": "4b9e9431-acfa-4bf2-a333-cc3dcdac349b",
   "metadata": {},
   "source": [
    "# Tutorial: Load local phenotype and genotype data into rTASSEL "
   ]
  },
  {
   "cell_type": "markdown",
   "id": "81f1ef3e-e6dd-43df-844e-59dd4c070726",
   "metadata": {
    "tags": []
   },
   "source": [
    "## Enter your notebook title here\n",
    "\n",
    "**Objective**: Loading phenotype and genotype data into rTASSEL  \n",
    "**Data**: Describe your data set here  \n",
    "**User and contact**: Enter your name and contact here\n",
    "\n",
    "### Table of contents\n",
    "* [Notes](#Notes) \n",
    "* [Libraries](#Libraries)\n",
    "* [Parameters and functions](#Parameters-and-functions)\n",
    "* [Data](#Data)\n",
    "    + [Load and inspect data in R](#Load-and-inspect-data-in-R)\n",
    "    + [Load phenotype data into rTASSEL](#Load-phenotype-data-into-rTASSEL)\n",
    "    + [Load genotype data into rTASSEL](#Load-genotype-data-into-rTASSEL)\n",
    "    + [Combine data into rTASSEL](#Combine-data-into-rTASSEL)\n",
    "* [References and additional resources](#References-and-additional-resources)"
   ]
  },
  {
   "cell_type": "markdown",
   "id": "a8e66485-826b-4eb7-aad5-9205fd5042fc",
   "metadata": {},
   "source": [
    "## Notes\n",
    "\n",
    "If you are unfamiliar with the data format requirements for TASSEL and rTASSEL please review the following resources:\n",
    "- [TASSEL user manual](https://bitbucket.org/tasseladmin/tassel-5-source/wiki/UserManual/Load/Load)\n",
    "- [Instructional video](https://www.youtube.com/watch?v=4W3Ohw6Zckg)"
   ]
  },
  {
   "cell_type": "markdown",
   "id": "cd169f7f-280b-4e17-986e-4326be25f70c",
   "metadata": {
    "tags": []
   },
   "source": [
    "**rTASSEL genotype file requirements**:  \n",
    "\n",
    "rTASSEL accepts the following genotype formats:\n",
    "- hapmap (HMP)\n",
    "- HDF5 (hierarchical data format version 5)\n",
    "- VCF (variant call format)\n",
    "- Plink\n",
    "\n",
    "For more detail see the manual [here](https://bitbucket.org/tasseladmin/tassel-5-source/wiki/UserManual/Load/Load). "
   ]
  },
  {
   "cell_type": "markdown",
   "id": "d5d4508e-fdef-4ae4-a221-a8d7568b1345",
   "metadata": {},
   "source": [
    "**rTASSEL phenotype requirements**: \n",
    "\n",
    "In summary, rTASSEL accepts data structured per the following: \n",
    "- A header that defines data structure and a body containing the main data. Tabs should be used as delimiters.\n",
    "- Data is organized as a two-dimensional table with observations as rows and attributes as columns. The first attribute (column) should always be taxa. Subsequent columns can be data, covariate, or factor. Attributes of type \"data\" are modeled as dependent variables and must be numerical and continuous.\n",
    "\n",
    "|`<Phenotype>`| | | |\n",
    "|:---:|:---:|:---:|:---:|\n",
    "|taxa|factor|data|covariate|\n",
    "|Taxa|rep|EarHT|Q1|\n",
    "|33-16|1|64.75|0.014|\n",
    "\n",
    "For more detail see the [manual](https://bitbucket.org/tasseladmin/tassel-5-source/wiki/UserManual/Load/Load) under \"Numerical Data.\""
   ]
  },
  {
   "cell_type": "code",
   "execution_count": null,
   "id": "ab726220-9a44-4c73-9a11-95dc5ff88ed7",
   "metadata": {
    "tags": [],
    "vscode": {
     "languageId": "r"
    }
   },
   "outputs": [],
   "source": [
    "getwd()"
   ]
  },
  {
   "cell_type": "code",
   "execution_count": null,
   "id": "77f55366-0497-488d-a010-892b3f8dad99",
   "metadata": {
    "tags": [],
    "vscode": {
     "languageId": "r"
    }
   },
   "outputs": [],
   "source": [
    "Sys.Date()"
   ]
  },
  {
   "cell_type": "markdown",
   "id": "64585ea9-10a3-4e15-b2b2-509c3f82a2db",
   "metadata": {},
   "source": [
    "## Libraries"
   ]
  },
  {
   "cell_type": "code",
   "execution_count": null,
   "id": "204ed389-08cd-4c34-b321-d0a9bb30344a",
   "metadata": {
    "tags": [],
    "vscode": {
     "languageId": "r"
    }
   },
   "outputs": [],
   "source": [
    "library(data.table) #Efficient I/O handling for delimited data\n",
    "library(rTASSEL) #R interface to TASSEL"
   ]
  },
  {
   "cell_type": "markdown",
   "id": "4256850f-3322-4928-ae7b-8d01bd67d5ae",
   "metadata": {},
   "source": [
    "## Parameters and functions"
   ]
  },
  {
   "cell_type": "markdown",
   "id": "ce07fc72-82db-4e81-ad13-f14794814507",
   "metadata": {},
   "source": [
    "**Please edit the paths to your own data:**"
   ]
  },
  {
   "cell_type": "code",
   "execution_count": null,
   "id": "edfcb824-f82b-4192-8f17-d36f18faf429",
   "metadata": {
    "tags": [],
    "vscode": {
     "languageId": "r"
    }
   },
   "outputs": [],
   "source": [
    "# Path to phenotype data\n",
    "myPhenoPath <- \"/path/to/phenotype/data\"\n",
    "\n",
    "# Path to genotype data\n",
    "myGenoPath <- \"/path/to/genotype/data\""
   ]
  },
  {
   "cell_type": "markdown",
   "id": "52df6678-1007-4a36-9e19-aeb1c79d1b68",
   "metadata": {},
   "source": [
    "## Data"
   ]
  },
  {
   "cell_type": "markdown",
   "id": "119c7cbf-7b31-4e38-8c05-eee64bd81144",
   "metadata": {},
   "source": [
    "### Load and inspect data in R"
   ]
  },
  {
   "cell_type": "markdown",
   "id": "56299abc-c0c0-46fe-b076-e6646d67353e",
   "metadata": {},
   "source": [
    "Inspect phenotype data"
   ]
  },
  {
   "cell_type": "code",
   "execution_count": null,
   "id": "5937423c-5903-4bf7-a412-c76d341ffacc",
   "metadata": {
    "vscode": {
     "languageId": "r"
    }
   },
   "outputs": [],
   "source": [
    "myPhenoTable <- data.table::fread(myPhenoPath, skip = 2)"
   ]
  },
  {
   "cell_type": "code",
   "execution_count": null,
   "id": "f2905f9b-5c62-48b9-89fa-5f6567360d15",
   "metadata": {
    "vscode": {
     "languageId": "r"
    }
   },
   "outputs": [],
   "source": [
    "myPhenoTable |> head()"
   ]
  },
  {
   "cell_type": "code",
   "execution_count": null,
   "id": "65aacb78-ab89-456a-9d07-c3213b3fa38a",
   "metadata": {
    "vscode": {
     "languageId": "r"
    }
   },
   "outputs": [],
   "source": [
    "myPhenoTable |> dim()"
   ]
  },
  {
   "cell_type": "code",
   "execution_count": null,
   "id": "72a8093f-2be8-4bc8-88a1-f1fca80bf118",
   "metadata": {
    "vscode": {
     "languageId": "r"
    }
   },
   "outputs": [],
   "source": [
    "myPhenoTable |> names() |> cat(sep = \"\\n\")"
   ]
  },
  {
   "cell_type": "markdown",
   "id": "4140abf0-c7db-40a2-9ddc-39bfc8cde127",
   "metadata": {
    "tags": []
   },
   "source": [
    "Inspect genotype data"
   ]
  },
  {
   "cell_type": "code",
   "execution_count": null,
   "id": "6014267c-ae08-4598-aebb-856a75b4b72c",
   "metadata": {
    "tags": [],
    "vscode": {
     "languageId": "r"
    }
   },
   "outputs": [],
   "source": [
    "myGenoTable <- data.table::fread(myGenoPath)"
   ]
  },
  {
   "cell_type": "code",
   "execution_count": null,
   "id": "93864c25-f3cf-4d09-be2f-debc4193cb36",
   "metadata": {
    "vscode": {
     "languageId": "r"
    }
   },
   "outputs": [],
   "source": [
    "myGenoTable |> head()"
   ]
  },
  {
   "cell_type": "code",
   "execution_count": null,
   "id": "d245be97-c51b-42e4-8fdb-00793d5015d0",
   "metadata": {
    "vscode": {
     "languageId": "r"
    }
   },
   "outputs": [],
   "source": [
    "myGenoTable |> dim()"
   ]
  },
  {
   "cell_type": "code",
   "execution_count": null,
   "id": "1269fd87-f483-4cce-83b3-94b86504ac1b",
   "metadata": {
    "tags": [],
    "vscode": {
     "languageId": "r"
    }
   },
   "outputs": [],
   "source": [
    "myGenoTable |> names() |> cat(sep = \"\\n\") "
   ]
  },
  {
   "cell_type": "markdown",
   "id": "f96b6885-236b-47f3-bcb9-8f1b388cf9a9",
   "metadata": {},
   "source": [
    "### Load phenotype data into rTASSEL"
   ]
  },
  {
   "cell_type": "code",
   "execution_count": null,
   "id": "7c69cb85-1311-48aa-99fa-70064cf62332",
   "metadata": {
    "vscode": {
     "languageId": "r"
    }
   },
   "outputs": [],
   "source": [
    "tasPheno <- rTASSEL::readPhenotypeFromPath(\n",
    "    path = myPhenoPath\n",
    ")"
   ]
  },
  {
   "cell_type": "markdown",
   "id": "038560d6-5b60-465d-aaa2-4e05f23ce543",
   "metadata": {},
   "source": [
    "Note:\n",
    "If you need to manipulate your phenotype data in R prior to loading into rTASSEL you can load your data from an R dataframe rather than from a path.  \n",
    "The code below provides an example of how to do this. **You will need to replace \"myPhenoDataframe\" with your dataframe in the code below and set your taxaID and attributeTypes.**"
   ]
  },
  {
   "cell_type": "code",
   "execution_count": null,
   "id": "e8c6bc61-2def-4f0c-bfad-e5aabc7d9f1e",
   "metadata": {
    "tags": [],
    "vscode": {
     "languageId": "r"
    }
   },
   "outputs": [],
   "source": [
    "#tasPheno <- rTASSEL::readPhenotypeFromDataFrame(\n",
    "#    phenotypeDF = myPhenoDataframe,\n",
    "#    taxaID = \"Taxon\",\n",
    "#    attributeTypes = NULL\n",
    "#)\n",
    "#tasPheno"
   ]
  },
  {
   "cell_type": "code",
   "execution_count": null,
   "id": "e5eaea97-6a64-45f5-a6c8-96f4490cd78a",
   "metadata": {
    "vscode": {
     "languageId": "r"
    }
   },
   "outputs": [],
   "source": [
    "tasPheno"
   ]
  },
  {
   "cell_type": "markdown",
   "id": "9156ec35-9853-4df5-8e49-9b282e78322a",
   "metadata": {
    "tags": []
   },
   "source": [
    "### Load genotype data into rTASSEL"
   ]
  },
  {
   "cell_type": "code",
   "execution_count": null,
   "id": "fd50aac1-d489-49d5-a76c-d086869cee5d",
   "metadata": {
    "tags": [],
    "vscode": {
     "languageId": "r"
    }
   },
   "outputs": [],
   "source": [
    "tasGeno <- rTASSEL::readGenotypeTableFromPath(\n",
    "    path = myGenoPath\n",
    ")\n",
    "tasGeno"
   ]
  },
  {
   "cell_type": "markdown",
   "id": "cdd0fd55-0a50-4746-b5af-391425f1831b",
   "metadata": {},
   "source": [
    "### Combine data into rTASSEL"
   ]
  },
  {
   "cell_type": "code",
   "execution_count": null,
   "id": "35ad6216-d5ac-45f6-8d48-df0f9be09515",
   "metadata": {
    "tags": [],
    "vscode": {
     "languageId": "r"
    }
   },
   "outputs": [],
   "source": [
    "tasGenoPheno <- rTASSEL::readGenotypePhenotype(\n",
    "    genoPathOrObj = myGenoPath,\n",
    "    phenoPathDFOrObj = myPhenoPath\n",
    ")\n",
    "\n",
    "tasGenoPheno"
   ]
  },
  {
   "cell_type": "markdown",
   "id": "0c2a6cd2-1282-4705-aa4c-ed7b0eda1608",
   "metadata": {},
   "source": [
    "## References and additional resources"
   ]
  },
  {
   "cell_type": "markdown",
   "id": "30b7cc7f-c16d-4839-961e-f93bad67b326",
   "metadata": {
    "tags": []
   },
   "source": [
    "To cite rTASSEL, please use the following citation:\n",
    "\n",
    "Monier et al., (2022). rTASSEL: An R interface to TASSEL for analyzing genomic diversity. Journal of Open Source Software, 7(76), 4530, https://doi.org/10.21105/joss.04530."
   ]
  },
  {
   "cell_type": "markdown",
   "id": "85bd4836-1953-4ce5-9c45-b090005a9f84",
   "metadata": {},
   "source": [
    "You can find more information about rTASSEL [here](https://rtassel.maizegenetics.net)\n",
    "\n",
    "and an rTASSEL tutorial in binder [here](https://mybinder.org/v2/gh/btmonier/rTASSEL_sandbox/HEAD?labpath=getting_started.ipynb)."
   ]
  }
 ],
 "metadata": {
  "kernelspec": {
   "display_name": "R 4.1",
   "language": "R",
   "name": "ir4.1"
  },
  "language_info": {
   "codemirror_mode": "r",
   "file_extension": ".r",
   "mimetype": "text/x-r-source",
   "name": "R",
   "pygments_lexer": "r",
   "version": "4.1.2"
  }
 },
 "nbformat": 4,
 "nbformat_minor": 5
}
