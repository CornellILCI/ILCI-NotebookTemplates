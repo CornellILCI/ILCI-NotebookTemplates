{
 "cells": [
  {
   "cell_type": "markdown",
   "id": "022d38ee-81cf-4aae-979b-51f73dc264a5",
   "metadata": {
    "tags": []
   },
   "source": [
    "# Tutorial: Sequence diversity metrics using rTASSEL"
   ]
  },
  {
   "cell_type": "markdown",
   "id": "eb0286b0-eaa8-4ce2-8207-2bede6d97de3",
   "metadata": {},
   "source": [
    "## Enter your notebook title here\n",
    "\n",
    "**Objective**: Enter your objective here  \n",
    "**Data**: Describe your data set here  \n",
    "**User and contact**: Enter your name and contact here\n",
    "\n",
    "### Table of contents\n",
    "* [Notes](#Notes)\n",
    "* [Libraries](#Libraries)\n",
    "* [Parameters and functions](#Parameters-and-functions)\n",
    "* [Data](#Data)\n",
    "    * [Retrieve BrAPI data and filter](#Retrieve-BrAPI-data-and-filter)\n",
    "        * [Inspect genotype data in R](#Inspect-genotype-data-in-R)\n",
    "        * [Load genotype data into rTASSEL](#Load-genotype-data-into-rTASSEL)\n",
    "* [Analysis](#Analysis)\n",
    "    + [Sequence diversity](#Sequence-diversity)\n",
    "* [Visualization](#Visualization)\n",
    "* [References and additional resources](#References-and-additional-resources)"
   ]
  },
  {
   "cell_type": "markdown",
   "id": "f29aeb6e-9502-4390-a94e-9849c92c154f",
   "metadata": {},
   "source": [
    "## Notes\n",
    "\n",
    "This tutorial assumes: \n",
    "1. You already know how to load your data via a BrAPI database into rTASSEL and will inspect your data:\n",
    "    - See 01_rTASSEL_load_data.brapi.ipynb on how to load files via BrAPI databases.\n",
    "2. You will filter your genotype data as appropriate for your data set and analysis:\n",
    "    - See 02_rTASSEL_GenotypeFiltering.brapi.ipynb for a tutorial on how to filter genotype data when retrieving data via BrAPI and using rTASSEL.\n",
    "\n",
    "Additional documentation on the `seqDiversity()` function in rTASSEL can be found [here](https://rtassel.maizegenetics.net/reference/seqDiversity.html)."
   ]
  },
  {
   "cell_type": "code",
   "execution_count": null,
   "id": "2e2c8593-1176-4190-9820-6de798345feb",
   "metadata": {
    "tags": [],
    "vscode": {
     "languageId": "r"
    }
   },
   "outputs": [],
   "source": [
    "getwd()"
   ]
  },
  {
   "cell_type": "code",
   "execution_count": null,
   "id": "77e5571c-2e5a-4548-b29b-5a9e9e6cc24a",
   "metadata": {
    "tags": [],
    "vscode": {
     "languageId": "r"
    }
   },
   "outputs": [],
   "source": [
    "Sys.Date()"
   ]
  },
  {
   "cell_type": "markdown",
   "id": "4e2c327c-f101-4829-b2bf-d457c33f15b4",
   "metadata": {},
   "source": [
    "## Libraries"
   ]
  },
  {
   "cell_type": "code",
   "execution_count": null,
   "id": "79cf98ea-08c9-4615-a47a-3d766665ff35",
   "metadata": {
    "tags": [],
    "vscode": {
     "languageId": "r"
    }
   },
   "outputs": [],
   "source": [
    "library(QBMS)\n",
    "library(rTASSEL)\n",
    "library(ggplot2)\n",
    "library(dplyr)"
   ]
  },
  {
   "cell_type": "markdown",
   "id": "918a7b23-2dac-4a16-b94d-f793de1732aa",
   "metadata": {},
   "source": [
    "## Parameters and functions"
   ]
  },
  {
   "cell_type": "markdown",
   "id": "0e9ea2f5-1a0b-4d70-a959-e088f0185ab4",
   "metadata": {},
   "source": [
    "Create a function for setting the dimensions of a plot:"
   ]
  },
  {
   "cell_type": "code",
   "execution_count": null,
   "id": "64757cb3-c368-4b0f-a0b9-77bfc7c002c8",
   "metadata": {
    "tags": [],
    "vscode": {
     "languageId": "r"
    }
   },
   "outputs": [],
   "source": [
    "fig <- function(width, heigth) {\n",
    "    options(\n",
    "        repr.plot.width  = width, \n",
    "        repr.plot.height = heigth\n",
    "    )\n",
    "}"
   ]
  },
  {
   "cell_type": "markdown",
   "id": "d4bb744f-852d-48ca-b246-d4dacee4a532",
   "metadata": {},
   "source": [
    "## Data"
   ]
  },
  {
   "cell_type": "markdown",
   "id": "bb302650-ab4f-4fb3-8118-4058e95da674",
   "metadata": {},
   "source": [
    "### Retrieve BrAPI data and filter"
   ]
  },
  {
   "cell_type": "markdown",
   "id": "a1a2e6f7-a1e1-4d55-ad5f-75fda87f5e75",
   "metadata": {},
   "source": [
    "**You will need to log into Gigwa using the BrAPI helper.**"
   ]
  },
  {
   "cell_type": "code",
   "execution_count": null,
   "id": "22af1f89-57cd-46e0-b57b-b731273ad15c",
   "metadata": {
    "tags": [],
    "vscode": {
     "languageId": "r"
    }
   },
   "outputs": [],
   "source": [
    "geno_provider$gigwa_list_dbs()"
   ]
  },
  {
   "cell_type": "markdown",
   "id": "4054cfe2-ee4d-40e9-936a-22e00172fad0",
   "metadata": {},
   "source": [
    "**Please edit the code to set your database (db):**"
   ]
  },
  {
   "cell_type": "code",
   "execution_count": null,
   "id": "212eaf37-3181-426d-ba32-14796e6dac09",
   "metadata": {
    "tags": [],
    "vscode": {
     "languageId": "r"
    }
   },
   "outputs": [],
   "source": [
    "geno_provider$gigwa_set_db(\"myDataBase\")"
   ]
  },
  {
   "cell_type": "code",
   "execution_count": null,
   "id": "4805cf8e-7aec-4c55-bbb1-4aed388750f9",
   "metadata": {
    "tags": [],
    "vscode": {
     "languageId": "r"
    }
   },
   "outputs": [],
   "source": [
    "geno_provider$gigwa_list_projects()"
   ]
  },
  {
   "cell_type": "markdown",
   "id": "45537d84-3a6d-47ce-989d-721088af8ebe",
   "metadata": {},
   "source": [
    "**Please edit the code to set your project:**"
   ]
  },
  {
   "cell_type": "code",
   "execution_count": null,
   "id": "03b69c81-a753-45fd-8ad3-c7b9b00525f8",
   "metadata": {
    "tags": [],
    "vscode": {
     "languageId": "r"
    }
   },
   "outputs": [],
   "source": [
    "geno_provider$gigwa_set_project(\"myProject\")"
   ]
  },
  {
   "cell_type": "markdown",
   "id": "462391f2-3e07-4afc-8fee-bd1930ec1b4a",
   "metadata": {},
   "source": [
    "**Edit the below code to use appropriate filters for your data set and analysis, additional filtering can be done after retrieving the data and loading into rTASSEL.** "
   ]
  },
  {
   "cell_type": "code",
   "execution_count": null,
   "id": "b21747e4-92fe-4a29-9c10-f3561a14e56f",
   "metadata": {
    "tags": [],
    "vscode": {
     "languageId": "r"
    }
   },
   "outputs": [],
   "source": [
    "genoDataFromGigwa <- geno_provider$gigwa_get_variants(\n",
    "    max_missing = 0.2,\n",
    "    min_maf = 0.05\n",
    ")"
   ]
  },
  {
   "cell_type": "markdown",
   "id": "a0e01c5a-15e6-4b1c-a5d2-9e1306a1706a",
   "metadata": {},
   "source": [
    "#### Inspect genotype data in R"
   ]
  },
  {
   "cell_type": "code",
   "execution_count": null,
   "id": "9d65eb3b-721f-41d2-954b-fc86745836ba",
   "metadata": {
    "tags": [],
    "vscode": {
     "languageId": "r"
    }
   },
   "outputs": [],
   "source": [
    "genoDataFromGigwa |> head()\n",
    "genoDataFromGigwa |> dim()\n",
    "genoDataFromGigwa |> names()"
   ]
  },
  {
   "cell_type": "markdown",
   "id": "3a6da3ee-7d03-436b-a600-20a58c63b4c6",
   "metadata": {},
   "source": [
    "#### Load genotype data into rTASSEL "
   ]
  },
  {
   "cell_type": "code",
   "execution_count": null,
   "id": "25863b39-ccbb-49b7-8fea-c7f0ef65092c",
   "metadata": {
    "tags": [],
    "vscode": {
     "languageId": "r"
    }
   },
   "outputs": [],
   "source": [
    "tasGeno <- genoDataFromGigwa |> rTASSEL::readGenotypeTableFromGigwa()"
   ]
  },
  {
   "cell_type": "code",
   "execution_count": null,
   "id": "ce06164a-ae6b-4219-b354-5336fc545712",
   "metadata": {
    "tags": [],
    "vscode": {
     "languageId": "r"
    }
   },
   "outputs": [],
   "source": [
    "tasGeno"
   ]
  },
  {
   "cell_type": "markdown",
   "id": "28a82507-4df6-4fcb-a92e-bdc7c2f5c139",
   "metadata": {},
   "source": [
    "**Perform additional filtering steps in rTASSEL for your data set and analysis:**  \n",
    "    - See 02_rTASSEL_GenotypeFiltering.brapi.ipynb for more details about filtering."
   ]
  },
  {
   "cell_type": "markdown",
   "id": "2a280822-6f33-4525-98ed-92ec2a7057e5",
   "metadata": {},
   "source": [
    "## Analysis"
   ]
  },
  {
   "cell_type": "markdown",
   "id": "86666222-2b3e-4ffa-9f1d-23fb71438989",
   "metadata": {},
   "source": [
    "### Sequence diversity \n",
    "\n",
    "In rTASSEL `seqDiversity()` provides: \n",
    "\n",
    "- segregating sites\n",
    "- average pairwise divergence (𝜋) \n",
    "- estimated mutation rate (𝜃 or 4𝑁𝜇)  \n",
    "- Tajima's D "
   ]
  },
  {
   "cell_type": "markdown",
   "id": "25534d86-a753-4696-89c1-d17822a84527",
   "metadata": {},
   "source": [
    "By default `seqDiversity` will calculate diversity metrics across the entire set of sites in the genotype data, providing a single set of diversity metrics for all markers:  \n",
    "\n",
    "Diversity metrics are returned in `$Diversity`.  \n",
    "Polymorphic distribution is returned in `$PolyDist`."
   ]
  },
  {
   "cell_type": "code",
   "execution_count": null,
   "id": "5b55a532-130c-43bf-92be-aaf353633ffc",
   "metadata": {
    "tags": [],
    "vscode": {
     "languageId": "r"
    }
   },
   "outputs": [],
   "source": [
    "tasGeno |> seqDiversity()"
   ]
  },
  {
   "cell_type": "markdown",
   "id": "28b9176e-fa98-470e-855e-d2985dd42325",
   "metadata": {
    "tags": []
   },
   "source": [
    "Options can be provided to change how the diversity metrics are calculated:\n",
    "\n",
    "- using `startSite` and `endSite` to restrict the analysis or,\n",
    "\n",
    "- by creating a `sliding window analysis` as in the below example:"
   ]
  },
  {
   "cell_type": "code",
   "execution_count": null,
   "id": "0d522749-b1e1-4f18-a484-ab42fb87313e",
   "metadata": {
    "tags": [],
    "vscode": {
     "languageId": "r"
    }
   },
   "outputs": [],
   "source": [
    "seqRestrict <- tasGeno |>\n",
    "    seqDiversity(\n",
    "        slidingWindowAnalysis = TRUE,\n",
    "        stepSize = 50,\n",
    "        windowSize = 100\n",
    "    )"
   ]
  },
  {
   "cell_type": "code",
   "execution_count": null,
   "id": "d65ba75c-f018-4aa2-9a9a-4f5f2c03974a",
   "metadata": {
    "tags": [],
    "vscode": {
     "languageId": "r"
    }
   },
   "outputs": [],
   "source": [
    "seqRestrict$Diversity |> head()"
   ]
  },
  {
   "cell_type": "markdown",
   "id": "944405ba-67d7-438f-8e78-1940daa7a756",
   "metadata": {},
   "source": [
    "## Visualization"
   ]
  },
  {
   "cell_type": "markdown",
   "id": "820d69a4-566f-43b7-a085-e15056dac935",
   "metadata": {},
   "source": [
    "Visualize sequence diversity across the genome using `ggplot()`"
   ]
  },
  {
   "cell_type": "markdown",
   "id": "98f97003-9ba0-4954-9a46-61613cb265ad",
   "metadata": {},
   "source": [
    "First, set the plot dimensions with the figure function created at the start of the notebook:"
   ]
  },
  {
   "cell_type": "code",
   "execution_count": null,
   "id": "d5357da1-8b10-4ce7-8460-ffb532aad3fc",
   "metadata": {
    "tags": [],
    "vscode": {
     "languageId": "r"
    }
   },
   "outputs": [],
   "source": [
    "fig(12,5)"
   ]
  },
  {
   "cell_type": "markdown",
   "id": "67ea8cc6-c0ff-4e3c-b34a-d0ac5d49fd47",
   "metadata": {},
   "source": [
    "In this example, Tajima's D is plotted for chromosome 1 as calculated in the sliding sindow analysis created above:"
   ]
  },
  {
   "cell_type": "code",
   "execution_count": null,
   "id": "105d1aa6-a3d6-4795-aefd-0850a96cceb2",
   "metadata": {
    "tags": [],
    "vscode": {
     "languageId": "r"
    }
   },
   "outputs": [],
   "source": [
    "seqRestrict$Diversity |>\n",
    "    filter(Chromosome == \"1\") |>\n",
    "    ggplot() +\n",
    "    aes(x = StartChrPosition, y = TajimaD) +\n",
    "    geom_line()"
   ]
  },
  {
   "cell_type": "markdown",
   "id": "821c8dbd-afa2-4fb3-b38f-a9f8e31012e0",
   "metadata": {},
   "source": [
    "## References and additional resources"
   ]
  },
  {
   "cell_type": "markdown",
   "id": "0c135b88-e85b-4474-a08d-e66c2b2aa884",
   "metadata": {},
   "source": [
    "To cite rTASSEL, please use the following citation:\n",
    "\n",
    "Monier et al., (2022). rTASSEL: An R interface to TASSEL for analyzing genomic diversity. Journal of Open Source Software, 7(76), 4530, https://doi.org/10.21105/joss.04530."
   ]
  },
  {
   "cell_type": "markdown",
   "id": "16eeac41-692a-44d5-a161-438d97c8dd2c",
   "metadata": {},
   "source": [
    "You can find more information about rTASSEL [here](https://rtassel.maizegenetics.net)\n",
    "\n",
    "and an rTASSEL tutorial in binder [here](https://mybinder.org/v2/gh/btmonier/rTASSEL_sandbox/HEAD?labpath=getting_started.ipynb)."
   ]
  },
  {
   "cell_type": "markdown",
   "metadata": {},
   "source": [
    "**Please also cite QBMS using the following citation:**\n",
    "\n",
    "Al-Shamaa K (2023). QBMS: Query the Breeding Management System(s). R package version 0.9.1, https://icarda-git.github.io/QBMS/."
   ]
  }
 ],
 "metadata": {
  "kernelspec": {
   "display_name": "R 4.1",
   "language": "R",
   "name": "ir4.1"
  },
  "language_info": {
   "codemirror_mode": "r",
   "file_extension": ".r",
   "mimetype": "text/x-r-source",
   "name": "R",
   "pygments_lexer": "r",
   "version": "4.1.2"
  }
 },
 "nbformat": 4,
 "nbformat_minor": 5
}
