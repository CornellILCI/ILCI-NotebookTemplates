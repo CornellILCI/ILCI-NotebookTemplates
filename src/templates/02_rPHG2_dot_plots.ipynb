{
 "cells": [
  {
   "cell_type": "markdown",
   "id": "72a4a4a8-74f1-493c-99a4-b1fc8c5ef251",
   "metadata": {},
   "source": [
    "# Tutorial: Load and Visualize Dot Plot Data using rPHG2"
   ]
  },
  {
   "cell_type": "markdown",
   "id": "2f2cba46-7ef9-4eef-8c20-144d74230ab6",
   "metadata": {},
   "source": [
    "## Enter your title here\n",
    "\n",
    "* **Objective**: Describe the objective of this analysis\n",
    "* **Data**: Describe your data\n",
    "* **User and contact**: your name, your contact"
   ]
  },
  {
   "cell_type": "markdown",
   "id": "3ed3ff2b-ebaf-4799-be54-512e343dbcb1",
   "metadata": {},
   "source": [
    "## Notes\n",
    "This tutorial assumes you have:\n",
    "* Basic understanding of [PHGv2](https://phg.maizegenetics.net/)\n",
    "* Basic understanding of [AnchorWave metrics](https://phg.maizegenetics.net/qc_metrics/#anchorwave-dot-plots)\n",
    "* Basic understanding [dot plot](https://en.wikipedia.org/wiki/Dot_plot_(bioinformatics))"
   ]
  },
  {
   "cell_type": "code",
   "execution_count": null,
   "id": "ef45e164-b84a-4351-ac6f-134fd6dfdf6f",
   "metadata": {},
   "outputs": [],
   "source": [
    "getwd()"
   ]
  },
  {
   "cell_type": "code",
   "execution_count": null,
   "id": "7b1f420a-8a6d-465b-9906-4a737d392bad",
   "metadata": {},
   "outputs": [],
   "source": [
    "Sys.Date()"
   ]
  },
  {
   "cell_type": "markdown",
   "id": "1cdf3c72-549c-44d2-b282-373d57759b2a",
   "metadata": {},
   "source": [
    "## Libraries"
   ]
  },
  {
   "cell_type": "code",
   "execution_count": null,
   "id": "fa6f9c43-e49c-44ee-8143-8bb1483ae654",
   "metadata": {},
   "outputs": [],
   "source": [
    "library(rPHG2)"
   ]
  },
  {
   "cell_type": "markdown",
   "id": "feb83e8e-15b6-4d1f-a0eb-a15c6dbe6506",
   "metadata": {},
   "source": [
    "## Parameters and functions\n",
    "\n",
    "**Please edit the paths to your data:**"
   ]
  },
  {
   "cell_type": "markdown",
   "id": "e86f2062-e888-446b-8e18-5f552792b6d3",
   "metadata": {},
   "source": [
    "**Note**: The following variable is a **directory** to your `.anchorspro` files \n",
    "since you can load multiple samples, but can also be one file _if you choose_!"
   ]
  },
  {
   "cell_type": "code",
   "execution_count": null,
   "id": "1dd9b631-6e5f-4039-a0a6-0fb656e68656",
   "metadata": {},
   "outputs": [],
   "source": [
    "myAnchorDir <- \"/path/to/dotplot/directory\""
   ]
  },
  {
   "cell_type": "code",
   "execution_count": null,
   "id": "23c30338-a884-4fb2-a513-82d3b33dfc53",
   "metadata": {},
   "outputs": [],
   "source": [
    "myAnchorDir <- system.file(\"extdata\", \"toy_anchors_s01.anchorspro\", package = \"rPHG2\")"
   ]
  },
  {
   "cell_type": "code",
   "execution_count": null,
   "id": "b83879e7-1c02-4eac-9656-de9c956edba4",
   "metadata": {},
   "outputs": [],
   "source": [
    "myAnchorDir"
   ]
  },
  {
   "cell_type": "markdown",
   "id": "1f5ec825-4aff-4ab9-ba56-6db63d75d690",
   "metadata": {},
   "source": [
    "Create a function for setting the dimensions of a plot:"
   ]
  },
  {
   "cell_type": "code",
   "execution_count": null,
   "id": "168df443-cb86-4831-97dc-e279f7033a01",
   "metadata": {},
   "outputs": [],
   "source": [
    "fig <- function(width, height) {\n",
    "    options(\n",
    "        repr.plot.width  = width, \n",
    "        repr.plot.height = height\n",
    "    )\n",
    "}"
   ]
  },
  {
   "cell_type": "markdown",
   "id": "62ab5b86-f682-43af-9320-172756aa3668",
   "metadata": {},
   "source": [
    "## Data"
   ]
  },
  {
   "cell_type": "code",
   "execution_count": null,
   "id": "2d245d52-19e0-479d-b474-8f2a43e6dfce",
   "metadata": {},
   "outputs": [],
   "source": [
    "metData <- myAnchorDir |> PHGMetrics()"
   ]
  },
  {
   "cell_type": "code",
   "execution_count": null,
   "id": "0d970e0d-d2d3-407f-8a6b-281f88d86d6c",
   "metadata": {},
   "outputs": [],
   "source": [
    "metData"
   ]
  },
  {
   "cell_type": "markdown",
   "id": "3aadc947-1f0d-4437-a094-4843c317814b",
   "metadata": {},
   "source": [
    "## Data cleanup (_optional_)"
   ]
  },
  {
   "cell_type": "markdown",
   "id": "0e59223e-6e29-48b1-9016-a0f56584e565",
   "metadata": {},
   "source": [
    "### Table IDs"
   ]
  },
  {
   "cell_type": "markdown",
   "id": "b61fdbd5-9844-4eea-a977-fdbd458683f5",
   "metadata": {},
   "source": [
    "By default, table IDs will simply be the file name. We can change these\n",
    "to provide better titles for the dot plots."
   ]
  },
  {
   "cell_type": "code",
   "execution_count": null,
   "id": "982348cc-5c3a-49f0-8e2d-4a0db06ab7ee",
   "metadata": {},
   "outputs": [],
   "source": [
    "# Get old IDs\n",
    "metData |> metricsIds()"
   ]
  },
  {
   "cell_type": "markdown",
   "id": "e4570ef6-e75e-4521-b58b-4ae2175881a2",
   "metadata": {},
   "source": [
    "Create a [name map](https://rphg2.maizegenetics.net/articles/metrics.html#update-metric-ids) and override:"
   ]
  },
  {
   "cell_type": "code",
   "execution_count": null,
   "id": "1b8697e6-df3a-415e-b46e-8d4e062ca26e",
   "metadata": {},
   "outputs": [],
   "source": [
    "# Uncomment modify the following example code to run!\n",
    "\n",
    "# nameMap <- c(\n",
    "#     \"toy_anchors_s01\" = \"Test vs. Ref\"\n",
    "# )\n",
    "\n",
    "# metricsIds(metData) <- nameMap"
   ]
  },
  {
   "cell_type": "markdown",
   "id": "546bcb21-c76a-444c-bd09-811b255b98fd",
   "metadata": {},
   "source": [
    "### Chromosome IDs"
   ]
  },
  {
   "cell_type": "code",
   "execution_count": null,
   "id": "0f99ed36-2c84-4464-a074-04ce3c839a4f",
   "metadata": {},
   "outputs": [],
   "source": [
    "# Get chromosome IDs\n",
    "metData |> seqnames()"
   ]
  },
  {
   "cell_type": "markdown",
   "id": "179a0f0b-dff5-458d-bd56-975aecdd7c83",
   "metadata": {},
   "source": [
    "Create a [name map](https://rphg2.maizegenetics.net/articles/metrics.html#update-chromosome-ids) and override:"
   ]
  },
  {
   "cell_type": "code",
   "execution_count": null,
   "id": "551a2344-4259-41bc-91be-235390a8d50a",
   "metadata": {},
   "outputs": [],
   "source": [
    "# Uncomment modify the following example code to run!\n",
    "\n",
    "# chromMap <- data.frame(\n",
    "#     old_id = c(\"1\", \"2\", \"3\"),\n",
    "#     new_id = c(\"CHR_01\", \"CHR_02\", \"CHR_03\")\n",
    "# )\n",
    "\n",
    "# seqnames(metData) <- chromMap"
   ]
  },
  {
   "cell_type": "markdown",
   "id": "00e436fe-1226-4026-bde5-a3ee889ce654",
   "metadata": {},
   "source": [
    "## Analysis\n",
    "The main driver for plotting AnchorWave metrics is `plotDot()`. More info on additional customization can be found\n",
    "[here](https://rphg2.maizegenetics.net/articles/metrics.html#anchorwave-data)."
   ]
  },
  {
   "cell_type": "markdown",
   "id": "9ab3d919-6090-4956-b038-83356e34aa89",
   "metadata": {},
   "source": [
    "If you have one plot, you can simply pass the `plotDot()` function without\n",
    "any parameters. You can also specify the ID of the table using the `$`\n",
    "operator. For example:\n",
    "\n",
    "``` r\n",
    "metData |> plotDot(metData$table_id)\n",
    "```"
   ]
  },
  {
   "cell_type": "code",
   "execution_count": null,
   "id": "1286b249-ad68-46ba-af2b-6f3050e172b8",
   "metadata": {},
   "outputs": [],
   "source": [
    "fig(10, 7)\n",
    "metData |> plotDot()"
   ]
  }
 ],
 "metadata": {
  "kernelspec": {
   "display_name": "R",
   "language": "R",
   "name": "ir"
  },
  "language_info": {
   "codemirror_mode": "r",
   "file_extension": ".r",
   "mimetype": "text/x-r-source",
   "name": "R",
   "pygments_lexer": "r",
   "version": "4.2.3"
  }
 },
 "nbformat": 4,
 "nbformat_minor": 5
}
