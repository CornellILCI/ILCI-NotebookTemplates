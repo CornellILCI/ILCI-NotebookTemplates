{
 "cells": [
  {
   "cell_type": "markdown",
   "id": "72a4a4a8-74f1-493c-99a4-b1fc8c5ef251",
   "metadata": {},
   "source": [
    "# Tutorial: Load and Visualize gVCF Metrics using rPHG2"
   ]
  },
  {
   "cell_type": "markdown",
   "id": "2f2cba46-7ef9-4eef-8c20-144d74230ab6",
   "metadata": {},
   "source": [
    "## Enter your title here\n",
    "\n",
    "* **Objective**: Describe the objective of this analysis\n",
    "* **Data**: Describe your data\n",
    "* **User and contact**: your name, your contact"
   ]
  },
  {
   "cell_type": "markdown",
   "id": "3ed3ff2b-ebaf-4799-be54-512e343dbcb1",
   "metadata": {},
   "source": [
    "## Notes\n",
    "This tutorial assumes you have:\n",
    "* Basic understanding of [PHGv2](https://phg.maizegenetics.net/)\n",
    "* Basic understanding of [PHGv2 metrics files](https://phg.maizegenetics.net/qc_metrics/#vcf-metrics)\n",
    "* Basic understanding [gVCF data](https://gatk.broadinstitute.org/hc/en-us/articles/360035531812-GVCF-Genomic-Variant-Call-Format)"
   ]
  },
  {
   "cell_type": "code",
   "execution_count": null,
   "id": "ef45e164-b84a-4351-ac6f-134fd6dfdf6f",
   "metadata": {},
   "outputs": [],
   "source": [
    "getwd()"
   ]
  },
  {
   "cell_type": "code",
   "execution_count": null,
   "id": "7b1f420a-8a6d-465b-9906-4a737d392bad",
   "metadata": {},
   "outputs": [],
   "source": [
    "Sys.Date()"
   ]
  },
  {
   "cell_type": "markdown",
   "id": "1cdf3c72-549c-44d2-b282-373d57759b2a",
   "metadata": {},
   "source": [
    "## Libraries"
   ]
  },
  {
   "cell_type": "code",
   "execution_count": null,
   "id": "fa6f9c43-e49c-44ee-8143-8bb1483ae654",
   "metadata": {},
   "outputs": [],
   "source": [
    "library(rPHG2)"
   ]
  },
  {
   "cell_type": "markdown",
   "id": "feb83e8e-15b6-4d1f-a0eb-a15c6dbe6506",
   "metadata": {},
   "source": [
    "## Parameters and functions\n",
    "\n",
    "**Please edit the paths to your data:**"
   ]
  },
  {
   "cell_type": "code",
   "execution_count": null,
   "id": "1dd9b631-6e5f-4039-a0a6-0fb656e68656",
   "metadata": {},
   "outputs": [],
   "source": [
    "myGvcfMetricPath <- \"/path/to/gvcf/data\""
   ]
  },
  {
   "cell_type": "markdown",
   "id": "1f5ec825-4aff-4ab9-ba56-6db63d75d690",
   "metadata": {},
   "source": [
    "Create a function for setting the dimensions of a plot:"
   ]
  },
  {
   "cell_type": "code",
   "execution_count": null,
   "id": "168df443-cb86-4831-97dc-e279f7033a01",
   "metadata": {},
   "outputs": [],
   "source": [
    "fig <- function(width, height) {\n",
    "    options(\n",
    "        repr.plot.width  = width, \n",
    "        repr.plot.height = height\n",
    "    )\n",
    "}"
   ]
  },
  {
   "cell_type": "markdown",
   "id": "62ab5b86-f682-43af-9320-172756aa3668",
   "metadata": {},
   "source": [
    "## Data"
   ]
  },
  {
   "cell_type": "code",
   "execution_count": null,
   "id": "2d245d52-19e0-479d-b474-8f2a43e6dfce",
   "metadata": {},
   "outputs": [],
   "source": [
    "metData <- myGvcfMetricPath |> PHGMetrics()"
   ]
  },
  {
   "cell_type": "code",
   "execution_count": null,
   "id": "0d970e0d-d2d3-407f-8a6b-281f88d86d6c",
   "metadata": {},
   "outputs": [],
   "source": [
    "metData"
   ]
  },
  {
   "cell_type": "markdown",
   "id": "00e436fe-1226-4026-bde5-a3ee889ce654",
   "metadata": {},
   "source": [
    "## Analysis\n",
    "The main driver for plotting gVCF metrics is `plotGvcf()`. More info on additional customization can be found\n",
    "[here](https://rphg2.maizegenetics.net/articles/metrics.html#gvcf-metrics-data)."
   ]
  },
  {
   "cell_type": "code",
   "execution_count": null,
   "id": "1286b249-ad68-46ba-af2b-6f3050e172b8",
   "metadata": {},
   "outputs": [],
   "source": [
    "fig(10, 7)\n",
    "metData |> plotGvcf()"
   ]
  }
 ],
 "metadata": {
  "kernelspec": {
   "display_name": "R",
   "language": "R",
   "name": "ir"
  },
  "language_info": {
   "codemirror_mode": "r",
   "file_extension": ".r",
   "mimetype": "text/x-r-source",
   "name": "R",
   "pygments_lexer": "r",
   "version": "4.2.3"
  }
 },
 "nbformat": 4,
 "nbformat_minor": 5
}
