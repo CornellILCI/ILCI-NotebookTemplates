{
 "cells": [
  {
   "cell_type": "markdown",
   "id": "022d38ee-81cf-4aae-979b-51f73dc264a5",
   "metadata": {
    "tags": []
   },
   "source": [
    "# Tutorial: Sequence diversity metrics using rTASSEL"
   ]
  },
  {
   "cell_type": "markdown",
   "id": "eb0286b0-eaa8-4ce2-8207-2bede6d97de3",
   "metadata": {},
   "source": [
    "## Enter your notebook title here\n",
    "\n",
    "**Objective**: Enter your objective here  \n",
    "**Data**: Describe your data set here  \n",
    "**User and contact**: Enter your name and contact here\n",
    "\n",
    "### Table of contents\n",
    "* [Notes](#Notes)\n",
    "* [Libraries](#Libraries)\n",
    "* [Parameters and functions](#Parameters-and-functions)\n",
    "* [Data](#Data)\n",
    "    * [Genotype data](#Genotype-data)\n",
    "        * [Inspect genotype data in R](#Inspect-genotype-data-in-R)\n",
    "        * [Load genotype data into rTASSEL](#Load-genotype-data-into-rTASSEL)\n",
    "* [Analysis](#Analysis)\n",
    "    + [Sequence diversity](#Sequence-diversity)\n",
    "* [References and additional resources](#References-and-additional-resources)"
   ]
  },
  {
   "cell_type": "markdown",
   "id": "f29aeb6e-9502-4390-a94e-9849c92c154f",
   "metadata": {},
   "source": [
    "## Notes\n",
    "\n",
    "This tutorial assumes: \n",
    "1. You already know how to load your data via a BrAPI database into rTASSEL and will inspect your data:\n",
    "    - See 01_rTASSEL_load_data.brapi.ipynb on how to load files via BrAPI databases.\n",
    "2. You will filter your genotype data as appropriate for your data set and analysis:\n",
    "    - See 02_rTASSEL_GenotypeFiltering.brapi.ipynb for a tutorial on how to filter genotype data when retrieving data via BrAPI and using rTASSEL.\n",
    "    \n",
    "Additional documentation on the `seqDiversity()` function in rTASSEL can be found [here](https://rtassel.maizegenetics.net/reference/seqDiversity.html)."
   ]
  },
  {
   "cell_type": "code",
   "execution_count": null,
   "id": "2e2c8593-1176-4190-9820-6de798345feb",
   "metadata": {
    "tags": []
   },
   "outputs": [],
   "source": [
    "getwd()"
   ]
  },
  {
   "cell_type": "code",
   "execution_count": null,
   "id": "77e5571c-2e5a-4548-b29b-5a9e9e6cc24a",
   "metadata": {
    "tags": []
   },
   "outputs": [],
   "source": [
    "Sys.Date()"
   ]
  },
  {
   "cell_type": "markdown",
   "id": "4e2c327c-f101-4829-b2bf-d457c33f15b4",
   "metadata": {},
   "source": [
    "## Libraries"
   ]
  },
  {
   "cell_type": "code",
   "execution_count": null,
   "id": "79cf98ea-08c9-4615-a47a-3d766665ff35",
   "metadata": {
    "tags": []
   },
   "outputs": [],
   "source": [
    "library(QBMS)\n",
    "library(rTASSEL)\n",
    "library(ggplot2)\n",
    "library(dplyr)"
   ]
  },
  {
   "cell_type": "markdown",
   "id": "918a7b23-2dac-4a16-b94d-f793de1732aa",
   "metadata": {},
   "source": [
    "## Parameters and functions"
   ]
  },
  {
   "cell_type": "markdown",
   "id": "a095e64b-8da4-49c9-93b0-457716580b6f",
   "metadata": {},
   "source": [
    "**Please edit the path to your own data:**"
   ]
  },
  {
   "cell_type": "code",
   "execution_count": null,
   "id": "4baa9b95-d7a6-4965-81ac-bf3c2be766af",
   "metadata": {},
   "outputs": [],
   "source": [
    "# Path to genotype data\n",
    "myGenoPath <- \"/path/to/genotype/data\""
   ]
  },
  {
   "cell_type": "markdown",
   "id": "0e9ea2f5-1a0b-4d70-a959-e088f0185ab4",
   "metadata": {},
   "source": [
    "Create a function for setting the dimensions of a plot:"
   ]
  },
  {
   "cell_type": "code",
   "execution_count": null,
   "id": "64757cb3-c368-4b0f-a0b9-77bfc7c002c8",
   "metadata": {
    "tags": []
   },
   "outputs": [],
   "source": [
    "fig <- function(width, heigth) {\n",
    "    options(\n",
    "        repr.plot.width  = width, \n",
    "        repr.plot.height = heigth\n",
    "    )\n",
    "}"
   ]
  },
  {
   "cell_type": "markdown",
   "id": "d4bb744f-852d-48ca-b246-d4dacee4a532",
   "metadata": {},
   "source": [
    "## Data"
   ]
  },
  {
   "cell_type": "markdown",
   "id": "d152aaee-b118-4789-94ce-3399e057b3c9",
   "metadata": {},
   "source": [
    "### Genotype data"
   ]
  },
  {
   "cell_type": "code",
   "execution_count": null,
   "id": "d3ad0dd6-0913-4032-b451-297d29bd6617",
   "metadata": {},
   "outputs": [],
   "source": [
    "myGenoTable <- data.table::fread(myGenoPath)"
   ]
  },
  {
   "cell_type": "markdown",
   "id": "a0e01c5a-15e6-4b1c-a5d2-9e1306a1706a",
   "metadata": {},
   "source": [
    "#### Inspect genotype data in R"
   ]
  },
  {
   "cell_type": "code",
   "execution_count": null,
   "id": "9d65eb3b-721f-41d2-954b-fc86745836ba",
   "metadata": {
    "tags": []
   },
   "outputs": [],
   "source": [
    "myGenoTable |> head()\n",
    "myGenoTable |> dim()\n",
    "myGenoTable |> names()"
   ]
  },
  {
   "cell_type": "markdown",
   "id": "3a6da3ee-7d03-436b-a600-20a58c63b4c6",
   "metadata": {},
   "source": [
    "#### Load genotype data into rTASSEL "
   ]
  },
  {
   "cell_type": "code",
   "execution_count": null,
   "id": "25863b39-ccbb-49b7-8fea-c7f0ef65092c",
   "metadata": {
    "tags": []
   },
   "outputs": [],
   "source": [
    "tasGeno <- rTASSEL::readGenotypeTableFromPath(\n",
    "    path = myGenoPath\n",
    ")\n",
    "tasGeno"
   ]
  },
  {
   "cell_type": "code",
   "execution_count": null,
   "id": "ce06164a-ae6b-4219-b354-5336fc545712",
   "metadata": {
    "tags": []
   },
   "outputs": [],
   "source": [
    "tasGeno"
   ]
  },
  {
   "cell_type": "markdown",
   "id": "28a82507-4df6-4fcb-a92e-bdc7c2f5c139",
   "metadata": {},
   "source": [
    "**Perform filtering steps in rTASSEL for your data set and analysis:**  \n",
    "    - See 02_rTASSEL_GenotypeFiltering.ipynb for more details about filtering."
   ]
  },
  {
   "cell_type": "markdown",
   "id": "2a280822-6f33-4525-98ed-92ec2a7057e5",
   "metadata": {},
   "source": [
    "## Analysis"
   ]
  },
  {
   "cell_type": "markdown",
   "id": "86666222-2b3e-4ffa-9f1d-23fb71438989",
   "metadata": {},
   "source": [
    "### Sequence diversity \n",
    "\n",
    "In rTASSEL `seqDiversity()` provides: \n",
    "\n",
    "- segregating sites\n",
    "- average pairwise divergence (𝜋) \n",
    "- estimated mutation rate (𝜃 or 4𝑁𝜇)  \n",
    "- Tajima's D "
   ]
  },
  {
   "cell_type": "markdown",
   "id": "25534d86-a753-4696-89c1-d17822a84527",
   "metadata": {},
   "source": [
    "By default `seqDiversity` will calculate diversity metrics across the entire set of sites in the genotype data, providing a single set of diversity metrics for all markers:  \n",
    "\n",
    "Diversity metrics are returned in `$Diversity`.  \n",
    "Polymorphic distribution is returned in `$PolyDist`."
   ]
  },
  {
   "cell_type": "code",
   "execution_count": null,
   "id": "5b55a532-130c-43bf-92be-aaf353633ffc",
   "metadata": {
    "tags": []
   },
   "outputs": [],
   "source": [
    "tasGeno |> seqDiversity()"
   ]
  },
  {
   "cell_type": "markdown",
   "id": "28b9176e-fa98-470e-855e-d2985dd42325",
   "metadata": {
    "tags": []
   },
   "source": [
    "Options can be provided to change how the diversity metrics are calculated:\n",
    "\n",
    "- using `startSite` and `endSite` to restrict the analysis or,\n",
    "\n",
    "- by creating a `sliding window analysis` as in the below example:"
   ]
  },
  {
   "cell_type": "code",
   "execution_count": null,
   "id": "0d522749-b1e1-4f18-a484-ab42fb87313e",
   "metadata": {
    "tags": []
   },
   "outputs": [],
   "source": [
    "seqRestrict <- tasGeno |>\n",
    "    seqDiversity(\n",
    "        slidingWindowAnalysis = TRUE,\n",
    "        stepSize = 50,\n",
    "        windowSize = 100\n",
    "    )"
   ]
  },
  {
   "cell_type": "code",
   "execution_count": null,
   "id": "d65ba75c-f018-4aa2-9a9a-4f5f2c03974a",
   "metadata": {
    "tags": []
   },
   "outputs": [],
   "source": [
    "seqRestrict$Diversity |> head()"
   ]
  },
  {
   "cell_type": "code",
   "execution_count": null,
   "id": "abce0594-db11-4f35-90c2-d1054d103a21",
   "metadata": {},
   "outputs": [],
   "source": [
    "## Visualization"
   ]
  },
  {
   "cell_type": "markdown",
   "id": "820d69a4-566f-43b7-a085-e15056dac935",
   "metadata": {},
   "source": [
    "Visualize sequence diversity across the genome using `ggplot()`"
   ]
  },
  {
   "cell_type": "markdown",
   "id": "98f97003-9ba0-4954-9a46-61613cb265ad",
   "metadata": {},
   "source": [
    "First, set the plot dimensions with the figure function created at the start of the notebook:"
   ]
  },
  {
   "cell_type": "code",
   "execution_count": null,
   "id": "d5357da1-8b10-4ce7-8460-ffb532aad3fc",
   "metadata": {
    "tags": []
   },
   "outputs": [],
   "source": [
    "fig(12,5)"
   ]
  },
  {
   "cell_type": "markdown",
   "id": "67ea8cc6-c0ff-4e3c-b34a-d0ac5d49fd47",
   "metadata": {},
   "source": [
    "In this example, Tajima's D is plotted for chromosome 1 as calculated in the sliding sindow analysis created above:"
   ]
  },
  {
   "cell_type": "code",
   "execution_count": null,
   "id": "105d1aa6-a3d6-4795-aefd-0850a96cceb2",
   "metadata": {
    "tags": []
   },
   "outputs": [],
   "source": [
    "seqRestrict$Diversity |>\n",
    "    filter(Chromosome == \"1\") |>\n",
    "    ggplot() +\n",
    "    aes(x = StartChrPosition, y = TajimaD) +\n",
    "    geom_line()"
   ]
  },
  {
   "cell_type": "markdown",
   "id": "acc57f63-d531-4c4f-8423-7480dcffbe99",
   "metadata": {
    "tags": []
   },
   "source": [
    "## References and additional resources"
   ]
  },
  {
   "cell_type": "markdown",
   "id": "766e64c0-4119-40d3-85d5-f7d54f324b80",
   "metadata": {},
   "source": [
    "To cite rTASSEL, please use the following citation:\n",
    "\n",
    "Monier et al., (2022). rTASSEL: An R interface to TASSEL for analyzing genomic diversity. Journal of Open Source Software, 7(76), 4530, https://doi.org/10.21105/joss.04530."
   ]
  },
  {
   "cell_type": "markdown",
   "id": "510822cf-d971-4410-87ab-44d1b9c3b776",
   "metadata": {},
   "source": [
    "You can find more information about rTASSEL [here](https://rtassel.maizegenetics.net)\n",
    "\n",
    "and an rTASSEL tutorial in binder [here](https://mybinder.org/v2/gh/btmonier/rTASSEL_sandbox/HEAD?labpath=getting_started.ipynb)."
   ]
  }
 ],
 "metadata": {
  "kernelspec": {
   "display_name": "R 4.1",
   "language": "R",
   "name": "ir4.1"
  },
  "language_info": {
   "codemirror_mode": "r",
   "file_extension": ".r",
   "mimetype": "text/x-r-source",
   "name": "R",
   "pygments_lexer": "r",
   "version": "4.1.2"
  }
 },
 "nbformat": 4,
 "nbformat_minor": 5
}
