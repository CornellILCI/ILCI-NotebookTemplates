{
 "cells": [
  {
   "cell_type": "markdown",
   "id": "34b6a187-ec74-4d8f-b4b2-feb22ff5d72b",
   "metadata": {},
   "source": [
    "# Tutorial: Filter genotype data with rTASSEL "
   ]
  },
  {
   "cell_type": "markdown",
   "id": "989abfa6-ea72-4de4-9883-0b828a3e797e",
   "metadata": {},
   "source": [
    "## Enter your notebook title here\n",
    "\n",
    "**Objective**: Filter genotype data with rTASSEL  \n",
    "**Data**: Describe your data set here  \n",
    "**User and contact**: Enter your name and contact here\n",
    "\n",
    "### Table of contents\n",
    "* [Notes](#Notes) \n",
    "* [Libraries](#Libraries)\n",
    "* [Parameters and functions](#Parameters-and-functions)\n",
    "* [Data](#Data)\n",
    "* [Analysis](#Analysis)\n",
    "    * [Filter by variant site](#Filter-by-variant-site)\n",
    "        * [Examples](#Examples)\n",
    "    * [Filter by taxa](#Filter-by-taxa)\n",
    "        * [Examples](#Examples)\n",
    "    * [Filter by variant site and taxa](#Filter-by-variant-site-and-taxa)\n",
    "* [References and additional resources](#References-and-additional-resources)"
   ]
  },
  {
   "cell_type": "markdown",
   "id": "011b1582-a2c5-4798-bae8-ef738610c795",
   "metadata": {
    "tags": []
   },
   "source": [
    "## Notes\n",
    "\n",
    "This tutorial assumes: \n",
    "1. You already know how to load your data via a flat file into rTASSEL and have inspected your data:\n",
    "- See 01_rTASSEL_load_data.ipynb for a tutorial on how to load flat tiles into rTASSEL.\n",
    "\n",
    "2. It is up to you to determine what filters and values to apply to your data, this notebook describes the methods for applying filters only. \n",
    "- See [this paper](https://www.frontiersin.org/articles/10.3389/fgene.2020.00447/full) for a discussion on genotyping and data quality control. \n",
    "\n",
    "Additional documentation on filtering genotype data with rTASSEL can be found [here](http://rtassel.maizegenetics.net/articles/genotype_filtration.html)."
   ]
  },
  {
   "cell_type": "code",
   "execution_count": null,
   "id": "3c56a333-11ef-47da-be11-f54110119a93",
   "metadata": {},
   "outputs": [],
   "source": [
    "getwd()"
   ]
  },
  {
   "cell_type": "code",
   "execution_count": null,
   "id": "4880863b-6606-41bf-a41f-87b61307437c",
   "metadata": {
    "tags": []
   },
   "outputs": [],
   "source": [
    "Sys.Date()"
   ]
  },
  {
   "cell_type": "markdown",
   "id": "87a60a5d-0d5a-44ed-9280-76155325e9bb",
   "metadata": {},
   "source": [
    "## Libraries"
   ]
  },
  {
   "cell_type": "code",
   "execution_count": null,
   "id": "ed6c3d45-afb0-4720-adad-06751be2dd04",
   "metadata": {
    "tags": []
   },
   "outputs": [],
   "source": [
    "library(rTASSEL) #R interface to TASSEL"
   ]
  },
  {
   "cell_type": "markdown",
   "id": "bf0fc5ac-5015-48ac-ae07-1a01dfd97f00",
   "metadata": {},
   "source": [
    "## Parameters and functions"
   ]
  },
  {
   "cell_type": "markdown",
   "id": "85fb5d51-9b5b-4857-8a05-82cfba53f073",
   "metadata": {},
   "source": [
    "**Please edit with the path to your data**"
   ]
  },
  {
   "cell_type": "code",
   "execution_count": null,
   "id": "2974cf7d-b53f-40a2-b1a0-849fbb2bce35",
   "metadata": {
    "tags": []
   },
   "outputs": [],
   "source": [
    "# Path to genotype data\n",
    "myGenoPath <- \"/path/to/genotype/data\""
   ]
  },
  {
   "cell_type": "markdown",
   "id": "51e9f0b2-10b3-4d81-8384-43bc62428161",
   "metadata": {},
   "source": [
    "## Data"
   ]
  },
  {
   "cell_type": "markdown",
   "id": "7370fccb-08dd-42a0-aff2-eea930732537",
   "metadata": {},
   "source": [
    "Inspect genotype data in R"
   ]
  },
  {
   "cell_type": "code",
   "execution_count": null,
   "id": "7779222f-0a53-4231-8c95-c2bbd51f39cb",
   "metadata": {
    "tags": []
   },
   "outputs": [],
   "source": [
    "myGenoTable <- data.table::fread(myGenoPath)\n",
    "myGenoTable |> head()"
   ]
  },
  {
   "cell_type": "markdown",
   "id": "bf24c61a-8257-47ef-ae20-26a68af55419",
   "metadata": {
    "tags": []
   },
   "source": [
    "Load genotype data into rTASSEL"
   ]
  },
  {
   "cell_type": "code",
   "execution_count": null,
   "id": "23d86ead-7204-48ce-84df-62e8e58b98f9",
   "metadata": {
    "tags": []
   },
   "outputs": [],
   "source": [
    "tasGeno <- rTASSEL::readGenotypeTableFromPath(\n",
    "    path = myGenoPath\n",
    ")\n",
    "tasGeno"
   ]
  },
  {
   "cell_type": "markdown",
   "id": "660a09f8-46f8-4567-822d-d0b374013e4f",
   "metadata": {},
   "source": [
    "## Analysis "
   ]
  },
  {
   "cell_type": "markdown",
   "id": "60767a9b-8671-4cca-b1ae-74884724443f",
   "metadata": {
    "tags": []
   },
   "source": [
    "### Filter by variant site"
   ]
  },
  {
   "cell_type": "markdown",
   "id": "7bb06bbc-4f78-467c-a3b3-b5efc1085953",
   "metadata": {
    "tags": []
   },
   "source": [
    "Filtering by variant site uses the method: `filterGenotypeTableSites()`  \n",
    "\n",
    "Variant sites can be filtered by:  \n",
    "\n",
    "* Genotype information\n",
    "    + `siteMinCount`\n",
    "    + `siteMinAlleleFreq`\n",
    "    + `siteMaxAlleleFreq`\n",
    "    + `minHeterozygous`\n",
    "    + `maxHeterozygous`\n",
    "* Indexed variant sites\n",
    "    + `startSite`\n",
    "    + `endSite`\n",
    "* Physical marker positions\n",
    "    + `startChr`\n",
    "    + `endChr`\n",
    "    + `startPos`\n",
    "    + `endPos`\n",
    "* R objects\n",
    "    + `gRangesObj`\n",
    "* External files\n",
    "    + `bedFile`\n",
    "    + `chrPosFile`"
   ]
  },
  {
   "cell_type": "markdown",
   "id": "a2f92e43-b17e-4eb6-bac7-cd890335b9ed",
   "metadata": {
    "tags": []
   },
   "source": [
    "#### Examples"
   ]
  },
  {
   "cell_type": "markdown",
   "id": "8811952e-91e5-4377-8093-99d61e15b86f",
   "metadata": {},
   "source": [
    "Filter by minor allele frequency (MAF):"
   ]
  },
  {
   "cell_type": "code",
   "execution_count": null,
   "id": "22999b7a-84d3-44c5-8ac5-3d1e2cb9bf62",
   "metadata": {
    "tags": []
   },
   "outputs": [],
   "source": [
    "tasGeno |> filterGenotypeTableSites(siteMinAlleleFreq = 0.05)"
   ]
  },
  {
   "cell_type": "markdown",
   "id": "2dd45e08-ad36-4894-9e2e-074884373bcb",
   "metadata": {},
   "source": [
    "Filter by max heterozygosity:"
   ]
  },
  {
   "cell_type": "code",
   "execution_count": null,
   "id": "2eb39b22-6606-4018-8f6f-16f93b2df335",
   "metadata": {
    "tags": []
   },
   "outputs": [],
   "source": [
    "tasGeno |> filterGenotypeTableSites(maxHeterozygous = 0.5)"
   ]
  },
  {
   "cell_type": "markdown",
   "id": "4ddad416-cf39-4338-b1f0-349203bfb37e",
   "metadata": {
    "tags": []
   },
   "source": [
    "Filter by MAF and max heterozygosity:"
   ]
  },
  {
   "cell_type": "code",
   "execution_count": null,
   "id": "a921a484-5199-4ca3-9056-da67cffc16cb",
   "metadata": {
    "tags": []
   },
   "outputs": [],
   "source": [
    "tasGeno |> filterGenotypeTableSites(siteMinAlleleFreq = 0.05,\n",
    "        maxHeterozygous = 0.5)"
   ]
  },
  {
   "cell_type": "markdown",
   "id": "cf656337-e62c-4178-b990-5b06f909577b",
   "metadata": {},
   "source": [
    "Filter using physical chromosome positions:"
   ]
  },
  {
   "cell_type": "code",
   "execution_count": null,
   "id": "2912c099-3d4b-417f-b73b-7e9969530a4a",
   "metadata": {
    "tags": []
   },
   "outputs": [],
   "source": [
    "tasGeno |>\n",
    "    filterGenotypeTableSites(\n",
    "        siteRangeFilterType = \"position\",\n",
    "        startChr = 9,\n",
    "        endChr = 10,\n",
    "        startPos = 250,\n",
    "        endPos = 700\n",
    "    )"
   ]
  },
  {
   "cell_type": "markdown",
   "id": "5e5ce203-4f76-43c9-82f6-cfe04c4797c2",
   "metadata": {},
   "source": [
    "Filter with a bedfile of positions (edit code with your bedfile name):"
   ]
  },
  {
   "cell_type": "code",
   "execution_count": null,
   "id": "19703028-485a-4092-a7f1-e7d87bafe9c3",
   "metadata": {
    "tags": []
   },
   "outputs": [],
   "source": [
    "tasGeno |>\n",
    "    filterGenotypeTableSites(\n",
    "        siteRangeFilterType = \"none\",\n",
    "        bedFile = \"my_ranges.bed\"\n",
    "    )"
   ]
  },
  {
   "cell_type": "markdown",
   "id": "7fae9993-0a71-4dd3-ac4c-aadab23a846a",
   "metadata": {
    "tags": []
   },
   "source": [
    "Create a new TASSEL object for your analysis to use in downstream analyses, for example:"
   ]
  },
  {
   "cell_type": "code",
   "execution_count": null,
   "id": "edfe57f5-9557-48a0-9ff0-0bce3b63297c",
   "metadata": {
    "tags": []
   },
   "outputs": [],
   "source": [
    "myFiltered_tasGeno <- tasGeno |>\n",
    "    filterGenotypeTableSites(\n",
    "        siteMinAlleleFreq = 0.05,\n",
    "        maxHeterozygous = 0.5\n",
    "    )"
   ]
  },
  {
   "cell_type": "markdown",
   "id": "5471085b-2e29-43f3-a4d8-7324928f3641",
   "metadata": {},
   "source": [
    "### Filter by taxa "
   ]
  },
  {
   "cell_type": "markdown",
   "id": "26d53906-3f77-4c4e-9d90-ca583f3dbf1f",
   "metadata": {
    "tags": []
   },
   "source": [
    "Filtering by taxa uses the method: `filterGenotypeTableTaxa()`  \n",
    "\n",
    "Variant sites can be filtered by:  \n",
    "\n",
    "* Genotype information\n",
    "  + `minNotMissing`\n",
    "  + `minHeterozygous`\n",
    "  + `maxHeterozygous`\n",
    "* R objects\n",
    "  + `taxa`"
   ]
  },
  {
   "cell_type": "markdown",
   "id": "86f34c66-0ee5-45eb-a180-fd75ae841d30",
   "metadata": {},
   "source": [
    "#### Examples"
   ]
  },
  {
   "cell_type": "markdown",
   "id": "aa3d9d5a-d1c2-4102-ab15-44531eeb0b85",
   "metadata": {
    "tags": []
   },
   "source": [
    "Filter taxa by frequency of variants called (not missing)\n",
    "In this example taxa with <80% variant sites (minNotMissing = 0.8) called are removed:"
   ]
  },
  {
   "cell_type": "code",
   "execution_count": null,
   "id": "0dc49037-1efc-4632-8827-65b1eade25e0",
   "metadata": {
    "tags": []
   },
   "outputs": [],
   "source": [
    "tasGeno |>\n",
    "    filterGenotypeTableTaxa(\n",
    "        minNotMissing = 0.8\n",
    "    )"
   ]
  },
  {
   "cell_type": "markdown",
   "id": "401eb465-c667-44d8-8b67-ffede9f0b79a",
   "metadata": {},
   "source": [
    "Filter taxa by max heterozygosity:"
   ]
  },
  {
   "cell_type": "code",
   "execution_count": null,
   "id": "ad311a2a-314e-47a7-befb-79debb439221",
   "metadata": {
    "tags": []
   },
   "outputs": [],
   "source": [
    "tasGeno |>\n",
    "    filterGenotypeTableTaxa(\n",
    "        maxHeterozygous = 0.1\n",
    "    )"
   ]
  },
  {
   "cell_type": "markdown",
   "id": "13813ecf-7a67-49e5-9c10-d8bd79914ea0",
   "metadata": {},
   "source": [
    "Filter taxa by a list of taxa IDs:"
   ]
  },
  {
   "cell_type": "code",
   "execution_count": null,
   "id": "fb613b15-cc51-444c-adf0-9b65c50e494c",
   "metadata": {
    "tags": []
   },
   "outputs": [],
   "source": [
    "myTaxa <- \"TaxaA, TaxaB, TaxaC\"\n",
    "\n",
    "tasGeno |>\n",
    "    filterGenotypeTableTaxa(\n",
    "        taxa = myTaxa\n",
    "    )"
   ]
  },
  {
   "cell_type": "markdown",
   "id": "c1cb78ce-3295-4072-b799-12e5afcaccde",
   "metadata": {},
   "source": [
    "### Filter by variant site and taxa"
   ]
  },
  {
   "cell_type": "code",
   "execution_count": null,
   "id": "3b4ab8c4-30c1-471c-a6f1-3330f4067765",
   "metadata": {
    "tags": []
   },
   "outputs": [],
   "source": [
    "tasGeno |>\n",
    "    filterGenotypeTableTaxa(\n",
    "        minNotMissing = .5\n",
    "    ) |>\n",
    "    filterGenotypeTableSites(\n",
    "        siteMinAlleleFreq = 0.05,\n",
    "        maxHeterozygous = 0.5\n",
    "    )"
   ]
  },
  {
   "cell_type": "markdown",
   "id": "d45c1554-ae62-42ed-b440-5ed1d93a0b46",
   "metadata": {},
   "source": [
    "## References and additional resources"
   ]
  },
  {
   "cell_type": "markdown",
   "id": "9287fa2e-ef58-47cb-959b-1c27b8e7de14",
   "metadata": {
    "tags": []
   },
   "source": [
    "To cite rTASSEL, please use the following citation:\n",
    "\n",
    "Monier et al., (2022). rTASSEL: An R interface to TASSEL for analyzing genomic diversity. Journal of Open Source Software, 7(76), 4530, https://doi.org/10.21105/joss.04530."
   ]
  },
  {
   "cell_type": "markdown",
   "id": "cbfd1d41-15ab-461f-bbc2-26799bc88d37",
   "metadata": {
    "tags": []
   },
   "source": [
    "You can find more information about rTASSEL [here](https://rtassel.maizegenetics.net)\n",
    "\n",
    "and an rTASSEL tutorial in binder [here](https://mybinder.org/v2/gh/btmonier/rTASSEL_sandbox/HEAD?labpath=getting_started.ipynb)."
   ]
  }
 ],
 "metadata": {
  "kernelspec": {
   "display_name": "R 4.1",
   "language": "R",
   "name": "ir4.1"
  },
  "language_info": {
   "codemirror_mode": "r",
   "file_extension": ".r",
   "mimetype": "text/x-r-source",
   "name": "R",
   "pygments_lexer": "r",
   "version": "4.1.2"
  }
 },
 "nbformat": 4,
 "nbformat_minor": 5
}
